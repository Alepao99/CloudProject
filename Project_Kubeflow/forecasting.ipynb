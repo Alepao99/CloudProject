{
 "cells": [
  {
   "cell_type": "code",
   "execution_count": 57,
   "metadata": {
    "tags": []
   },
   "outputs": [
    {
     "name": "stdout",
     "output_type": "stream",
     "text": [
      "Requirement already satisfied: neuralprophet in ./.local/lib/python3.8/site-packages (from -r requirements.txt (line 1)) (0.5.0)\n",
      "Requirement already satisfied: torch>=1.8.0 in ./.local/lib/python3.8/site-packages (from neuralprophet->-r requirements.txt (line 1)) (1.13.1)\n",
      "Requirement already satisfied: pandas>=1.0.4 in /usr/local/lib/python3.8/dist-packages (from neuralprophet->-r requirements.txt (line 1)) (1.4.4)\n",
      "Requirement already satisfied: ipywidgets>=7.5.1 in /usr/local/lib/python3.8/dist-packages (from neuralprophet->-r requirements.txt (line 1)) (8.0.2)\n",
      "Requirement already satisfied: torchmetrics==0.9.3 in ./.local/lib/python3.8/site-packages (from neuralprophet->-r requirements.txt (line 1)) (0.9.3)\n",
      "Requirement already satisfied: plotly>=4.14.3 in ./.local/lib/python3.8/site-packages (from neuralprophet->-r requirements.txt (line 1)) (5.11.0)\n",
      "Requirement already satisfied: matplotlib>=2.0.0 in /usr/local/lib/python3.8/dist-packages (from neuralprophet->-r requirements.txt (line 1)) (3.3.4)\n",
      "Requirement already satisfied: pytorch-lightning==1.7.4 in ./.local/lib/python3.8/site-packages (from neuralprophet->-r requirements.txt (line 1)) (1.7.4)\n",
      "Requirement already satisfied: python-dateutil>=2.8.0 in /usr/local/lib/python3.8/dist-packages (from neuralprophet->-r requirements.txt (line 1)) (2.8.2)\n",
      "Requirement already satisfied: captum>=0.5.0 in ./.local/lib/python3.8/site-packages (from neuralprophet->-r requirements.txt (line 1)) (0.5.0)\n",
      "Requirement already satisfied: convertdate>=2.1.2 in ./.local/lib/python3.8/site-packages (from neuralprophet->-r requirements.txt (line 1)) (2.4.0)\n",
      "Requirement already satisfied: rich==12.4.4 in ./.local/lib/python3.8/site-packages (from neuralprophet->-r requirements.txt (line 1)) (12.4.4)\n",
      "Requirement already satisfied: numpy>=1.15.4 in /usr/local/lib/python3.8/dist-packages (from neuralprophet->-r requirements.txt (line 1)) (1.19.5)\n",
      "Requirement already satisfied: holidays>=0.11.3.1 in ./.local/lib/python3.8/site-packages (from neuralprophet->-r requirements.txt (line 1)) (0.17.2)\n",
      "Requirement already satisfied: LunarCalendar>=0.0.9 in ./.local/lib/python3.8/site-packages (from neuralprophet->-r requirements.txt (line 1)) (0.0.9)\n",
      "Requirement already satisfied: typing-extensions>=4.0.0 in ./.local/lib/python3.8/site-packages (from pytorch-lightning==1.7.4->neuralprophet->-r requirements.txt (line 1)) (4.4.0)\n",
      "Requirement already satisfied: fsspec[http]!=2021.06.0,>=2021.05.0 in /usr/local/lib/python3.8/dist-packages (from pytorch-lightning==1.7.4->neuralprophet->-r requirements.txt (line 1)) (2022.10.0)\n",
      "Requirement already satisfied: PyYAML>=5.4 in /usr/local/lib/python3.8/dist-packages (from pytorch-lightning==1.7.4->neuralprophet->-r requirements.txt (line 1)) (5.4.1)\n",
      "Requirement already satisfied: tensorboard>=2.9.1 in ./.local/lib/python3.8/site-packages (from pytorch-lightning==1.7.4->neuralprophet->-r requirements.txt (line 1)) (2.11.0)\n",
      "Requirement already satisfied: tqdm>=4.57.0 in ./.local/lib/python3.8/site-packages (from pytorch-lightning==1.7.4->neuralprophet->-r requirements.txt (line 1)) (4.64.1)\n",
      "Requirement already satisfied: pyDeprecate>=0.3.1 in ./.local/lib/python3.8/site-packages (from pytorch-lightning==1.7.4->neuralprophet->-r requirements.txt (line 1)) (0.3.2)\n",
      "Requirement already satisfied: packaging>=17.0 in /usr/local/lib/python3.8/dist-packages (from pytorch-lightning==1.7.4->neuralprophet->-r requirements.txt (line 1)) (21.3)\n",
      "Requirement already satisfied: commonmark<0.10.0,>=0.9.0 in ./.local/lib/python3.8/site-packages (from rich==12.4.4->neuralprophet->-r requirements.txt (line 1)) (0.9.1)\n",
      "Requirement already satisfied: pygments<3.0.0,>=2.6.0 in /usr/local/lib/python3.8/dist-packages (from rich==12.4.4->neuralprophet->-r requirements.txt (line 1)) (2.13.0)\n",
      "Requirement already satisfied: pymeeus<=1,>=0.3.13 in ./.local/lib/python3.8/site-packages (from convertdate>=2.1.2->neuralprophet->-r requirements.txt (line 1)) (0.5.12)\n",
      "Requirement already satisfied: korean-lunar-calendar in ./.local/lib/python3.8/site-packages (from holidays>=0.11.3.1->neuralprophet->-r requirements.txt (line 1)) (0.3.1)\n",
      "Requirement already satisfied: hijri-converter in ./.local/lib/python3.8/site-packages (from holidays>=0.11.3.1->neuralprophet->-r requirements.txt (line 1)) (2.2.4)\n",
      "Requirement already satisfied: widgetsnbextension~=4.0 in /usr/local/lib/python3.8/dist-packages (from ipywidgets>=7.5.1->neuralprophet->-r requirements.txt (line 1)) (4.0.3)\n",
      "Requirement already satisfied: ipython>=6.1.0 in /usr/local/lib/python3.8/dist-packages (from ipywidgets>=7.5.1->neuralprophet->-r requirements.txt (line 1)) (8.5.0)\n",
      "Requirement already satisfied: traitlets>=4.3.1 in /usr/local/lib/python3.8/dist-packages (from ipywidgets>=7.5.1->neuralprophet->-r requirements.txt (line 1)) (5.5.0)\n",
      "Requirement already satisfied: ipykernel>=4.5.1 in /usr/local/lib/python3.8/dist-packages (from ipywidgets>=7.5.1->neuralprophet->-r requirements.txt (line 1)) (6.16.1)\n",
      "Requirement already satisfied: jupyterlab-widgets~=3.0 in /usr/local/lib/python3.8/dist-packages (from ipywidgets>=7.5.1->neuralprophet->-r requirements.txt (line 1)) (3.0.3)\n",
      "Requirement already satisfied: pytz in /usr/local/lib/python3.8/dist-packages (from LunarCalendar>=0.0.9->neuralprophet->-r requirements.txt (line 1)) (2022.5)\n",
      "Requirement already satisfied: ephem>=3.7.5.3 in ./.local/lib/python3.8/site-packages (from LunarCalendar>=0.0.9->neuralprophet->-r requirements.txt (line 1)) (4.1.3)\n",
      "Requirement already satisfied: cycler>=0.10 in /usr/local/lib/python3.8/dist-packages (from matplotlib>=2.0.0->neuralprophet->-r requirements.txt (line 1)) (0.11.0)\n",
      "Requirement already satisfied: pillow>=6.2.0 in /usr/local/lib/python3.8/dist-packages (from matplotlib>=2.0.0->neuralprophet->-r requirements.txt (line 1)) (9.2.0)\n",
      "Requirement already satisfied: pyparsing!=2.0.4,!=2.1.2,!=2.1.6,>=2.0.3 in /usr/local/lib/python3.8/dist-packages (from matplotlib>=2.0.0->neuralprophet->-r requirements.txt (line 1)) (3.0.9)\n",
      "Requirement already satisfied: kiwisolver>=1.0.1 in /usr/local/lib/python3.8/dist-packages (from matplotlib>=2.0.0->neuralprophet->-r requirements.txt (line 1)) (1.4.4)\n",
      "Requirement already satisfied: tenacity>=6.2.0 in ./.local/lib/python3.8/site-packages (from plotly>=4.14.3->neuralprophet->-r requirements.txt (line 1)) (8.1.0)\n",
      "Requirement already satisfied: six>=1.5 in /usr/local/lib/python3.8/dist-packages (from python-dateutil>=2.8.0->neuralprophet->-r requirements.txt (line 1)) (1.16.0)\n",
      "Requirement already satisfied: nvidia-cublas-cu11==11.10.3.66 in ./.local/lib/python3.8/site-packages (from torch>=1.8.0->neuralprophet->-r requirements.txt (line 1)) (11.10.3.66)\n",
      "Requirement already satisfied: nvidia-cudnn-cu11==8.5.0.96 in ./.local/lib/python3.8/site-packages (from torch>=1.8.0->neuralprophet->-r requirements.txt (line 1)) (8.5.0.96)\n",
      "Requirement already satisfied: nvidia-cuda-runtime-cu11==11.7.99 in ./.local/lib/python3.8/site-packages (from torch>=1.8.0->neuralprophet->-r requirements.txt (line 1)) (11.7.99)\n",
      "Requirement already satisfied: nvidia-cuda-nvrtc-cu11==11.7.99 in ./.local/lib/python3.8/site-packages (from torch>=1.8.0->neuralprophet->-r requirements.txt (line 1)) (11.7.99)\n",
      "Requirement already satisfied: setuptools in /usr/local/lib/python3.8/dist-packages (from nvidia-cublas-cu11==11.10.3.66->torch>=1.8.0->neuralprophet->-r requirements.txt (line 1)) (62.0.0)\n",
      "Requirement already satisfied: wheel in /usr/lib/python3/dist-packages (from nvidia-cublas-cu11==11.10.3.66->torch>=1.8.0->neuralprophet->-r requirements.txt (line 1)) (0.30.0)\n",
      "Requirement already satisfied: requests in /usr/local/lib/python3.8/dist-packages (from fsspec[http]!=2021.06.0,>=2021.05.0->pytorch-lightning==1.7.4->neuralprophet->-r requirements.txt (line 1)) (2.28.1)\n",
      "Requirement already satisfied: aiohttp!=4.0.0a0,!=4.0.0a1 in /usr/local/lib/python3.8/dist-packages (from fsspec[http]!=2021.06.0,>=2021.05.0->pytorch-lightning==1.7.4->neuralprophet->-r requirements.txt (line 1)) (3.8.3)\n",
      "Requirement already satisfied: debugpy>=1.0 in /usr/local/lib/python3.8/dist-packages (from ipykernel>=4.5.1->ipywidgets>=7.5.1->neuralprophet->-r requirements.txt (line 1)) (1.6.3)\n",
      "Requirement already satisfied: tornado>=6.1 in /usr/local/lib/python3.8/dist-packages (from ipykernel>=4.5.1->ipywidgets>=7.5.1->neuralprophet->-r requirements.txt (line 1)) (6.1)\n",
      "Requirement already satisfied: matplotlib-inline>=0.1 in /usr/local/lib/python3.8/dist-packages (from ipykernel>=4.5.1->ipywidgets>=7.5.1->neuralprophet->-r requirements.txt (line 1)) (0.1.6)\n",
      "Requirement already satisfied: pyzmq>=17 in /usr/local/lib/python3.8/dist-packages (from ipykernel>=4.5.1->ipywidgets>=7.5.1->neuralprophet->-r requirements.txt (line 1)) (24.0.1)\n",
      "Requirement already satisfied: jupyter-client>=6.1.12 in /usr/local/lib/python3.8/dist-packages (from ipykernel>=4.5.1->ipywidgets>=7.5.1->neuralprophet->-r requirements.txt (line 1)) (6.1.12)\n",
      "Requirement already satisfied: psutil in /usr/local/lib/python3.8/dist-packages (from ipykernel>=4.5.1->ipywidgets>=7.5.1->neuralprophet->-r requirements.txt (line 1)) (5.9.3)\n",
      "Requirement already satisfied: nest-asyncio in /usr/local/lib/python3.8/dist-packages (from ipykernel>=4.5.1->ipywidgets>=7.5.1->neuralprophet->-r requirements.txt (line 1)) (1.5.6)\n",
      "Requirement already satisfied: pexpect>4.3 in /usr/local/lib/python3.8/dist-packages (from ipython>=6.1.0->ipywidgets>=7.5.1->neuralprophet->-r requirements.txt (line 1)) (4.8.0)\n",
      "Requirement already satisfied: pickleshare in /usr/local/lib/python3.8/dist-packages (from ipython>=6.1.0->ipywidgets>=7.5.1->neuralprophet->-r requirements.txt (line 1)) (0.7.5)\n",
      "Requirement already satisfied: stack-data in /usr/local/lib/python3.8/dist-packages (from ipython>=6.1.0->ipywidgets>=7.5.1->neuralprophet->-r requirements.txt (line 1)) (0.5.1)\n",
      "Requirement already satisfied: decorator in /usr/local/lib/python3.8/dist-packages (from ipython>=6.1.0->ipywidgets>=7.5.1->neuralprophet->-r requirements.txt (line 1)) (5.1.1)\n",
      "Requirement already satisfied: backcall in /usr/local/lib/python3.8/dist-packages (from ipython>=6.1.0->ipywidgets>=7.5.1->neuralprophet->-r requirements.txt (line 1)) (0.2.0)\n",
      "Requirement already satisfied: jedi>=0.16 in /usr/local/lib/python3.8/dist-packages (from ipython>=6.1.0->ipywidgets>=7.5.1->neuralprophet->-r requirements.txt (line 1)) (0.18.1)\n",
      "Requirement already satisfied: prompt-toolkit<3.1.0,>3.0.1 in /usr/local/lib/python3.8/dist-packages (from ipython>=6.1.0->ipywidgets>=7.5.1->neuralprophet->-r requirements.txt (line 1)) (3.0.31)\n",
      "Requirement already satisfied: tensorboard-plugin-wit>=1.6.0 in ./.local/lib/python3.8/site-packages (from tensorboard>=2.9.1->pytorch-lightning==1.7.4->neuralprophet->-r requirements.txt (line 1)) (1.8.1)\n",
      "Requirement already satisfied: werkzeug>=1.0.1 in ./.local/lib/python3.8/site-packages (from tensorboard>=2.9.1->pytorch-lightning==1.7.4->neuralprophet->-r requirements.txt (line 1)) (2.2.2)\n",
      "Requirement already satisfied: google-auth<3,>=1.6.3 in /usr/local/lib/python3.8/dist-packages (from tensorboard>=2.9.1->pytorch-lightning==1.7.4->neuralprophet->-r requirements.txt (line 1)) (1.34.0)\n",
      "Requirement already satisfied: grpcio>=1.24.3 in /usr/local/lib/python3.8/dist-packages (from tensorboard>=2.9.1->pytorch-lightning==1.7.4->neuralprophet->-r requirements.txt (line 1)) (1.50.0)\n",
      "Requirement already satisfied: markdown>=2.6.8 in ./.local/lib/python3.8/site-packages (from tensorboard>=2.9.1->pytorch-lightning==1.7.4->neuralprophet->-r requirements.txt (line 1)) (3.4.1)\n",
      "Requirement already satisfied: google-auth-oauthlib<0.5,>=0.4.1 in ./.local/lib/python3.8/site-packages (from tensorboard>=2.9.1->pytorch-lightning==1.7.4->neuralprophet->-r requirements.txt (line 1)) (0.4.6)\n",
      "Requirement already satisfied: protobuf<4,>=3.9.2 in /usr/local/lib/python3.8/dist-packages (from tensorboard>=2.9.1->pytorch-lightning==1.7.4->neuralprophet->-r requirements.txt (line 1)) (3.20.1)\n",
      "Requirement already satisfied: absl-py>=0.4 in /usr/local/lib/python3.8/dist-packages (from tensorboard>=2.9.1->pytorch-lightning==1.7.4->neuralprophet->-r requirements.txt (line 1)) (0.11.0)\n",
      "Requirement already satisfied: tensorboard-data-server<0.7.0,>=0.6.0 in ./.local/lib/python3.8/site-packages (from tensorboard>=2.9.1->pytorch-lightning==1.7.4->neuralprophet->-r requirements.txt (line 1)) (0.6.1)\n",
      "Requirement already satisfied: yarl<2.0,>=1.0 in /usr/local/lib/python3.8/dist-packages (from aiohttp!=4.0.0a0,!=4.0.0a1->fsspec[http]!=2021.06.0,>=2021.05.0->pytorch-lightning==1.7.4->neuralprophet->-r requirements.txt (line 1)) (1.8.1)\n",
      "Requirement already satisfied: multidict<7.0,>=4.5 in /usr/local/lib/python3.8/dist-packages (from aiohttp!=4.0.0a0,!=4.0.0a1->fsspec[http]!=2021.06.0,>=2021.05.0->pytorch-lightning==1.7.4->neuralprophet->-r requirements.txt (line 1)) (6.0.2)\n",
      "Requirement already satisfied: frozenlist>=1.1.1 in /usr/local/lib/python3.8/dist-packages (from aiohttp!=4.0.0a0,!=4.0.0a1->fsspec[http]!=2021.06.0,>=2021.05.0->pytorch-lightning==1.7.4->neuralprophet->-r requirements.txt (line 1)) (1.3.1)\n",
      "Requirement already satisfied: attrs>=17.3.0 in /usr/local/lib/python3.8/dist-packages (from aiohttp!=4.0.0a0,!=4.0.0a1->fsspec[http]!=2021.06.0,>=2021.05.0->pytorch-lightning==1.7.4->neuralprophet->-r requirements.txt (line 1)) (20.3.0)\n",
      "Requirement already satisfied: async-timeout<5.0,>=4.0.0a3 in /usr/local/lib/python3.8/dist-packages (from aiohttp!=4.0.0a0,!=4.0.0a1->fsspec[http]!=2021.06.0,>=2021.05.0->pytorch-lightning==1.7.4->neuralprophet->-r requirements.txt (line 1)) (4.0.2)\n",
      "Requirement already satisfied: charset-normalizer<3.0,>=2.0 in /usr/local/lib/python3.8/dist-packages (from aiohttp!=4.0.0a0,!=4.0.0a1->fsspec[http]!=2021.06.0,>=2021.05.0->pytorch-lightning==1.7.4->neuralprophet->-r requirements.txt (line 1)) (2.1.1)\n",
      "Requirement already satisfied: aiosignal>=1.1.2 in /usr/local/lib/python3.8/dist-packages (from aiohttp!=4.0.0a0,!=4.0.0a1->fsspec[http]!=2021.06.0,>=2021.05.0->pytorch-lightning==1.7.4->neuralprophet->-r requirements.txt (line 1)) (1.2.0)\n",
      "Requirement already satisfied: pyasn1-modules>=0.2.1 in /usr/local/lib/python3.8/dist-packages (from google-auth<3,>=1.6.3->tensorboard>=2.9.1->pytorch-lightning==1.7.4->neuralprophet->-r requirements.txt (line 1)) (0.2.8)\n",
      "Requirement already satisfied: rsa<5,>=3.1.4 in /usr/local/lib/python3.8/dist-packages (from google-auth<3,>=1.6.3->tensorboard>=2.9.1->pytorch-lightning==1.7.4->neuralprophet->-r requirements.txt (line 1)) (4.9)\n",
      "Requirement already satisfied: cachetools<5.0,>=2.0.0 in /usr/local/lib/python3.8/dist-packages (from google-auth<3,>=1.6.3->tensorboard>=2.9.1->pytorch-lightning==1.7.4->neuralprophet->-r requirements.txt (line 1)) (4.2.2)\n",
      "Requirement already satisfied: requests-oauthlib>=0.7.0 in /usr/local/lib/python3.8/dist-packages (from google-auth-oauthlib<0.5,>=0.4.1->tensorboard>=2.9.1->pytorch-lightning==1.7.4->neuralprophet->-r requirements.txt (line 1)) (1.3.1)\n",
      "Requirement already satisfied: parso<0.9.0,>=0.8.0 in /usr/local/lib/python3.8/dist-packages (from jedi>=0.16->ipython>=6.1.0->ipywidgets>=7.5.1->neuralprophet->-r requirements.txt (line 1)) (0.8.3)\n",
      "Requirement already satisfied: jupyter-core>=4.6.0 in /usr/local/lib/python3.8/dist-packages (from jupyter-client>=6.1.12->ipykernel>=4.5.1->ipywidgets>=7.5.1->neuralprophet->-r requirements.txt (line 1)) (4.11.2)\n",
      "Requirement already satisfied: importlib-metadata>=4.4 in /usr/local/lib/python3.8/dist-packages (from markdown>=2.6.8->tensorboard>=2.9.1->pytorch-lightning==1.7.4->neuralprophet->-r requirements.txt (line 1)) (5.0.0)\n",
      "Requirement already satisfied: ptyprocess>=0.5 in /usr/local/lib/python3.8/dist-packages (from pexpect>4.3->ipython>=6.1.0->ipywidgets>=7.5.1->neuralprophet->-r requirements.txt (line 1)) (0.7.0)\n",
      "Requirement already satisfied: wcwidth in /usr/local/lib/python3.8/dist-packages (from prompt-toolkit<3.1.0,>3.0.1->ipython>=6.1.0->ipywidgets>=7.5.1->neuralprophet->-r requirements.txt (line 1)) (0.2.5)\n",
      "Requirement already satisfied: certifi>=2017.4.17 in /usr/local/lib/python3.8/dist-packages (from requests->fsspec[http]!=2021.06.0,>=2021.05.0->pytorch-lightning==1.7.4->neuralprophet->-r requirements.txt (line 1)) (2021.5.30)\n",
      "Requirement already satisfied: idna<4,>=2.5 in /usr/local/lib/python3.8/dist-packages (from requests->fsspec[http]!=2021.06.0,>=2021.05.0->pytorch-lightning==1.7.4->neuralprophet->-r requirements.txt (line 1)) (3.2)\n",
      "Requirement already satisfied: urllib3<1.27,>=1.21.1 in /usr/local/lib/python3.8/dist-packages (from requests->fsspec[http]!=2021.06.0,>=2021.05.0->pytorch-lightning==1.7.4->neuralprophet->-r requirements.txt (line 1)) (1.26.12)\n",
      "Requirement already satisfied: MarkupSafe>=2.1.1 in /usr/local/lib/python3.8/dist-packages (from werkzeug>=1.0.1->tensorboard>=2.9.1->pytorch-lightning==1.7.4->neuralprophet->-r requirements.txt (line 1)) (2.1.1)\n",
      "Requirement already satisfied: asttokens in /usr/local/lib/python3.8/dist-packages (from stack-data->ipython>=6.1.0->ipywidgets>=7.5.1->neuralprophet->-r requirements.txt (line 1)) (2.0.8)\n",
      "Requirement already satisfied: executing in /usr/local/lib/python3.8/dist-packages (from stack-data->ipython>=6.1.0->ipywidgets>=7.5.1->neuralprophet->-r requirements.txt (line 1)) (1.1.1)\n",
      "Requirement already satisfied: pure-eval in /usr/local/lib/python3.8/dist-packages (from stack-data->ipython>=6.1.0->ipywidgets>=7.5.1->neuralprophet->-r requirements.txt (line 1)) (0.2.2)\n",
      "Requirement already satisfied: zipp>=0.5 in /usr/local/lib/python3.8/dist-packages (from importlib-metadata>=4.4->markdown>=2.6.8->tensorboard>=2.9.1->pytorch-lightning==1.7.4->neuralprophet->-r requirements.txt (line 1)) (3.10.0)\n",
      "Requirement already satisfied: pyasn1<0.5.0,>=0.4.6 in /usr/local/lib/python3.8/dist-packages (from pyasn1-modules>=0.2.1->google-auth<3,>=1.6.3->tensorboard>=2.9.1->pytorch-lightning==1.7.4->neuralprophet->-r requirements.txt (line 1)) (0.4.8)\n",
      "Requirement already satisfied: oauthlib>=3.0.0 in /usr/local/lib/python3.8/dist-packages (from requests-oauthlib>=0.7.0->google-auth-oauthlib<0.5,>=0.4.1->tensorboard>=2.9.1->pytorch-lightning==1.7.4->neuralprophet->-r requirements.txt (line 1)) (3.2.2)\n",
      "\u001b[33mWARNING: You are using pip version 22.0.4; however, version 22.3.1 is available.\n",
      "You should consider upgrading via the '/usr/bin/python3 -m pip install --upgrade pip' command.\u001b[0m\u001b[33m\n",
      "\u001b[0m"
     ]
    }
   ],
   "source": [
    "!pip install --user -r requirements.txt"
   ]
  },
  {
   "cell_type": "code",
   "execution_count": 58,
   "metadata": {
    "kubeflow_notebook": {
     "deploy_config": {
      "affinity": {},
      "annotations": {},
      "env": [],
      "env_from": [],
      "labels": {},
      "limits": {},
      "node_selector": {},
      "requests": {},
      "tolerations": []
     }
    },
    "tags": [
     "block:pre_process_europe"
    ]
   },
   "outputs": [],
   "source": [
    "import pandas as pd\n",
    "pd.options.mode.chained_assignment = None \n",
    "def pre_processing_data_europe(database):\n",
    "    df = pd.read_csv(database)\n",
    "    data = df.loc[df['Region'] == 'Europe']\n",
    "    new_column = data.groupby(['Date'])['AvgTemp'].mean().round(decimals = 3).reset_index()\n",
    "    new_column.dropna(inplace=True)\n",
    "    new_column.columns = ['ds', 'y']\n",
    "    pd.to_pickle(new_column, 'data/europe_dataset.pkl')\n",
    "    #new_column.to_csv('data/europe_dataset.csv', index = False)"
   ]
  },
  {
   "cell_type": "code",
   "execution_count": 59,
   "metadata": {
    "kubeflow_notebook": {
     "deploy_config": {
      "affinity": {},
      "annotations": {},
      "env": [],
      "env_from": [],
      "labels": {},
      "limits": {},
      "node_selector": {},
      "requests": {},
      "tolerations": []
     }
    },
    "tags": [
     "block:pre_process_madrid"
    ]
   },
   "outputs": [],
   "source": [
    "import pandas as pd\n",
    "pd.options.mode.chained_assignment = None \n",
    "def pre_processing_data_europe_madrid(database):\n",
    "    df = pd.read_csv(database)\n",
    "    data = df.loc[df['Region'] == 'Europe']\n",
    "    data = data[data['City'] == 'Madrid']\n",
    "    new_column = data.groupby(['Date'])['AvgTemp'].mean().round(decimals = 3).reset_index()\n",
    "    new_column.dropna(inplace=True)\n",
    "    new_column.columns = ['ds', 'y']\n",
    "    pd.to_pickle(new_column, 'data/europe_madrid_dataset.pkl')\n",
    "    #new_column.to_csv('data/europe_dataset.csv', index = False)"
   ]
  },
  {
   "cell_type": "code",
   "execution_count": 60,
   "metadata": {
    "kubeflow_notebook": {
     "deploy_config": {
      "affinity": {},
      "annotations": {},
      "env": [],
      "env_from": [],
      "labels": {},
      "limits": {},
      "node_selector": {},
      "requests": {},
      "tolerations": []
     }
    },
    "tags": [
     "block:pre_process_rome"
    ]
   },
   "outputs": [],
   "source": [
    "import pandas as pd\n",
    "pd.options.mode.chained_assignment = None \n",
    "def pre_processing_data_europe_rome(database):\n",
    "    df = pd.read_csv(database)\n",
    "    data = df.loc[df['Region'] == 'Europe']\n",
    "    data = data[data['City'] == 'Rome']\n",
    "    new_column = data.groupby(['Date'])['AvgTemp'].mean().round(decimals = 3).reset_index()\n",
    "    new_column.dropna(inplace=True)\n",
    "    new_column.columns = ['ds', 'y']\n",
    "    pd.to_pickle(new_column, 'data/europe_rome_dataset.pkl')\n",
    "    #new_column.to_csv('data/europe_dataset.csv', index = False)"
   ]
  },
  {
   "cell_type": "code",
   "execution_count": 61,
   "metadata": {
    "kubeflow_notebook": {
     "deploy_config": {
      "affinity": {},
      "annotations": {},
      "env": [],
      "env_from": [],
      "labels": {},
      "limits": {},
      "node_selector": {},
      "requests": {},
      "tolerations": []
     }
    },
    "tags": [
     "block:pre_process_paris"
    ]
   },
   "outputs": [],
   "source": [
    "import pandas as pd\n",
    "pd.options.mode.chained_assignment = None \n",
    "def pre_processing_data_europe_paris(database):\n",
    "    df = pd.read_csv(database)\n",
    "    data = df.loc[df['Region'] == 'Europe']\n",
    "    data = data[data['City'] == 'Paris']\n",
    "    new_column = data.groupby(['Date'])['AvgTemp'].mean().round(decimals = 3).reset_index()\n",
    "    new_column.dropna(inplace=True)\n",
    "    new_column.columns = ['ds', 'y']\n",
    "    pd.to_pickle(new_column, 'data/europe_paris_dataset.pkl')\n",
    "    #new_column.to_csv('data/europe_dataset.csv', index = False)"
   ]
  },
  {
   "cell_type": "code",
   "execution_count": 62,
   "metadata": {
    "kubeflow_notebook": {
     "deploy_config": {
      "affinity": {},
      "annotations": {},
      "env": [],
      "env_from": [],
      "labels": {},
      "limits": {},
      "node_selector": {},
      "requests": {},
      "tolerations": []
     }
    },
    "tags": [
     "block:pre_process_africa"
    ]
   },
   "outputs": [],
   "source": [
    "import pandas as pd\n",
    "pd.options.mode.chained_assignment = None \n",
    "def pre_processing_data_africa(database):\n",
    "    df = pd.read_csv(database)\n",
    "    data = df.loc[df['Region'] == 'Africa']\n",
    "    new_column = data.groupby(['Date'])['AvgTemp'].mean().round(decimals = 3).reset_index()\n",
    "    new_column.dropna(inplace=True)\n",
    "    new_column.columns = ['ds', 'y']\n",
    "    pd.to_pickle(new_column, 'data/africa_dataset.pkl')\n",
    "    #new_column.to_csv('data/africa_dataset.csv', index = False)\n"
   ]
  },
  {
   "cell_type": "code",
   "execution_count": 63,
   "metadata": {
    "kubeflow_notebook": {
     "deploy_config": {
      "affinity": {},
      "annotations": {},
      "env": [],
      "env_from": [],
      "labels": {},
      "limits": {},
      "node_selector": {},
      "requests": {},
      "tolerations": []
     }
    },
    "tags": [
     "block:pre_process_nairobi"
    ]
   },
   "outputs": [],
   "source": [
    "import pandas as pd\n",
    "pd.options.mode.chained_assignment = None \n",
    "def pre_processing_data_africa_nairobi(database):\n",
    "    df = pd.read_csv(database)\n",
    "    data = df.loc[df['Region'] == 'Africa']\n",
    "    data = data[data['City'] == 'Nairobi']\n",
    "    new_column = data.groupby(['Date'])['AvgTemp'].mean().round(decimals = 3).reset_index()\n",
    "    new_column.dropna(inplace=True)\n",
    "    new_column.columns = ['ds', 'y']\n",
    "    pd.to_pickle(new_column, 'data/africa_nairobi_dataset.pkl')\n",
    "    #new_column.to_csv('data/africa_dataset.csv', index = False)\n"
   ]
  },
  {
   "cell_type": "code",
   "execution_count": 64,
   "metadata": {
    "kubeflow_notebook": {
     "deploy_config": {
      "affinity": {},
      "annotations": {},
      "env": [],
      "env_from": [],
      "labels": {},
      "limits": {},
      "node_selector": {},
      "requests": {},
      "tolerations": []
     }
    },
    "tags": [
     "block:pre_process_dakar"
    ]
   },
   "outputs": [],
   "source": [
    "import pandas as pd\n",
    "pd.options.mode.chained_assignment = None \n",
    "def pre_processing_data_africa_dakar(database):\n",
    "    df = pd.read_csv(database)\n",
    "    data = df.loc[df['Region'] == 'Africa']\n",
    "    data = data[data['City'] == 'Dakar']     \n",
    "    new_column = data.groupby(['Date'])['AvgTemp'].mean().round(decimals = 3).reset_index()\n",
    "    new_column.dropna(inplace=True)\n",
    "    new_column.columns = ['ds', 'y']\n",
    "    pd.to_pickle(new_column, 'data/africa_dakar_dataset.pkl')\n",
    "    #new_column.to_csv('data/africa_dataset.csv', index = False)\n"
   ]
  },
  {
   "cell_type": "code",
   "execution_count": 65,
   "metadata": {
    "kubeflow_notebook": {
     "deploy_config": {
      "affinity": {},
      "annotations": {},
      "env": [],
      "env_from": [],
      "labels": {},
      "limits": {},
      "node_selector": {},
      "requests": {},
      "tolerations": []
     }
    },
    "tags": [
     "block:pre_process_um"
    ]
   },
   "outputs": [],
   "source": [
    "import pandas as pd\n",
    "pd.options.mode.chained_assignment = None \n",
    "def pre_processing_data_africa_um(database):\n",
    "    df = pd.read_csv(database)\n",
    "    data = df.loc[df['Region'] == 'Africa']\n",
    "    data = data[data['City'] == 'Um']\n",
    "    new_column = data.groupby(['Date'])['AvgTemp'].mean().round(decimals = 3).reset_index()\n",
    "    new_column.dropna(inplace=True)\n",
    "    new_column.columns = ['ds', 'y']\n",
    "    pd.to_pickle(new_column, 'data/africa_um_dataset.pkl')\n",
    "    #new_column.to_csv('data/africa_dataset.csv', index = False)\n"
   ]
  },
  {
   "cell_type": "code",
   "execution_count": 66,
   "metadata": {
    "kubeflow_notebook": {
     "deploy_config": {
      "affinity": {},
      "annotations": {},
      "env": [],
      "env_from": [],
      "labels": {},
      "limits": {},
      "node_selector": {},
      "requests": {},
      "tolerations": []
     }
    },
    "tags": [
     "block:pre_process_asia"
    ]
   },
   "outputs": [],
   "source": [
    "import pandas as pd\n",
    "pd.options.mode.chained_assignment = None \n",
    "def pre_processing_data_asia(database):\n",
    "    df = pd.read_csv(database)\n",
    "    data = df.loc[df['Region'] == 'Asia']\n",
    "    new_column = data.groupby(['Date'])['AvgTemp'].mean().round(decimals = 3).reset_index()\n",
    "    new_column.dropna(inplace=True)\n",
    "    new_column.columns = ['ds', 'y']\n",
    "    pd.to_pickle(new_column, 'data/asia_dataset.pkl')\n",
    "    #new_column.to_csv('data/africa_dataset.csv', index = False)"
   ]
  },
  {
   "cell_type": "code",
   "execution_count": 67,
   "metadata": {
    "kubeflow_notebook": {
     "deploy_config": {
      "affinity": {},
      "annotations": {},
      "env": [],
      "env_from": [],
      "labels": {},
      "limits": {},
      "node_selector": {},
      "requests": {},
      "tolerations": []
     }
    },
    "tags": [
     "block:pre_process_bombay"
    ]
   },
   "outputs": [],
   "source": [
    "import pandas as pd\n",
    "pd.options.mode.chained_assignment = None \n",
    "def pre_processing_data_asia_bombay(database):\n",
    "    df = pd.read_csv(database)\n",
    "    data = df.loc[df['Region'] == 'Asia']\n",
    "    data = data[data['City'] == 'Bombay']\n",
    "    new_column = data.groupby(['Date'])['AvgTemp'].mean().round(decimals = 3).reset_index()\n",
    "    new_column.dropna(inplace=True)\n",
    "    new_column.columns = ['ds', 'y']\n",
    "    pd.to_pickle(new_column, 'data/asia_bombay_dataset.pkl')\n",
    "    #new_column.to_csv('data/africa_dataset.csv', index = False)"
   ]
  },
  {
   "cell_type": "code",
   "execution_count": 68,
   "metadata": {
    "kubeflow_notebook": {
     "deploy_config": {
      "affinity": {},
      "annotations": {},
      "env": [],
      "env_from": [],
      "labels": {},
      "limits": {},
      "node_selector": {},
      "requests": {},
      "tolerations": []
     }
    },
    "tags": [
     "block:pre_process_bangkok"
    ]
   },
   "outputs": [],
   "source": [
    "import pandas as pd\n",
    "pd.options.mode.chained_assignment = None \n",
    "def pre_processing_data_asia_bangkok(database):\n",
    "    df = pd.read_csv(database)\n",
    "    data = df.loc[df['Region'] == 'Asia']\n",
    "    data = data[data['City'] == 'Bangkok']\n",
    "    new_column = data.groupby(['Date'])['AvgTemp'].mean().round(decimals = 3).reset_index()\n",
    "    new_column.dropna(inplace=True)\n",
    "    new_column.columns = ['ds', 'y']\n",
    "    pd.to_pickle(new_column, 'data/asia_bangkok_dataset.pkl')\n",
    "    #new_column.to_csv('data/africa_dataset.csv', index = False)"
   ]
  },
  {
   "cell_type": "code",
   "execution_count": 69,
   "metadata": {
    "tags": [
     "block:pre_process_singapore"
    ]
   },
   "outputs": [],
   "source": [
    "import pandas as pd\n",
    "pd.options.mode.chained_assignment = None \n",
    "def pre_processing_data_asia_singapore(database):\n",
    "    df = pd.read_csv(database)\n",
    "    data = df.loc[df['Region'] == 'Asia']\n",
    "    data = data[data['City'] == 'Singapore']\n",
    "    new_column = data.groupby(['Date'])['AvgTemp'].mean().round(decimals = 3).reset_index()\n",
    "    new_column.dropna(inplace=True)\n",
    "    new_column.columns = ['ds', 'y']\n",
    "    pd.to_pickle(new_column, 'data/asia_singapore_dataset.pkl')\n",
    "    #new_column.to_csv('data/africa_dataset.csv', index = False)"
   ]
  },
  {
   "cell_type": "code",
   "execution_count": 70,
   "metadata": {
    "kubeflow_notebook": {
     "deploy_config": {
      "affinity": {},
      "annotations": {},
      "env": [],
      "env_from": [],
      "labels": {},
      "limits": {},
      "node_selector": {},
      "requests": {},
      "tolerations": []
     }
    },
    "tags": [
     "block:forecasting_europe",
     "prev:pre_process_europe"
    ]
   },
   "outputs": [],
   "source": [
    "from neuralprophet import NeuralProphet\n",
    "def model_europe(data_file):\n",
    "    df = pd.read_pickle(data_file)\n",
    "    n = NeuralProphet(weekly_seasonality=True, daily_seasonality=True)\n",
    "    model = n.fit(df, freq='MS', epochs=100)\n",
    "    future = n.make_future_dataframe(df, periods=150)\n",
    "    forecast = n.predict(future)\n",
    "    data = forecast.drop(['y', 'trend', 'season_yearly'], axis=1)\n",
    "    out_result_df = pd.concat([df, data], axis=0)\n",
    "    out_result_df['ds'] = pd.to_datetime(out_result_df['ds'])\n",
    "    pd.to_pickle(out_result_df, 'data/forecasting/europe_forecasting.pkl')"
   ]
  },
  {
   "cell_type": "code",
   "execution_count": 71,
   "metadata": {
    "kubeflow_notebook": {
     "deploy_config": {
      "affinity": {},
      "annotations": {},
      "env": [],
      "env_from": [],
      "labels": {},
      "limits": {},
      "node_selector": {},
      "requests": {},
      "tolerations": []
     }
    },
    "tags": [
     "block:metrics_europe",
     "prev:forecasting_europe"
    ]
   },
   "outputs": [],
   "source": [
    "from neuralprophet import NeuralProphet\n",
    "def model_europe_metrics(data_file):\n",
    "    df = pd.read_pickle(data_file)\n",
    "    n = NeuralProphet(weekly_seasonality=True, daily_seasonality=True)\n",
    "    df_train, df_test = n.split_df(df=df, freq=\"MS\", valid_p=0.2)\n",
    "    metrics_train = n.fit(df=df_train, freq=\"MS\")\n",
    "    metrics_test = n.test(df=df_test)\n",
    "    return metrics_test"
   ]
  },
  {
   "cell_type": "code",
   "execution_count": 72,
   "metadata": {
    "kubeflow_notebook": {
     "deploy_config": {
      "affinity": {},
      "annotations": {},
      "env": [],
      "env_from": [],
      "labels": {},
      "limits": {},
      "node_selector": {},
      "requests": {},
      "tolerations": []
     }
    },
    "tags": [
     "block:forecasting_madrid",
     "prev:pre_process_madrid"
    ]
   },
   "outputs": [],
   "source": [
    "from neuralprophet import NeuralProphet\n",
    "def model_europe_madrid(data_file):\n",
    "    df = pd.read_pickle(data_file)\n",
    "    n = NeuralProphet(weekly_seasonality=True, daily_seasonality=True)\n",
    "    model = n.fit(df, freq='MS', epochs=100)\n",
    "    future = n.make_future_dataframe(df, periods=150)\n",
    "    forecast = n.predict(future)\n",
    "    data = forecast.drop(['y', 'trend', 'season_yearly'], axis=1)\n",
    "    out_result_df = pd.concat([df, data], axis=0)\n",
    "    out_result_df['ds'] = pd.to_datetime(out_result_df['ds'])\n",
    "    pd.to_pickle(out_result_df, 'data/forecasting/europe_madrid_forecasting.pkl')"
   ]
  },
  {
   "cell_type": "code",
   "execution_count": 73,
   "metadata": {
    "kubeflow_notebook": {
     "deploy_config": {
      "affinity": {},
      "annotations": {},
      "env": [],
      "env_from": [],
      "labels": {},
      "limits": {},
      "node_selector": {},
      "requests": {},
      "tolerations": []
     }
    },
    "tags": [
     "block:metrics_madrid",
     "prev:forecasting_madrid"
    ]
   },
   "outputs": [],
   "source": [
    "from neuralprophet import NeuralProphet\n",
    "def model_europe_metrics_madrid(data_file):\n",
    "    df = pd.read_pickle(data_file)\n",
    "    n = NeuralProphet(weekly_seasonality=True, daily_seasonality=True)\n",
    "    df_train, df_test = n.split_df(df=df, freq=\"MS\", valid_p=0.2)\n",
    "    metrics_train = n.fit(df=df_train, freq=\"MS\")\n",
    "    metrics_test = n.test(df=df_test)\n",
    "    return metrics_test"
   ]
  },
  {
   "cell_type": "code",
   "execution_count": 74,
   "metadata": {
    "kubeflow_notebook": {
     "deploy_config": {
      "affinity": {},
      "annotations": {},
      "env": [],
      "env_from": [],
      "labels": {},
      "limits": {},
      "node_selector": {},
      "requests": {},
      "tolerations": []
     }
    },
    "tags": [
     "block:forecasting_rome",
     "prev:pre_process_rome"
    ]
   },
   "outputs": [],
   "source": [
    "from neuralprophet import NeuralProphet\n",
    "def model_europe_rome(data_file):\n",
    "    df = pd.read_pickle(data_file)\n",
    "    n = NeuralProphet(weekly_seasonality=True, daily_seasonality=True)\n",
    "    model = n.fit(df, freq='MS', epochs=100)\n",
    "    future = n.make_future_dataframe(df, periods=150)\n",
    "    forecast = n.predict(future)\n",
    "    data = forecast.drop(['y', 'trend', 'season_yearly'], axis=1)\n",
    "    out_result_df = pd.concat([df, data], axis=0)\n",
    "    out_result_df['ds'] = pd.to_datetime(out_result_df['ds'])\n",
    "    pd.to_pickle(out_result_df, 'data/forecasting/europe_rome_forecasting.pkl')"
   ]
  },
  {
   "cell_type": "code",
   "execution_count": 75,
   "metadata": {
    "kubeflow_notebook": {
     "deploy_config": {
      "affinity": {},
      "annotations": {},
      "env": [],
      "env_from": [],
      "labels": {},
      "limits": {},
      "node_selector": {},
      "requests": {},
      "tolerations": []
     }
    },
    "tags": [
     "block:metrics_rome",
     "prev:forecasting_rome"
    ]
   },
   "outputs": [],
   "source": [
    "from neuralprophet import NeuralProphet\n",
    "def model_europe_metrics_rome(data_file):\n",
    "    df = pd.read_pickle(data_file)\n",
    "    n = NeuralProphet(weekly_seasonality=True, daily_seasonality=True)\n",
    "    df_train, df_test = n.split_df(df=df, freq=\"MS\", valid_p=0.2)\n",
    "    metrics_train = n.fit(df=df_train, freq=\"MS\")\n",
    "    metrics_test = n.test(df=df_test)\n",
    "    return metrics_test"
   ]
  },
  {
   "cell_type": "code",
   "execution_count": 76,
   "metadata": {
    "kubeflow_notebook": {
     "deploy_config": {
      "affinity": {},
      "annotations": {},
      "env": [],
      "env_from": [],
      "labels": {},
      "limits": {},
      "node_selector": {},
      "requests": {},
      "tolerations": []
     }
    },
    "tags": [
     "block:forecasting_paris",
     "prev:pre_process_paris"
    ]
   },
   "outputs": [],
   "source": [
    "from neuralprophet import NeuralProphet\n",
    "def model_europe_paris(data_file):\n",
    "    df = pd.read_pickle(data_file)\n",
    "    n = NeuralProphet(weekly_seasonality=True, daily_seasonality=True)\n",
    "    model = n.fit(df, freq='MS', epochs=100)\n",
    "    future = n.make_future_dataframe(df, periods=150)\n",
    "    forecast = n.predict(future)\n",
    "    data = forecast.drop(['y', 'trend', 'season_yearly'], axis=1)\n",
    "    out_result_df = pd.concat([df, data], axis=0)\n",
    "    out_result_df['ds'] = pd.to_datetime(out_result_df['ds'])\n",
    "    pd.to_pickle(out_result_df, 'data/forecasting/europe_paris_forecasting.pkl')"
   ]
  },
  {
   "cell_type": "code",
   "execution_count": 77,
   "metadata": {
    "kubeflow_notebook": {
     "deploy_config": {
      "affinity": {},
      "annotations": {},
      "env": [],
      "env_from": [],
      "labels": {},
      "limits": {},
      "node_selector": {},
      "requests": {},
      "tolerations": []
     }
    },
    "tags": [
     "block:metrics_paris",
     "prev:forecasting_paris"
    ]
   },
   "outputs": [],
   "source": [
    "from neuralprophet import NeuralProphet\n",
    "def model_europe_metrics_paris(data_file):\n",
    "    df = pd.read_pickle(data_file)\n",
    "    n = NeuralProphet(weekly_seasonality=True, daily_seasonality=True)\n",
    "    df_train, df_test = n.split_df(df=df, freq=\"MS\", valid_p=0.2)\n",
    "    metrics_train = n.fit(df=df_train, freq=\"MS\")\n",
    "    metrics_test = n.test(df=df_test)\n",
    "    return metrics_test"
   ]
  },
  {
   "cell_type": "code",
   "execution_count": 78,
   "metadata": {
    "kubeflow_notebook": {
     "deploy_config": {
      "affinity": {},
      "annotations": {},
      "env": [],
      "env_from": [],
      "labels": {},
      "limits": {},
      "node_selector": {},
      "requests": {},
      "tolerations": []
     }
    },
    "tags": [
     "block:forecasting_africa",
     "prev:pre_process_africa"
    ]
   },
   "outputs": [],
   "source": [
    "from neuralprophet import NeuralProphet\n",
    "import pandas as pd\n",
    "def model_africa(data_file):\n",
    "    df = pd.read_pickle(data_file)\n",
    "    n = NeuralProphet(weekly_seasonality=True, daily_seasonality=True)\n",
    "    model = n.fit(df, freq='MS', epochs=100)\n",
    "    future = n.make_future_dataframe(df, periods=150)\n",
    "    forecast = n.predict(future)\n",
    "    data = forecast.drop(['y', 'trend', 'season_yearly'], axis=1)\n",
    "    out_result_df = pd.concat([df, data], axis=0)\n",
    "    out_result_df['ds'] = pd.to_datetime(out_result_df['ds'])\n",
    "    pd.to_pickle(out_result_df, 'data/forecasting/africa_forecasting.pkl')"
   ]
  },
  {
   "cell_type": "code",
   "execution_count": 79,
   "metadata": {
    "kubeflow_notebook": {
     "deploy_config": {
      "affinity": {},
      "annotations": {},
      "env": [],
      "env_from": [],
      "labels": {},
      "limits": {},
      "node_selector": {},
      "requests": {},
      "tolerations": []
     }
    },
    "tags": [
     "block:metrics_africa",
     "prev:forecasting_africa"
    ]
   },
   "outputs": [],
   "source": [
    "from neuralprophet import NeuralProphet\n",
    "def model_africa_metrics(data_file):\n",
    "    df = pd.read_pickle(data_file)\n",
    "    n = NeuralProphet(weekly_seasonality=True, daily_seasonality=True)\n",
    "    df_train, df_test = n.split_df(df=df, freq=\"MS\", valid_p=0.2)\n",
    "    metrics_train = n.fit(df=df_train, freq=\"MS\")\n",
    "    metrics_test = n.test(df=df_test)\n",
    "    return metrics_test"
   ]
  },
  {
   "cell_type": "code",
   "execution_count": 80,
   "metadata": {
    "kubeflow_notebook": {
     "deploy_config": {
      "affinity": {},
      "annotations": {},
      "env": [],
      "env_from": [],
      "labels": {},
      "limits": {},
      "node_selector": {},
      "requests": {},
      "tolerations": []
     }
    },
    "tags": [
     "block:forecasting_nairobi",
     "prev:pre_process_nairobi"
    ]
   },
   "outputs": [],
   "source": [
    "from neuralprophet import NeuralProphet\n",
    "import pandas as pd\n",
    "def model_africa_nairobi(data_file):\n",
    "    df = pd.read_pickle(data_file)\n",
    "    n = NeuralProphet(weekly_seasonality=True, daily_seasonality=True)\n",
    "    model = n.fit(df, freq='MS', epochs=100)\n",
    "    future = n.make_future_dataframe(df, periods=150)\n",
    "    forecast = n.predict(future)\n",
    "    data = forecast.drop(['y', 'trend', 'season_yearly'], axis=1)\n",
    "    out_result_df = pd.concat([df, data], axis=0)\n",
    "    out_result_df['ds'] = pd.to_datetime(out_result_df['ds'])\n",
    "    pd.to_pickle(out_result_df, 'data/forecasting/africa_nairobi_forecasting.pkl')"
   ]
  },
  {
   "cell_type": "code",
   "execution_count": 81,
   "metadata": {
    "kubeflow_notebook": {
     "deploy_config": {
      "affinity": {},
      "annotations": {},
      "env": [],
      "env_from": [],
      "labels": {},
      "limits": {},
      "node_selector": {},
      "requests": {},
      "tolerations": []
     }
    },
    "tags": [
     "block:metrics_nairobi",
     "prev:forecasting_nairobi"
    ]
   },
   "outputs": [],
   "source": [
    "from neuralprophet import NeuralProphet\n",
    "def model_africa_metrics_nairobi(data_file):\n",
    "    df = pd.read_pickle(data_file)\n",
    "    n = NeuralProphet(weekly_seasonality=True, daily_seasonality=True)\n",
    "    df_train, df_test = n.split_df(df=df, freq=\"MS\", valid_p=0.2)\n",
    "    metrics_train = n.fit(df=df_train, freq=\"MS\")\n",
    "    metrics_test = n.test(df=df_test)\n",
    "    return metrics_test"
   ]
  },
  {
   "cell_type": "code",
   "execution_count": 82,
   "metadata": {
    "kubeflow_notebook": {
     "deploy_config": {
      "affinity": {},
      "annotations": {},
      "env": [],
      "env_from": [],
      "labels": {},
      "limits": {},
      "node_selector": {},
      "requests": {},
      "tolerations": []
     }
    },
    "tags": [
     "block:forecasting_dakar",
     "prev:pre_process_dakar"
    ]
   },
   "outputs": [],
   "source": [
    "from neuralprophet import NeuralProphet\n",
    "import pandas as pd\n",
    "def model_africa_dakar(data_file):\n",
    "    df = pd.read_pickle(data_file)\n",
    "    n = NeuralProphet(weekly_seasonality=True, daily_seasonality=True)\n",
    "    model = n.fit(df, freq='MS', epochs=100)\n",
    "    future = n.make_future_dataframe(df, periods=150)\n",
    "    forecast = n.predict(future)\n",
    "    data = forecast.drop(['y', 'trend', 'season_yearly'], axis=1)\n",
    "    out_result_df = pd.concat([df, data], axis=0)\n",
    "    out_result_df['ds'] = pd.to_datetime(out_result_df['ds'])\n",
    "    pd.to_pickle(out_result_df, 'data/forecasting/africa_dakar_forecasting.pkl')\n",
    "    #out_result_df.to_csv('data/forecasting/africa_forecasting.csv',index=False)"
   ]
  },
  {
   "cell_type": "code",
   "execution_count": 83,
   "metadata": {
    "kubeflow_notebook": {
     "deploy_config": {
      "affinity": {},
      "annotations": {},
      "env": [],
      "env_from": [],
      "labels": {},
      "limits": {},
      "node_selector": {},
      "requests": {},
      "tolerations": []
     }
    },
    "tags": [
     "block:metrics_dakar",
     "prev:forecasting_dakar"
    ]
   },
   "outputs": [],
   "source": [
    "from neuralprophet import NeuralProphet\n",
    "def model_africa_metrics_dakar(data_file):\n",
    "    df = pd.read_pickle(data_file)\n",
    "    n = NeuralProphet(weekly_seasonality=True, daily_seasonality=True)\n",
    "    df_train, df_test = n.split_df(df=df, freq=\"MS\", valid_p=0.2)\n",
    "    metrics_train = n.fit(df=df_train, freq=\"MS\")\n",
    "    metrics_test = n.test(df=df_test)\n",
    "    return metrics_test"
   ]
  },
  {
   "cell_type": "code",
   "execution_count": null,
   "metadata": {
    "tags": [
     "block:forecasting_um",
     "prev:pre_process_um"
    ]
   },
   "outputs": [],
   "source": [
    "from neuralprophet import NeuralProphet\n",
    "import pandas as pd\n",
    "def model_africa_um(data_file):\n",
    "    df = pd.read_pickle(data_file)\n",
    "    n = NeuralProphet(weekly_seasonality=True, daily_seasonality=True)\n",
    "    model = n.fit(df, freq='MS', epochs=100)\n",
    "    future = n.make_future_dataframe(df, periods=150)\n",
    "    forecast = n.predict(future)\n",
    "    data = forecast.drop(['y', 'trend', 'season_yearly'], axis=1)\n",
    "    out_result_df = pd.concat([df, data], axis=0)\n",
    "    out_result_df['ds'] = pd.to_datetime(out_result_df['ds'])\n",
    "    pd.to_pickle(out_result_df, 'data/forecasting/africa_um_forecasting.pkl')"
   ]
  },
  {
   "cell_type": "code",
   "execution_count": 85,
   "metadata": {
    "kubeflow_notebook": {
     "deploy_config": {
      "affinity": {},
      "annotations": {},
      "env": [],
      "env_from": [],
      "labels": {},
      "limits": {},
      "node_selector": {},
      "requests": {},
      "tolerations": []
     }
    },
    "tags": [
     "block:metrics_um",
     "prev:forecasting_um"
    ]
   },
   "outputs": [],
   "source": [
    "from neuralprophet import NeuralProphet\n",
    "def model_africa_metrics_um(data_file):\n",
    "    df = pd.read_pickle(data_file)\n",
    "    n = NeuralProphet(weekly_seasonality=True, daily_seasonality=True)\n",
    "    df_train, df_test = n.split_df(df=df, freq=\"MS\", valid_p=0.2)\n",
    "    metrics_train = n.fit(df=df_train, freq=\"MS\")\n",
    "    metrics_test = n.test(df=df_test)\n",
    "    return metrics_test"
   ]
  },
  {
   "cell_type": "code",
   "execution_count": 86,
   "metadata": {
    "tags": [
     "block:forecasting_asia",
     "prev:pre_process_asia"
    ]
   },
   "outputs": [],
   "source": [
    "from neuralprophet import NeuralProphet\n",
    "import pandas as pd\n",
    "def model_asia(data_file):\n",
    "    df = pd.read_pickle(data_file)\n",
    "    n = NeuralProphet(weekly_seasonality=True, daily_seasonality=True)\n",
    "    model = n.fit(df, freq='MS', epochs=100)\n",
    "    future = n.make_future_dataframe(df, periods=150)\n",
    "    forecast = n.predict(future)\n",
    "    data = forecast.drop(['y', 'trend', 'season_yearly'], axis=1)\n",
    "    out_result_df = pd.concat([df, data], axis=0)\n",
    "    out_result_df['ds'] = pd.to_datetime(out_result_df['ds'])\n",
    "    pd.to_pickle(out_result_df, 'data/forecasting/asia_forecasting.pkl')"
   ]
  },
  {
   "cell_type": "code",
   "execution_count": 87,
   "metadata": {
    "tags": [
     "block:metrics_asia",
     "prev:forecasting_asia"
    ]
   },
   "outputs": [],
   "source": [
    "from neuralprophet import NeuralProphet\n",
    "def model_asia_metrics(data_file):\n",
    "    df = pd.read_pickle(data_file)\n",
    "    n = NeuralProphet(weekly_seasonality=True, daily_seasonality=True)\n",
    "    df_train, df_test = n.split_df(df=df, freq=\"MS\", valid_p=0.2)\n",
    "    metrics_train = n.fit(df=df_train, freq=\"MS\")\n",
    "    metrics_test = n.test(df=df_test)\n",
    "    return metrics_test"
   ]
  },
  {
   "cell_type": "code",
   "execution_count": 88,
   "metadata": {
    "kubeflow_notebook": {
     "deploy_config": {
      "affinity": {},
      "annotations": {},
      "env": [],
      "env_from": [],
      "labels": {},
      "limits": {},
      "node_selector": {},
      "requests": {},
      "tolerations": []
     }
    },
    "tags": [
     "block:forecasting_singapore",
     "prev:pre_process_singapore"
    ]
   },
   "outputs": [],
   "source": [
    "from neuralprophet import NeuralProphet\n",
    "import pandas as pd\n",
    "def model_asia_singapore(data_file):\n",
    "    df = pd.read_pickle(data_file)\n",
    "    n = NeuralProphet(weekly_seasonality=True, daily_seasonality=True)\n",
    "    model = n.fit(df, freq='MS', epochs=100)\n",
    "    future = n.make_future_dataframe(df, periods=150)\n",
    "    forecast = n.predict(future)\n",
    "    data = forecast.drop(['y', 'trend', 'season_yearly'], axis=1)\n",
    "    out_result_df = pd.concat([df, data], axis=0)\n",
    "    out_result_df['ds'] = pd.to_datetime(out_result_df['ds'])\n",
    "    pd.to_pickle(out_result_df, 'data/forecasting/asia_singapore_forecasting.pkl')"
   ]
  },
  {
   "cell_type": "code",
   "execution_count": 89,
   "metadata": {
    "tags": [
     "block:metrics_singapore",
     "prev:forecasting_singapore"
    ]
   },
   "outputs": [],
   "source": [
    "from neuralprophet import NeuralProphet\n",
    "def model_asia_metrics_singapore(data_file):\n",
    "    df = pd.read_pickle(data_file)\n",
    "    n = NeuralProphet(weekly_seasonality=True, daily_seasonality=True)\n",
    "    df_train, df_test = n.split_df(df=df, freq=\"MS\", valid_p=0.2)\n",
    "    metrics_train = n.fit(df=df_train, freq=\"MS\")\n",
    "    metrics_test = n.test(df=df_test)\n",
    "    return metrics_test"
   ]
  },
  {
   "cell_type": "code",
   "execution_count": 90,
   "metadata": {
    "tags": [
     "block:forecasting_bangkok",
     "prev:pre_process_bangkok"
    ]
   },
   "outputs": [],
   "source": [
    "from neuralprophet import NeuralProphet\n",
    "import pandas as pd\n",
    "def model_asia_bangkok(data_file):\n",
    "    df = pd.read_pickle(data_file)\n",
    "    n = NeuralProphet(weekly_seasonality=True, daily_seasonality=True)\n",
    "    model = n.fit(df, freq='MS', epochs=100)\n",
    "    future = n.make_future_dataframe(df, periods=150)\n",
    "    forecast = n.predict(future)\n",
    "    data = forecast.drop(['y', 'trend', 'season_yearly'], axis=1)\n",
    "    out_result_df = pd.concat([df, data], axis=0)\n",
    "    out_result_df['ds'] = pd.to_datetime(out_result_df['ds'])\n",
    "    pd.to_pickle(out_result_df, 'data/forecasting/asia_bangkok_forecasting.pkl')"
   ]
  },
  {
   "cell_type": "code",
   "execution_count": 91,
   "metadata": {
    "tags": [
     "block:metrics_bangkok",
     "prev:forecasting_bangkok"
    ]
   },
   "outputs": [],
   "source": [
    "from neuralprophet import NeuralProphet\n",
    "def model_asia_metrics_bangkok(data_file):\n",
    "    df = pd.read_pickle(data_file)\n",
    "    n = NeuralProphet(weekly_seasonality=True, daily_seasonality=True)\n",
    "    df_train, df_test = n.split_df(df=df, freq=\"MS\", valid_p=0.2)\n",
    "    metrics_train = n.fit(df=df_train, freq=\"MS\")\n",
    "    metrics_test = n.test(df=df_test)\n",
    "    return metrics_test"
   ]
  },
  {
   "cell_type": "code",
   "execution_count": 92,
   "metadata": {
    "tags": [
     "block:forecasting_bombay",
     "prev:pre_process_bombay"
    ]
   },
   "outputs": [],
   "source": [
    "from neuralprophet import NeuralProphet\n",
    "import pandas as pd\n",
    "def model_asia_bombay(data_file):\n",
    "    df = pd.read_pickle(data_file)\n",
    "    n = NeuralProphet(weekly_seasonality=True, daily_seasonality=True)\n",
    "    model = n.fit(df, freq='MS', epochs=100)\n",
    "    future = n.make_future_dataframe(df, periods=150)\n",
    "    forecast = n.predict(future)\n",
    "    data = forecast.drop(['y', 'trend', 'season_yearly'], axis=1)\n",
    "    out_result_df = pd.concat([df, data], axis=0)\n",
    "    out_result_df['ds'] = pd.to_datetime(out_result_df['ds'])\n",
    "    pd.to_pickle(out_result_df, 'data/forecasting/asia_bombay_forecasting.pkl')"
   ]
  },
  {
   "cell_type": "code",
   "execution_count": 93,
   "metadata": {
    "tags": [
     "block:metrics_bombay",
     "prev:forecasting_bombay"
    ]
   },
   "outputs": [],
   "source": [
    "from neuralprophet import NeuralProphet\n",
    "def model_asia_metrics_bombay(data_file):\n",
    "    df = pd.read_pickle(data_file)\n",
    "    n = NeuralProphet(weekly_seasonality=True, daily_seasonality=True)\n",
    "    df_train, df_test = n.split_df(df=df, freq=\"MS\", valid_p=0.2)\n",
    "    metrics_train = n.fit(df=df_train, freq=\"MS\")\n",
    "    metrics_test = n.test(df=df_test)\n",
    "    return metrics_test"
   ]
  },
  {
   "cell_type": "code",
   "execution_count": null,
   "metadata": {
    "kubeflow_notebook": {
     "deploy_config": {
      "affinity": {},
      "annotations": {},
      "env": [],
      "env_from": [],
      "labels": {},
      "limits": {},
      "node_selector": {},
      "requests": {},
      "tolerations": []
     }
    },
    "tags": [
     "block:results",
     "prev:pre_process_paris",
     "prev:metrics_europe",
     "prev:metrics_madrid",
     "prev:metrics_paris",
     "prev:metrics_africa",
     "prev:metrics_nairobi",
     "prev:metrics_dakar",
     "prev:metrics_um",
     "prev:metrics_asia",
     "prev:metrics_singapore",
     "prev:metrics_bangkok",
     "prev:metrics_bombay",
     "prev:pre_process_madrid",
     "prev:pre_process_rome",
     "prev:pre_process_europe",
     "prev:pre_process_africa",
     "prev:pre_process_nairobi",
     "prev:pre_process_um",
     "prev:pre_process_asia",
     "prev:pre_process_bombay",
     "prev:pre_process_bangkok",
     "prev:pre_process_singapore",
     "prev:forecasting_europe",
     "prev:pre_process_dakar",
     "prev:forecasting_madrid",
     "prev:metrics_rome",
     "prev:forecasting_paris",
     "prev:forecasting_rome",
     "prev:forecasting_africa",
     "prev:forecasting_dakar",
     "prev:forecasting_um",
     "prev:forecasting_singapore",
     "prev:forecasting_bangkok",
     "prev:forecasting_nairobi",
     "prev:forecasting_asia",
     "prev:forecasting_bombay"
    ]
   },
   "outputs": [],
   "source": [
    "import os\n",
    "import pandas as pd\n",
    "\n",
    "def show_results(result, metrics):\n",
    "    for k,v in metrics.items():\n",
    "        pd.to_pickle(v, result + k +'.pkl')"
   ]
  },
  {
   "cell_type": "code",
   "execution_count": 97,
   "metadata": {
    "kubeflow_notebook": {
     "deploy_config": {
      "affinity": {},
      "annotations": {},
      "env": [],
      "env_from": [],
      "labels": {},
      "limits": {},
      "node_selector": {},
      "requests": {},
      "tolerations": []
     }
    },
    "tags": [
     "block:forecasting",
     "prev:results",
     "prev:metrics_europe",
     "prev:forecasting_madrid",
     "prev:metrics_madrid",
     "prev:forecasting_rome",
     "prev:metrics_rome",
     "prev:metrics_paris",
     "prev:metrics_africa",
     "prev:metrics_nairobi",
     "prev:forecasting_um",
     "prev:forecasting_asia",
     "prev:forecasting_singapore",
     "prev:metrics_singapore",
     "prev:metrics_bangkok",
     "prev:forecasting_bombay",
     "prev:metrics_bombay",
     "prev:forecasting_bangkok",
     "prev:metrics_asia",
     "prev:metrics_um",
     "prev:forecasting_dakar",
     "prev:forecasting_nairobi",
     "prev:forecasting_africa",
     "prev:forecasting_paris",
     "prev:metrics_dakar",
     "prev:pre_process_madrid",
     "prev:pre_process_rome",
     "prev:pre_process_africa",
     "prev:pre_process_dakar",
     "prev:pre_process_um",
     "prev:pre_process_asia",
     "prev:pre_process_bombay",
     "prev:pre_process_bangkok",
     "prev:pre_process_singapore",
     "prev:forecasting_europe",
     "prev:pre_process_paris",
     "prev:pre_process_europe",
     "prev:pre_process_nairobi"
    ]
   },
   "outputs": [],
   "source": [
    "def forecasting():\n",
    "    data_file = 'data/database.csv'\n",
    "\n",
    "    data_europe = 'data/europe_dataset.pkl'\n",
    "    data_europe_rome = 'data/europe_rome_dataset.pkl'\n",
    "    data_europe_paris = 'data/europe_paris_dataset.pkl'\n",
    "    data_europe_madrid = 'data/europe_madrid_dataset.pkl'\n",
    "    \n",
    "    data_africa = 'data/africa_dataset.pkl'\n",
    "    data_africa_dakar = 'data/africa_dakar_dataset.pkl'\n",
    "    data_africa_nairobi = 'data/africa_nairobi_dataset.pkl'\n",
    "    data_africa_um = 'data/africa_um_dataset.pkl'\n",
    "\n",
    "    data_asia = 'data/asia_dataset.pkl'\n",
    "    data_asia_bangkok = 'data/asia_bangkok_dataset.pkl'\n",
    "    data_asia_singapore = 'data/asia_singapore_dataset.pkl'\n",
    "    data_asia_bombay = 'data/asia_bombay_dataset.pkl'\n",
    "    \n",
    "    # Run download_data task\n",
    "    \"\"\"\n",
    "    pre_processing_data_europe(data_file)\n",
    "    pre_processing_data_europe_rome(data_file)\n",
    "    pre_processing_data_europe_paris(data_file)\n",
    "    pre_processing_data_europe_madrid(data_file)\n",
    "\n",
    "    pre_processing_data_africa(data_file)\n",
    "    pre_processing_data_africa_dakar(data_file)\n",
    "    pre_processing_data_africa_nairobi(data_file)\n",
    "    pre_processing_data_africa_um(data_file)\n",
    "\n",
    "    pre_processing_data_asia(data_file)\n",
    "    pre_processing_data_asia_bangkok(data_file)\n",
    "    pre_processing_data_asia_singapore(data_file)\n",
    "    pre_processing_data_asia_bombay(data_file)\n",
    "    \n",
    "    model_europe(data_europe)\n",
    "    model_europe_madrid(data_europe_madrid)\n",
    "    model_europe_paris(data_europe_paris)\n",
    "    model_europe_rome(data_europe_rome)\n",
    "    \n",
    "    model_africa(data_africa)\n",
    "    model_africa_dakar(data_africa_dakar)\n",
    "    model_africa_nairobi(data_africa_nairobi)\n",
    "    model_africa_um(data_africa_um)\n",
    "    \n",
    "    model_asia(data_africa)\n",
    "    model_asia_bangkok(data_asia_bangkok)\n",
    "    model_asia_singapore(data_asia_singapore)\n",
    "    model_asia_bombay(data_asia_bombay)\n",
    "    \"\"\"\n",
    "    metrics_europe = model_europe_metrics(data_europe)\n",
    "    metrics_europe_madrid = model_europe_metrics_madrid(data_europe_madrid)\n",
    "    metrics_europe_paris = model_europe_metrics_paris(data_europe_paris)\n",
    "    metrics_europe_rome = model_europe_metrics_rome(data_europe_rome)\n",
    "    \n",
    "    metrics_africa = model_africa_metrics(data_africa)\n",
    "    metrics_africa_dakar = model_africa_metrics_dakar(data_africa_dakar)\n",
    "    metrics_africa_nairobi = model_africa_metrics_nairobi(data_africa_nairobi)\n",
    "    metrics_africa_um = model_africa_metrics_um(data_africa_um)\n",
    "\n",
    "    metrics_asia = model_asia_metrics(data_asia)\n",
    "    metrics_asia_bangkok = model_asia_metrics_bangkok(data_asia_bangkok)\n",
    "    metrics_asia_singapore = model_asia_metrics_singapore(data_asia_singapore)\n",
    "    metrics_asia_bombay = model_asia_metrics_bombay(data_asia_bombay)\n",
    "    \n",
    "    metrics = { 'europe' : metrics_europe,\n",
    "                'madrid' : metrics_europe_madrid,\n",
    "                'paris' : metrics_europe_paris,\n",
    "                'rome' : metrics_europe_rome,\n",
    "                'africa' : metrics_africa,\n",
    "                'dakar' : metrics_africa_dakar,\n",
    "                'nairobi' : metrics_africa_nairobi,\n",
    "                'africa' : metrics_africa_um,\n",
    "                'asia' : metrics_asia,\n",
    "                'bombay' : metrics_asia_bombay,\n",
    "                'singapore' : metrics_asia_singapore,\n",
    "                'bangkok' : metrics_asia_bangkok}\n",
    "\n",
    "\n",
    "    show_results('results/', metrics)"
   ]
  },
  {
   "cell_type": "code",
   "execution_count": null,
   "metadata": {
    "tags": []
   },
   "outputs": [
    {
     "name": "stderr",
     "output_type": "stream",
     "text": [
      "INFO - (NP.df_utils._infer_frequency) - Major frequency MS corresponds to 91.258% of the data.\n",
      "INFO - (NP.df_utils._infer_frequency) - Defined frequency is equal to major frequency - MS\n",
      "INFO - (NP.df_utils.return_df_in_original_format) - Returning df with no ID column\n",
      "INFO - (NP.df_utils.return_df_in_original_format) - Returning df with no ID column\n",
      "INFO - (NP.df_utils._infer_frequency) - Major frequency MS corresponds to 91.153% of the data.\n",
      "INFO - (NP.df_utils._infer_frequency) - Defined frequency is equal to major frequency - MS\n",
      "INFO - (NP.config.init_data_params) - Setting normalization to global as only one dataframe provided for training.\n",
      "INFO - (NP.config.set_auto_batch_epoch) - Auto-set batch_size to 32\n",
      "INFO - (NP.config.set_auto_batch_epoch) - Auto-set epochs to 146\n",
      "WARNING - (NP.config.set_lr_finder_args) - Learning rate finder: The number of batches (83) is too small than the required number for the learning rate finder (235). The results might not be optimal.\n"
     ]
    },
    {
     "data": {
      "application/vnd.jupyter.widget-view+json": {
       "model_id": "1c33737095d04c9983bb1696f95029f0",
       "version_major": 2,
       "version_minor": 0
      },
      "text/plain": [
       "Finding best initial lr:   0%|          | 0/235 [00:00<?, ?it/s]"
      ]
     },
     "metadata": {},
     "output_type": "display_data"
    },
    {
     "data": {
      "application/vnd.jupyter.widget-view+json": {
       "model_id": "bfc630f01a2343d6ad5baecb06eb7027",
       "version_major": 2,
       "version_minor": 0
      },
      "text/plain": [
       "Training: 0it [00:00, ?it/s]"
      ]
     },
     "metadata": {},
     "output_type": "display_data"
    },
    {
     "name": "stderr",
     "output_type": "stream",
     "text": [
      "INFO - (NP.df_utils._infer_frequency) - Major frequency MS corresponds to 91.528% of the data.\n",
      "INFO - (NP.df_utils._infer_frequency) - Defined frequency is equal to major frequency - MS\n"
     ]
    },
    {
     "data": {
      "application/vnd.jupyter.widget-view+json": {
       "model_id": "57fa5509a5a849d4b3bb028226d734ac",
       "version_major": 2,
       "version_minor": 0
      },
      "text/plain": [
       "Testing: 0it [00:00, ?it/s]"
      ]
     },
     "metadata": {},
     "output_type": "display_data"
    },
    {
     "data": {
      "text/html": [
       "<pre style=\"white-space:pre;overflow-x:auto;line-height:normal;font-family:Menlo,'DejaVu Sans Mono',consolas,'Courier New',monospace\">┏━━━━━━━━━━━━━━━━━━━━━━━━━━━┳━━━━━━━━━━━━━━━━━━━━━━━━━━━┓\n",
       "┃<span style=\"font-weight: bold\">        Test metric        </span>┃<span style=\"font-weight: bold\">       DataLoader 0        </span>┃\n",
       "┡━━━━━━━━━━━━━━━━━━━━━━━━━━━╇━━━━━━━━━━━━━━━━━━━━━━━━━━━┩\n",
       "│<span style=\"color: #008080; text-decoration-color: #008080\">         Loss_test         </span>│<span style=\"color: #800080; text-decoration-color: #800080\">   0.013414179906249046    </span>│\n",
       "│<span style=\"color: #008080; text-decoration-color: #008080\">       RegLoss_test        </span>│<span style=\"color: #800080; text-decoration-color: #800080\">            0.0            </span>│\n",
       "└───────────────────────────┴───────────────────────────┘\n",
       "</pre>\n"
      ],
      "text/plain": [
       "┏━━━━━━━━━━━━━━━━━━━━━━━━━━━┳━━━━━━━━━━━━━━━━━━━━━━━━━━━┓\n",
       "┃\u001b[1m \u001b[0m\u001b[1m       Test metric       \u001b[0m\u001b[1m \u001b[0m┃\u001b[1m \u001b[0m\u001b[1m      DataLoader 0       \u001b[0m\u001b[1m \u001b[0m┃\n",
       "┡━━━━━━━━━━━━━━━━━━━━━━━━━━━╇━━━━━━━━━━━━━━━━━━━━━━━━━━━┩\n",
       "│\u001b[36m \u001b[0m\u001b[36m        Loss_test        \u001b[0m\u001b[36m \u001b[0m│\u001b[35m \u001b[0m\u001b[35m  0.013414179906249046   \u001b[0m\u001b[35m \u001b[0m│\n",
       "│\u001b[36m \u001b[0m\u001b[36m      RegLoss_test       \u001b[0m\u001b[36m \u001b[0m│\u001b[35m \u001b[0m\u001b[35m           0.0           \u001b[0m\u001b[35m \u001b[0m│\n",
       "└───────────────────────────┴───────────────────────────┘\n"
      ]
     },
     "metadata": {},
     "output_type": "display_data"
    },
    {
     "name": "stderr",
     "output_type": "stream",
     "text": [
      "INFO - (NP.df_utils._infer_frequency) - Major frequency MS corresponds to 91.258% of the data.\n",
      "INFO - (NP.df_utils._infer_frequency) - Defined frequency is equal to major frequency - MS\n",
      "INFO - (NP.df_utils.return_df_in_original_format) - Returning df with no ID column\n",
      "INFO - (NP.df_utils.return_df_in_original_format) - Returning df with no ID column\n",
      "INFO - (NP.df_utils._infer_frequency) - Major frequency MS corresponds to 91.153% of the data.\n",
      "INFO - (NP.df_utils._infer_frequency) - Defined frequency is equal to major frequency - MS\n",
      "INFO - (NP.config.init_data_params) - Setting normalization to global as only one dataframe provided for training.\n",
      "INFO - (NP.config.set_auto_batch_epoch) - Auto-set batch_size to 32\n",
      "INFO - (NP.config.set_auto_batch_epoch) - Auto-set epochs to 146\n",
      "WARNING - (NP.config.set_lr_finder_args) - Learning rate finder: The number of batches (83) is too small than the required number for the learning rate finder (235). The results might not be optimal.\n"
     ]
    },
    {
     "data": {
      "application/vnd.jupyter.widget-view+json": {
       "model_id": "d93ecf2c5be146d780d45ce7d034e24d",
       "version_major": 2,
       "version_minor": 0
      },
      "text/plain": [
       "Finding best initial lr:   0%|          | 0/235 [00:00<?, ?it/s]"
      ]
     },
     "metadata": {},
     "output_type": "display_data"
    },
    {
     "data": {
      "application/vnd.jupyter.widget-view+json": {
       "model_id": "d7ff615eb7a34c19a88f09c09cb6b2eb",
       "version_major": 2,
       "version_minor": 0
      },
      "text/plain": [
       "Training: 0it [00:00, ?it/s]"
      ]
     },
     "metadata": {},
     "output_type": "display_data"
    },
    {
     "name": "stderr",
     "output_type": "stream",
     "text": [
      "INFO - (NP.df_utils._infer_frequency) - Major frequency MS corresponds to 91.528% of the data.\n",
      "INFO - (NP.df_utils._infer_frequency) - Defined frequency is equal to major frequency - MS\n"
     ]
    },
    {
     "data": {
      "application/vnd.jupyter.widget-view+json": {
       "model_id": "8a3b007a173d4badb1865f1af87b5c9f",
       "version_major": 2,
       "version_minor": 0
      },
      "text/plain": [
       "Testing: 0it [00:00, ?it/s]"
      ]
     },
     "metadata": {},
     "output_type": "display_data"
    },
    {
     "data": {
      "text/html": [
       "<pre style=\"white-space:pre;overflow-x:auto;line-height:normal;font-family:Menlo,'DejaVu Sans Mono',consolas,'Courier New',monospace\">┏━━━━━━━━━━━━━━━━━━━━━━━━━━━┳━━━━━━━━━━━━━━━━━━━━━━━━━━━┓\n",
       "┃<span style=\"font-weight: bold\">        Test metric        </span>┃<span style=\"font-weight: bold\">       DataLoader 0        </span>┃\n",
       "┡━━━━━━━━━━━━━━━━━━━━━━━━━━━╇━━━━━━━━━━━━━━━━━━━━━━━━━━━┩\n",
       "│<span style=\"color: #008080; text-decoration-color: #008080\">         Loss_test         </span>│<span style=\"color: #800080; text-decoration-color: #800080\">   0.021243391558527946    </span>│\n",
       "│<span style=\"color: #008080; text-decoration-color: #008080\">       RegLoss_test        </span>│<span style=\"color: #800080; text-decoration-color: #800080\">            0.0            </span>│\n",
       "└───────────────────────────┴───────────────────────────┘\n",
       "</pre>\n"
      ],
      "text/plain": [
       "┏━━━━━━━━━━━━━━━━━━━━━━━━━━━┳━━━━━━━━━━━━━━━━━━━━━━━━━━━┓\n",
       "┃\u001b[1m \u001b[0m\u001b[1m       Test metric       \u001b[0m\u001b[1m \u001b[0m┃\u001b[1m \u001b[0m\u001b[1m      DataLoader 0       \u001b[0m\u001b[1m \u001b[0m┃\n",
       "┡━━━━━━━━━━━━━━━━━━━━━━━━━━━╇━━━━━━━━━━━━━━━━━━━━━━━━━━━┩\n",
       "│\u001b[36m \u001b[0m\u001b[36m        Loss_test        \u001b[0m\u001b[36m \u001b[0m│\u001b[35m \u001b[0m\u001b[35m  0.021243391558527946   \u001b[0m\u001b[35m \u001b[0m│\n",
       "│\u001b[36m \u001b[0m\u001b[36m      RegLoss_test       \u001b[0m\u001b[36m \u001b[0m│\u001b[35m \u001b[0m\u001b[35m           0.0           \u001b[0m\u001b[35m \u001b[0m│\n",
       "└───────────────────────────┴───────────────────────────┘\n"
      ]
     },
     "metadata": {},
     "output_type": "display_data"
    },
    {
     "name": "stderr",
     "output_type": "stream",
     "text": [
      "INFO - (NP.df_utils._infer_frequency) - Major frequency MS corresponds to 91.258% of the data.\n",
      "INFO - (NP.df_utils._infer_frequency) - Defined frequency is equal to major frequency - MS\n",
      "INFO - (NP.df_utils.return_df_in_original_format) - Returning df with no ID column\n",
      "INFO - (NP.df_utils.return_df_in_original_format) - Returning df with no ID column\n",
      "INFO - (NP.df_utils._infer_frequency) - Major frequency MS corresponds to 91.153% of the data.\n",
      "INFO - (NP.df_utils._infer_frequency) - Defined frequency is equal to major frequency - MS\n",
      "INFO - (NP.config.init_data_params) - Setting normalization to global as only one dataframe provided for training.\n",
      "INFO - (NP.config.set_auto_batch_epoch) - Auto-set batch_size to 32\n",
      "INFO - (NP.config.set_auto_batch_epoch) - Auto-set epochs to 146\n",
      "WARNING - (NP.config.set_lr_finder_args) - Learning rate finder: The number of batches (83) is too small than the required number for the learning rate finder (235). The results might not be optimal.\n"
     ]
    },
    {
     "data": {
      "application/vnd.jupyter.widget-view+json": {
       "model_id": "4b529a8b18994df48eac7a3b597ba04d",
       "version_major": 2,
       "version_minor": 0
      },
      "text/plain": [
       "Finding best initial lr:   0%|          | 0/235 [00:00<?, ?it/s]"
      ]
     },
     "metadata": {},
     "output_type": "display_data"
    },
    {
     "data": {
      "application/vnd.jupyter.widget-view+json": {
       "model_id": "fdcbcf835771480289232702d6462d88",
       "version_major": 2,
       "version_minor": 0
      },
      "text/plain": [
       "Training: 0it [00:00, ?it/s]"
      ]
     },
     "metadata": {},
     "output_type": "display_data"
    },
    {
     "name": "stderr",
     "output_type": "stream",
     "text": [
      "INFO - (NP.df_utils._infer_frequency) - Major frequency MS corresponds to 91.528% of the data.\n",
      "INFO - (NP.df_utils._infer_frequency) - Defined frequency is equal to major frequency - MS\n"
     ]
    },
    {
     "data": {
      "application/vnd.jupyter.widget-view+json": {
       "model_id": "6f5a9ae19b214b77a6172360f23218ae",
       "version_major": 2,
       "version_minor": 0
      },
      "text/plain": [
       "Testing: 0it [00:00, ?it/s]"
      ]
     },
     "metadata": {},
     "output_type": "display_data"
    },
    {
     "data": {
      "text/html": [
       "<pre style=\"white-space:pre;overflow-x:auto;line-height:normal;font-family:Menlo,'DejaVu Sans Mono',consolas,'Courier New',monospace\">┏━━━━━━━━━━━━━━━━━━━━━━━━━━━┳━━━━━━━━━━━━━━━━━━━━━━━━━━━┓\n",
       "┃<span style=\"font-weight: bold\">        Test metric        </span>┃<span style=\"font-weight: bold\">       DataLoader 0        </span>┃\n",
       "┡━━━━━━━━━━━━━━━━━━━━━━━━━━━╇━━━━━━━━━━━━━━━━━━━━━━━━━━━┩\n",
       "│<span style=\"color: #008080; text-decoration-color: #008080\">         Loss_test         </span>│<span style=\"color: #800080; text-decoration-color: #800080\">   0.015120548196136951    </span>│\n",
       "│<span style=\"color: #008080; text-decoration-color: #008080\">       RegLoss_test        </span>│<span style=\"color: #800080; text-decoration-color: #800080\">            0.0            </span>│\n",
       "└───────────────────────────┴───────────────────────────┘\n",
       "</pre>\n"
      ],
      "text/plain": [
       "┏━━━━━━━━━━━━━━━━━━━━━━━━━━━┳━━━━━━━━━━━━━━━━━━━━━━━━━━━┓\n",
       "┃\u001b[1m \u001b[0m\u001b[1m       Test metric       \u001b[0m\u001b[1m \u001b[0m┃\u001b[1m \u001b[0m\u001b[1m      DataLoader 0       \u001b[0m\u001b[1m \u001b[0m┃\n",
       "┡━━━━━━━━━━━━━━━━━━━━━━━━━━━╇━━━━━━━━━━━━━━━━━━━━━━━━━━━┩\n",
       "│\u001b[36m \u001b[0m\u001b[36m        Loss_test        \u001b[0m\u001b[36m \u001b[0m│\u001b[35m \u001b[0m\u001b[35m  0.015120548196136951   \u001b[0m\u001b[35m \u001b[0m│\n",
       "│\u001b[36m \u001b[0m\u001b[36m      RegLoss_test       \u001b[0m\u001b[36m \u001b[0m│\u001b[35m \u001b[0m\u001b[35m           0.0           \u001b[0m\u001b[35m \u001b[0m│\n",
       "└───────────────────────────┴───────────────────────────┘\n"
      ]
     },
     "metadata": {},
     "output_type": "display_data"
    },
    {
     "name": "stderr",
     "output_type": "stream",
     "text": [
      "INFO - (NP.df_utils._infer_frequency) - Major frequency MS corresponds to 91.258% of the data.\n",
      "INFO - (NP.df_utils._infer_frequency) - Defined frequency is equal to major frequency - MS\n",
      "INFO - (NP.df_utils.return_df_in_original_format) - Returning df with no ID column\n",
      "INFO - (NP.df_utils.return_df_in_original_format) - Returning df with no ID column\n",
      "INFO - (NP.df_utils._infer_frequency) - Major frequency MS corresponds to 91.153% of the data.\n",
      "INFO - (NP.df_utils._infer_frequency) - Defined frequency is equal to major frequency - MS\n",
      "INFO - (NP.config.init_data_params) - Setting normalization to global as only one dataframe provided for training.\n",
      "INFO - (NP.config.set_auto_batch_epoch) - Auto-set batch_size to 32\n",
      "INFO - (NP.config.set_auto_batch_epoch) - Auto-set epochs to 146\n",
      "WARNING - (NP.config.set_lr_finder_args) - Learning rate finder: The number of batches (83) is too small than the required number for the learning rate finder (235). The results might not be optimal.\n"
     ]
    },
    {
     "data": {
      "application/vnd.jupyter.widget-view+json": {
       "model_id": "d7d873c4749543eab2ddf1ef30ace297",
       "version_major": 2,
       "version_minor": 0
      },
      "text/plain": [
       "Finding best initial lr:   0%|          | 0/235 [00:00<?, ?it/s]"
      ]
     },
     "metadata": {},
     "output_type": "display_data"
    },
    {
     "data": {
      "application/vnd.jupyter.widget-view+json": {
       "model_id": "280470b2e2864a21a1a716031c9bf6dc",
       "version_major": 2,
       "version_minor": 0
      },
      "text/plain": [
       "Training: 0it [00:00, ?it/s]"
      ]
     },
     "metadata": {},
     "output_type": "display_data"
    },
    {
     "name": "stderr",
     "output_type": "stream",
     "text": [
      "INFO - (NP.df_utils._infer_frequency) - Major frequency MS corresponds to 91.528% of the data.\n",
      "INFO - (NP.df_utils._infer_frequency) - Defined frequency is equal to major frequency - MS\n"
     ]
    },
    {
     "data": {
      "application/vnd.jupyter.widget-view+json": {
       "model_id": "d2734799e4ca4011b6899bce4f2bc728",
       "version_major": 2,
       "version_minor": 0
      },
      "text/plain": [
       "Testing: 0it [00:00, ?it/s]"
      ]
     },
     "metadata": {},
     "output_type": "display_data"
    },
    {
     "data": {
      "text/html": [
       "<pre style=\"white-space:pre;overflow-x:auto;line-height:normal;font-family:Menlo,'DejaVu Sans Mono',consolas,'Courier New',monospace\">┏━━━━━━━━━━━━━━━━━━━━━━━━━━━┳━━━━━━━━━━━━━━━━━━━━━━━━━━━┓\n",
       "┃<span style=\"font-weight: bold\">        Test metric        </span>┃<span style=\"font-weight: bold\">       DataLoader 0        </span>┃\n",
       "┡━━━━━━━━━━━━━━━━━━━━━━━━━━━╇━━━━━━━━━━━━━━━━━━━━━━━━━━━┩\n",
       "│<span style=\"color: #008080; text-decoration-color: #008080\">         Loss_test         </span>│<span style=\"color: #800080; text-decoration-color: #800080\">   0.012458228506147861    </span>│\n",
       "│<span style=\"color: #008080; text-decoration-color: #008080\">       RegLoss_test        </span>│<span style=\"color: #800080; text-decoration-color: #800080\">            0.0            </span>│\n",
       "└───────────────────────────┴───────────────────────────┘\n",
       "</pre>\n"
      ],
      "text/plain": [
       "┏━━━━━━━━━━━━━━━━━━━━━━━━━━━┳━━━━━━━━━━━━━━━━━━━━━━━━━━━┓\n",
       "┃\u001b[1m \u001b[0m\u001b[1m       Test metric       \u001b[0m\u001b[1m \u001b[0m┃\u001b[1m \u001b[0m\u001b[1m      DataLoader 0       \u001b[0m\u001b[1m \u001b[0m┃\n",
       "┡━━━━━━━━━━━━━━━━━━━━━━━━━━━╇━━━━━━━━━━━━━━━━━━━━━━━━━━━┩\n",
       "│\u001b[36m \u001b[0m\u001b[36m        Loss_test        \u001b[0m\u001b[36m \u001b[0m│\u001b[35m \u001b[0m\u001b[35m  0.012458228506147861   \u001b[0m\u001b[35m \u001b[0m│\n",
       "│\u001b[36m \u001b[0m\u001b[36m      RegLoss_test       \u001b[0m\u001b[36m \u001b[0m│\u001b[35m \u001b[0m\u001b[35m           0.0           \u001b[0m\u001b[35m \u001b[0m│\n",
       "└───────────────────────────┴───────────────────────────┘\n"
      ]
     },
     "metadata": {},
     "output_type": "display_data"
    },
    {
     "name": "stderr",
     "output_type": "stream",
     "text": [
      "INFO - (NP.df_utils._infer_frequency) - Major frequency MS corresponds to 91.627% of the data.\n",
      "INFO - (NP.df_utils._infer_frequency) - Defined frequency is equal to major frequency - MS\n",
      "INFO - (NP.df_utils.return_df_in_original_format) - Returning df with no ID column\n",
      "INFO - (NP.df_utils.return_df_in_original_format) - Returning df with no ID column\n",
      "INFO - (NP.df_utils._infer_frequency) - Major frequency MS corresponds to 91.62% of the data.\n",
      "INFO - (NP.df_utils._infer_frequency) - Defined frequency is equal to major frequency - MS\n",
      "INFO - (NP.config.init_data_params) - Setting normalization to global as only one dataframe provided for training.\n",
      "INFO - (NP.config.set_auto_batch_epoch) - Auto-set batch_size to 32\n",
      "INFO - (NP.config.set_auto_batch_epoch) - Auto-set epochs to 148\n",
      "WARNING - (NP.config.set_lr_finder_args) - Learning rate finder: The number of batches (78) is too small than the required number for the learning rate finder (235). The results might not be optimal.\n"
     ]
    },
    {
     "data": {
      "application/vnd.jupyter.widget-view+json": {
       "model_id": "d9e3aaf3b05b45e4be5d5be2f334a0d3",
       "version_major": 2,
       "version_minor": 0
      },
      "text/plain": [
       "Finding best initial lr:   0%|          | 0/235 [00:00<?, ?it/s]"
      ]
     },
     "metadata": {},
     "output_type": "display_data"
    },
    {
     "data": {
      "application/vnd.jupyter.widget-view+json": {
       "model_id": "8d142c30d18b4b7da0869b089bc0e1e9",
       "version_major": 2,
       "version_minor": 0
      },
      "text/plain": [
       "Training: 0it [00:00, ?it/s]"
      ]
     },
     "metadata": {},
     "output_type": "display_data"
    },
    {
     "name": "stderr",
     "output_type": "stream",
     "text": [
      "INFO - (NP.df_utils._infer_frequency) - Major frequency MS corresponds to 91.493% of the data.\n",
      "INFO - (NP.df_utils._infer_frequency) - Defined frequency is equal to major frequency - MS\n"
     ]
    },
    {
     "data": {
      "application/vnd.jupyter.widget-view+json": {
       "model_id": "086e9658d1734501b70d02a660212971",
       "version_major": 2,
       "version_minor": 0
      },
      "text/plain": [
       "Testing: 0it [00:00, ?it/s]"
      ]
     },
     "metadata": {},
     "output_type": "display_data"
    },
    {
     "data": {
      "text/html": [
       "<pre style=\"white-space:pre;overflow-x:auto;line-height:normal;font-family:Menlo,'DejaVu Sans Mono',consolas,'Courier New',monospace\">┏━━━━━━━━━━━━━━━━━━━━━━━━━━━┳━━━━━━━━━━━━━━━━━━━━━━━━━━━┓\n",
       "┃<span style=\"font-weight: bold\">        Test metric        </span>┃<span style=\"font-weight: bold\">       DataLoader 0        </span>┃\n",
       "┡━━━━━━━━━━━━━━━━━━━━━━━━━━━╇━━━━━━━━━━━━━━━━━━━━━━━━━━━┩\n",
       "│<span style=\"color: #008080; text-decoration-color: #008080\">         Loss_test         </span>│<span style=\"color: #800080; text-decoration-color: #800080\">   0.005524706095457077    </span>│\n",
       "│<span style=\"color: #008080; text-decoration-color: #008080\">       RegLoss_test        </span>│<span style=\"color: #800080; text-decoration-color: #800080\">            0.0            </span>│\n",
       "└───────────────────────────┴───────────────────────────┘\n",
       "</pre>\n"
      ],
      "text/plain": [
       "┏━━━━━━━━━━━━━━━━━━━━━━━━━━━┳━━━━━━━━━━━━━━━━━━━━━━━━━━━┓\n",
       "┃\u001b[1m \u001b[0m\u001b[1m       Test metric       \u001b[0m\u001b[1m \u001b[0m┃\u001b[1m \u001b[0m\u001b[1m      DataLoader 0       \u001b[0m\u001b[1m \u001b[0m┃\n",
       "┡━━━━━━━━━━━━━━━━━━━━━━━━━━━╇━━━━━━━━━━━━━━━━━━━━━━━━━━━┩\n",
       "│\u001b[36m \u001b[0m\u001b[36m        Loss_test        \u001b[0m\u001b[36m \u001b[0m│\u001b[35m \u001b[0m\u001b[35m  0.005524706095457077   \u001b[0m\u001b[35m \u001b[0m│\n",
       "│\u001b[36m \u001b[0m\u001b[36m      RegLoss_test       \u001b[0m\u001b[36m \u001b[0m│\u001b[35m \u001b[0m\u001b[35m           0.0           \u001b[0m\u001b[35m \u001b[0m│\n",
       "└───────────────────────────┴───────────────────────────┘\n"
      ]
     },
     "metadata": {},
     "output_type": "display_data"
    },
    {
     "name": "stderr",
     "output_type": "stream",
     "text": [
      "INFO - (NP.df_utils._infer_frequency) - Major frequency MS corresponds to 90.736% of the data.\n",
      "INFO - (NP.df_utils._infer_frequency) - Defined frequency is equal to major frequency - MS\n",
      "INFO - (NP.df_utils.return_df_in_original_format) - Returning df with no ID column\n",
      "INFO - (NP.df_utils.return_df_in_original_format) - Returning df with no ID column\n",
      "INFO - (NP.df_utils._infer_frequency) - Major frequency MS corresponds to 90.476% of the data.\n",
      "INFO - (NP.df_utils._infer_frequency) - Defined frequency is equal to major frequency - MS\n",
      "INFO - (NP.config.init_data_params) - Setting normalization to global as only one dataframe provided for training.\n",
      "INFO - (NP.config.set_auto_batch_epoch) - Auto-set batch_size to 32\n",
      "INFO - (NP.config.set_auto_batch_epoch) - Auto-set epochs to 171\n",
      "WARNING - (NP.config.set_lr_finder_args) - Learning rate finder: The number of batches (48) is too small than the required number for the learning rate finder (230). The results might not be optimal.\n"
     ]
    },
    {
     "data": {
      "application/vnd.jupyter.widget-view+json": {
       "model_id": "c8c2c3eb732c4b30b4a668637235b6ed",
       "version_major": 2,
       "version_minor": 0
      },
      "text/plain": [
       "Finding best initial lr:   0%|          | 0/230 [00:00<?, ?it/s]"
      ]
     },
     "metadata": {},
     "output_type": "display_data"
    },
    {
     "data": {
      "application/vnd.jupyter.widget-view+json": {
       "model_id": "8eaca40b7c79490f8af678d99d5f8753",
       "version_major": 2,
       "version_minor": 0
      },
      "text/plain": [
       "Training: 0it [00:00, ?it/s]"
      ]
     },
     "metadata": {},
     "output_type": "display_data"
    },
    {
     "name": "stderr",
     "output_type": "stream",
     "text": [
      "INFO - (NP.df_utils._infer_frequency) - Major frequency MS corresponds to 91.512% of the data.\n",
      "INFO - (NP.df_utils._infer_frequency) - Defined frequency is equal to major frequency - MS\n"
     ]
    },
    {
     "data": {
      "application/vnd.jupyter.widget-view+json": {
       "model_id": "f8d7fc1e11274e8b9ade413c27967c71",
       "version_major": 2,
       "version_minor": 0
      },
      "text/plain": [
       "Testing: 0it [00:00, ?it/s]"
      ]
     },
     "metadata": {},
     "output_type": "display_data"
    },
    {
     "data": {
      "text/html": [
       "<pre style=\"white-space:pre;overflow-x:auto;line-height:normal;font-family:Menlo,'DejaVu Sans Mono',consolas,'Courier New',monospace\">┏━━━━━━━━━━━━━━━━━━━━━━━━━━━┳━━━━━━━━━━━━━━━━━━━━━━━━━━━┓\n",
       "┃<span style=\"font-weight: bold\">        Test metric        </span>┃<span style=\"font-weight: bold\">       DataLoader 0        </span>┃\n",
       "┡━━━━━━━━━━━━━━━━━━━━━━━━━━━╇━━━━━━━━━━━━━━━━━━━━━━━━━━━┩\n",
       "│<span style=\"color: #008080; text-decoration-color: #008080\">         Loss_test         </span>│<span style=\"color: #800080; text-decoration-color: #800080\">   0.015701627358794212    </span>│\n",
       "│<span style=\"color: #008080; text-decoration-color: #008080\">       RegLoss_test        </span>│<span style=\"color: #800080; text-decoration-color: #800080\">            0.0            </span>│\n",
       "└───────────────────────────┴───────────────────────────┘\n",
       "</pre>\n"
      ],
      "text/plain": [
       "┏━━━━━━━━━━━━━━━━━━━━━━━━━━━┳━━━━━━━━━━━━━━━━━━━━━━━━━━━┓\n",
       "┃\u001b[1m \u001b[0m\u001b[1m       Test metric       \u001b[0m\u001b[1m \u001b[0m┃\u001b[1m \u001b[0m\u001b[1m      DataLoader 0       \u001b[0m\u001b[1m \u001b[0m┃\n",
       "┡━━━━━━━━━━━━━━━━━━━━━━━━━━━╇━━━━━━━━━━━━━━━━━━━━━━━━━━━┩\n",
       "│\u001b[36m \u001b[0m\u001b[36m        Loss_test        \u001b[0m\u001b[36m \u001b[0m│\u001b[35m \u001b[0m\u001b[35m  0.015701627358794212   \u001b[0m\u001b[35m \u001b[0m│\n",
       "│\u001b[36m \u001b[0m\u001b[36m      RegLoss_test       \u001b[0m\u001b[36m \u001b[0m│\u001b[35m \u001b[0m\u001b[35m           0.0           \u001b[0m\u001b[35m \u001b[0m│\n",
       "└───────────────────────────┴───────────────────────────┘\n"
      ]
     },
     "metadata": {},
     "output_type": "display_data"
    },
    {
     "name": "stderr",
     "output_type": "stream",
     "text": [
      "INFO - (NP.df_utils._infer_frequency) - Major frequency MS corresponds to 91.483% of the data.\n",
      "INFO - (NP.df_utils._infer_frequency) - Defined frequency is equal to major frequency - MS\n",
      "INFO - (NP.df_utils.return_df_in_original_format) - Returning df with no ID column\n",
      "INFO - (NP.df_utils.return_df_in_original_format) - Returning df with no ID column\n",
      "INFO - (NP.df_utils._infer_frequency) - Major frequency MS corresponds to 91.443% of the data.\n",
      "INFO - (NP.df_utils._infer_frequency) - Defined frequency is equal to major frequency - MS\n",
      "INFO - (NP.config.init_data_params) - Setting normalization to global as only one dataframe provided for training.\n",
      "INFO - (NP.config.set_auto_batch_epoch) - Auto-set batch_size to 32\n",
      "INFO - (NP.config.set_auto_batch_epoch) - Auto-set epochs to 177\n",
      "WARNING - (NP.config.set_lr_finder_args) - Learning rate finder: The number of batches (42) is too small than the required number for the learning rate finder (228). The results might not be optimal.\n"
     ]
    },
    {
     "data": {
      "application/vnd.jupyter.widget-view+json": {
       "model_id": "04294353dee347b8bc44b34ae916d800",
       "version_major": 2,
       "version_minor": 0
      },
      "text/plain": [
       "Finding best initial lr:   0%|          | 0/228 [00:00<?, ?it/s]"
      ]
     },
     "metadata": {},
     "output_type": "display_data"
    },
    {
     "data": {
      "application/vnd.jupyter.widget-view+json": {
       "model_id": "7bcec16d485b4ad0806ddaf53419ec52",
       "version_major": 2,
       "version_minor": 0
      },
      "text/plain": [
       "Training: 0it [00:00, ?it/s]"
      ]
     },
     "metadata": {},
     "output_type": "display_data"
    },
    {
     "name": "stderr",
     "output_type": "stream",
     "text": [
      "INFO - (NP.df_utils._infer_frequency) - Major frequency MS corresponds to 91.343% of the data.\n",
      "INFO - (NP.df_utils._infer_frequency) - Defined frequency is equal to major frequency - MS\n"
     ]
    },
    {
     "data": {
      "application/vnd.jupyter.widget-view+json": {
       "model_id": "d25b5b075d424ecd8379fa7b689e0a11",
       "version_major": 2,
       "version_minor": 0
      },
      "text/plain": [
       "Testing: 0it [00:00, ?it/s]"
      ]
     },
     "metadata": {},
     "output_type": "display_data"
    },
    {
     "data": {
      "text/html": [
       "<pre style=\"white-space:pre;overflow-x:auto;line-height:normal;font-family:Menlo,'DejaVu Sans Mono',consolas,'Courier New',monospace\">┏━━━━━━━━━━━━━━━━━━━━━━━━━━━┳━━━━━━━━━━━━━━━━━━━━━━━━━━━┓\n",
       "┃<span style=\"font-weight: bold\">        Test metric        </span>┃<span style=\"font-weight: bold\">       DataLoader 0        </span>┃\n",
       "┡━━━━━━━━━━━━━━━━━━━━━━━━━━━╇━━━━━━━━━━━━━━━━━━━━━━━━━━━┩\n",
       "│<span style=\"color: #008080; text-decoration-color: #008080\">         Loss_test         </span>│<span style=\"color: #800080; text-decoration-color: #800080\">   0.011676273308694363    </span>│\n",
       "│<span style=\"color: #008080; text-decoration-color: #008080\">       RegLoss_test        </span>│<span style=\"color: #800080; text-decoration-color: #800080\">            0.0            </span>│\n",
       "└───────────────────────────┴───────────────────────────┘\n",
       "</pre>\n"
      ],
      "text/plain": [
       "┏━━━━━━━━━━━━━━━━━━━━━━━━━━━┳━━━━━━━━━━━━━━━━━━━━━━━━━━━┓\n",
       "┃\u001b[1m \u001b[0m\u001b[1m       Test metric       \u001b[0m\u001b[1m \u001b[0m┃\u001b[1m \u001b[0m\u001b[1m      DataLoader 0       \u001b[0m\u001b[1m \u001b[0m┃\n",
       "┡━━━━━━━━━━━━━━━━━━━━━━━━━━━╇━━━━━━━━━━━━━━━━━━━━━━━━━━━┩\n",
       "│\u001b[36m \u001b[0m\u001b[36m        Loss_test        \u001b[0m\u001b[36m \u001b[0m│\u001b[35m \u001b[0m\u001b[35m  0.011676273308694363   \u001b[0m\u001b[35m \u001b[0m│\n",
       "│\u001b[36m \u001b[0m\u001b[36m      RegLoss_test       \u001b[0m\u001b[36m \u001b[0m│\u001b[35m \u001b[0m\u001b[35m           0.0           \u001b[0m\u001b[35m \u001b[0m│\n",
       "└───────────────────────────┴───────────────────────────┘\n"
      ]
     },
     "metadata": {},
     "output_type": "display_data"
    },
    {
     "name": "stderr",
     "output_type": "stream",
     "text": [
      "INFO - (NP.df_utils._infer_frequency) - Major frequency MS corresponds to 91.538% of the data.\n",
      "INFO - (NP.df_utils._infer_frequency) - Defined frequency is equal to major frequency - MS\n",
      "INFO - (NP.df_utils.return_df_in_original_format) - Returning df with no ID column\n",
      "INFO - (NP.df_utils.return_df_in_original_format) - Returning df with no ID column\n",
      "INFO - (NP.df_utils._infer_frequency) - Major frequency MS corresponds to 91.484% of the data.\n",
      "INFO - (NP.df_utils._infer_frequency) - Defined frequency is equal to major frequency - MS\n",
      "INFO - (NP.config.init_data_params) - Setting normalization to global as only one dataframe provided for training.\n",
      "INFO - (NP.config.set_auto_batch_epoch) - Auto-set batch_size to 32\n",
      "INFO - (NP.config.set_auto_batch_epoch) - Auto-set epochs to 173\n",
      "WARNING - (NP.config.set_lr_finder_args) - Learning rate finder: The number of batches (46) is too small than the required number for the learning rate finder (229). The results might not be optimal.\n"
     ]
    },
    {
     "data": {
      "application/vnd.jupyter.widget-view+json": {
       "model_id": "8d67c8cfba2e440492f7d0ae6d02f057",
       "version_major": 2,
       "version_minor": 0
      },
      "text/plain": [
       "Finding best initial lr:   0%|          | 0/229 [00:00<?, ?it/s]"
      ]
     },
     "metadata": {},
     "output_type": "display_data"
    },
    {
     "data": {
      "application/vnd.jupyter.widget-view+json": {
       "model_id": "3c5cad02338849aebd02ae59df37ec73",
       "version_major": 2,
       "version_minor": 0
      },
      "text/plain": [
       "Training: 0it [00:00, ?it/s]"
      ]
     },
     "metadata": {},
     "output_type": "display_data"
    },
    {
     "name": "stderr",
     "output_type": "stream",
     "text": [
      "INFO - (NP.df_utils._infer_frequency) - Major frequency MS corresponds to 91.484% of the data.\n",
      "INFO - (NP.df_utils._infer_frequency) - Defined frequency is equal to major frequency - MS\n"
     ]
    },
    {
     "data": {
      "application/vnd.jupyter.widget-view+json": {
       "model_id": "f2e50942cdc747d88619ee22781539b3",
       "version_major": 2,
       "version_minor": 0
      },
      "text/plain": [
       "Testing: 0it [00:00, ?it/s]"
      ]
     },
     "metadata": {},
     "output_type": "display_data"
    },
    {
     "data": {
      "text/html": [
       "<pre style=\"white-space:pre;overflow-x:auto;line-height:normal;font-family:Menlo,'DejaVu Sans Mono',consolas,'Courier New',monospace\">┏━━━━━━━━━━━━━━━━━━━━━━━━━━━┳━━━━━━━━━━━━━━━━━━━━━━━━━━━┓\n",
       "┃<span style=\"font-weight: bold\">        Test metric        </span>┃<span style=\"font-weight: bold\">       DataLoader 0        </span>┃\n",
       "┡━━━━━━━━━━━━━━━━━━━━━━━━━━━╇━━━━━━━━━━━━━━━━━━━━━━━━━━━┩\n",
       "│<span style=\"color: #008080; text-decoration-color: #008080\">         Loss_test         </span>│<span style=\"color: #800080; text-decoration-color: #800080\">   0.020082149654626846    </span>│\n",
       "│<span style=\"color: #008080; text-decoration-color: #008080\">       RegLoss_test        </span>│<span style=\"color: #800080; text-decoration-color: #800080\">            0.0            </span>│\n",
       "└───────────────────────────┴───────────────────────────┘\n",
       "</pre>\n"
      ],
      "text/plain": [
       "┏━━━━━━━━━━━━━━━━━━━━━━━━━━━┳━━━━━━━━━━━━━━━━━━━━━━━━━━━┓\n",
       "┃\u001b[1m \u001b[0m\u001b[1m       Test metric       \u001b[0m\u001b[1m \u001b[0m┃\u001b[1m \u001b[0m\u001b[1m      DataLoader 0       \u001b[0m\u001b[1m \u001b[0m┃\n",
       "┡━━━━━━━━━━━━━━━━━━━━━━━━━━━╇━━━━━━━━━━━━━━━━━━━━━━━━━━━┩\n",
       "│\u001b[36m \u001b[0m\u001b[36m        Loss_test        \u001b[0m\u001b[36m \u001b[0m│\u001b[35m \u001b[0m\u001b[35m  0.020082149654626846   \u001b[0m\u001b[35m \u001b[0m│\n",
       "│\u001b[36m \u001b[0m\u001b[36m      RegLoss_test       \u001b[0m\u001b[36m \u001b[0m│\u001b[35m \u001b[0m\u001b[35m           0.0           \u001b[0m\u001b[35m \u001b[0m│\n",
       "└───────────────────────────┴───────────────────────────┘\n"
      ]
     },
     "metadata": {},
     "output_type": "display_data"
    },
    {
     "name": "stderr",
     "output_type": "stream",
     "text": [
      "INFO - (NP.df_utils._infer_frequency) - Major frequency MS corresponds to 91.258% of the data.\n",
      "INFO - (NP.df_utils._infer_frequency) - Defined frequency is equal to major frequency - MS\n",
      "INFO - (NP.df_utils.return_df_in_original_format) - Returning df with no ID column\n",
      "INFO - (NP.df_utils.return_df_in_original_format) - Returning df with no ID column\n",
      "INFO - (NP.df_utils._infer_frequency) - Major frequency MS corresponds to 91.153% of the data.\n",
      "INFO - (NP.df_utils._infer_frequency) - Defined frequency is equal to major frequency - MS\n",
      "INFO - (NP.config.init_data_params) - Setting normalization to global as only one dataframe provided for training.\n",
      "INFO - (NP.config.set_auto_batch_epoch) - Auto-set batch_size to 32\n",
      "INFO - (NP.config.set_auto_batch_epoch) - Auto-set epochs to 146\n",
      "WARNING - (NP.config.set_lr_finder_args) - Learning rate finder: The number of batches (83) is too small than the required number for the learning rate finder (235). The results might not be optimal.\n"
     ]
    },
    {
     "data": {
      "application/vnd.jupyter.widget-view+json": {
       "model_id": "f6589244f638435e908f019c7a0fe534",
       "version_major": 2,
       "version_minor": 0
      },
      "text/plain": [
       "Finding best initial lr:   0%|          | 0/235 [00:00<?, ?it/s]"
      ]
     },
     "metadata": {},
     "output_type": "display_data"
    },
    {
     "data": {
      "application/vnd.jupyter.widget-view+json": {
       "model_id": "8bfdc7b9d5ce476f9eb02b0c9a99f635",
       "version_major": 2,
       "version_minor": 0
      },
      "text/plain": [
       "Training: 0it [00:00, ?it/s]"
      ]
     },
     "metadata": {},
     "output_type": "display_data"
    },
    {
     "name": "stderr",
     "output_type": "stream",
     "text": [
      "INFO - (NP.df_utils._infer_frequency) - Major frequency MS corresponds to 91.528% of the data.\n",
      "INFO - (NP.df_utils._infer_frequency) - Defined frequency is equal to major frequency - MS\n"
     ]
    },
    {
     "data": {
      "application/vnd.jupyter.widget-view+json": {
       "model_id": "bf8c8165cb734267b50647bf14c30684",
       "version_major": 2,
       "version_minor": 0
      },
      "text/plain": [
       "Testing: 0it [00:00, ?it/s]"
      ]
     },
     "metadata": {},
     "output_type": "display_data"
    },
    {
     "data": {
      "text/html": [
       "<pre style=\"white-space:pre;overflow-x:auto;line-height:normal;font-family:Menlo,'DejaVu Sans Mono',consolas,'Courier New',monospace\">┏━━━━━━━━━━━━━━━━━━━━━━━━━━━┳━━━━━━━━━━━━━━━━━━━━━━━━━━━┓\n",
       "┃<span style=\"font-weight: bold\">        Test metric        </span>┃<span style=\"font-weight: bold\">       DataLoader 0        </span>┃\n",
       "┡━━━━━━━━━━━━━━━━━━━━━━━━━━━╇━━━━━━━━━━━━━━━━━━━━━━━━━━━┩\n",
       "│<span style=\"color: #008080; text-decoration-color: #008080\">         Loss_test         </span>│<span style=\"color: #800080; text-decoration-color: #800080\">   0.003880829783156514    </span>│\n",
       "│<span style=\"color: #008080; text-decoration-color: #008080\">       RegLoss_test        </span>│<span style=\"color: #800080; text-decoration-color: #800080\">            0.0            </span>│\n",
       "└───────────────────────────┴───────────────────────────┘\n",
       "</pre>\n"
      ],
      "text/plain": [
       "┏━━━━━━━━━━━━━━━━━━━━━━━━━━━┳━━━━━━━━━━━━━━━━━━━━━━━━━━━┓\n",
       "┃\u001b[1m \u001b[0m\u001b[1m       Test metric       \u001b[0m\u001b[1m \u001b[0m┃\u001b[1m \u001b[0m\u001b[1m      DataLoader 0       \u001b[0m\u001b[1m \u001b[0m┃\n",
       "┡━━━━━━━━━━━━━━━━━━━━━━━━━━━╇━━━━━━━━━━━━━━━━━━━━━━━━━━━┩\n",
       "│\u001b[36m \u001b[0m\u001b[36m        Loss_test        \u001b[0m\u001b[36m \u001b[0m│\u001b[35m \u001b[0m\u001b[35m  0.003880829783156514   \u001b[0m\u001b[35m \u001b[0m│\n",
       "│\u001b[36m \u001b[0m\u001b[36m      RegLoss_test       \u001b[0m\u001b[36m \u001b[0m│\u001b[35m \u001b[0m\u001b[35m           0.0           \u001b[0m\u001b[35m \u001b[0m│\n",
       "└───────────────────────────┴───────────────────────────┘\n"
      ]
     },
     "metadata": {},
     "output_type": "display_data"
    },
    {
     "name": "stderr",
     "output_type": "stream",
     "text": [
      "INFO - (NP.df_utils._infer_frequency) - Major frequency MS corresponds to 91.271% of the data.\n",
      "INFO - (NP.df_utils._infer_frequency) - Defined frequency is equal to major frequency - MS\n",
      "INFO - (NP.df_utils.return_df_in_original_format) - Returning df with no ID column\n",
      "INFO - (NP.df_utils.return_df_in_original_format) - Returning df with no ID column\n",
      "INFO - (NP.df_utils._infer_frequency) - Major frequency MS corresponds to 91.176% of the data.\n",
      "INFO - (NP.df_utils._infer_frequency) - Defined frequency is equal to major frequency - MS\n",
      "INFO - (NP.config.init_data_params) - Setting normalization to global as only one dataframe provided for training.\n",
      "INFO - (NP.config.set_auto_batch_epoch) - Auto-set batch_size to 32\n",
      "INFO - (NP.config.set_auto_batch_epoch) - Auto-set epochs to 161\n",
      "WARNING - (NP.config.set_lr_finder_args) - Learning rate finder: The number of batches (59) is too small than the required number for the learning rate finder (232). The results might not be optimal.\n"
     ]
    },
    {
     "data": {
      "application/vnd.jupyter.widget-view+json": {
       "model_id": "ab1f0f08d30640b2a28e6bd9330ba3f1",
       "version_major": 2,
       "version_minor": 0
      },
      "text/plain": [
       "Finding best initial lr:   0%|          | 0/232 [00:00<?, ?it/s]"
      ]
     },
     "metadata": {},
     "output_type": "display_data"
    },
    {
     "data": {
      "application/vnd.jupyter.widget-view+json": {
       "model_id": "eb5de84c00714f97a46d4af70e93c8a1",
       "version_major": 2,
       "version_minor": 0
      },
      "text/plain": [
       "Training: 0it [00:00, ?it/s]"
      ]
     },
     "metadata": {},
     "output_type": "display_data"
    },
    {
     "name": "stderr",
     "output_type": "stream",
     "text": [
      "INFO - (NP.df_utils._infer_frequency) - Major frequency MS corresponds to 91.435% of the data.\n",
      "INFO - (NP.df_utils._infer_frequency) - Defined frequency is equal to major frequency - MS\n"
     ]
    },
    {
     "data": {
      "application/vnd.jupyter.widget-view+json": {
       "model_id": "537d4b401d794d1a985ffa747f283264",
       "version_major": 2,
       "version_minor": 0
      },
      "text/plain": [
       "Testing: 0it [00:00, ?it/s]"
      ]
     },
     "metadata": {},
     "output_type": "display_data"
    },
    {
     "data": {
      "text/html": [
       "<pre style=\"white-space:pre;overflow-x:auto;line-height:normal;font-family:Menlo,'DejaVu Sans Mono',consolas,'Courier New',monospace\">┏━━━━━━━━━━━━━━━━━━━━━━━━━━━┳━━━━━━━━━━━━━━━━━━━━━━━━━━━┓\n",
       "┃<span style=\"font-weight: bold\">        Test metric        </span>┃<span style=\"font-weight: bold\">       DataLoader 0        </span>┃\n",
       "┡━━━━━━━━━━━━━━━━━━━━━━━━━━━╇━━━━━━━━━━━━━━━━━━━━━━━━━━━┩\n",
       "│<span style=\"color: #008080; text-decoration-color: #008080\">         Loss_test         </span>│<span style=\"color: #800080; text-decoration-color: #800080\">   0.016682129353284836    </span>│\n",
       "│<span style=\"color: #008080; text-decoration-color: #008080\">       RegLoss_test        </span>│<span style=\"color: #800080; text-decoration-color: #800080\">            0.0            </span>│\n",
       "└───────────────────────────┴───────────────────────────┘\n",
       "</pre>\n"
      ],
      "text/plain": [
       "┏━━━━━━━━━━━━━━━━━━━━━━━━━━━┳━━━━━━━━━━━━━━━━━━━━━━━━━━━┓\n",
       "┃\u001b[1m \u001b[0m\u001b[1m       Test metric       \u001b[0m\u001b[1m \u001b[0m┃\u001b[1m \u001b[0m\u001b[1m      DataLoader 0       \u001b[0m\u001b[1m \u001b[0m┃\n",
       "┡━━━━━━━━━━━━━━━━━━━━━━━━━━━╇━━━━━━━━━━━━━━━━━━━━━━━━━━━┩\n",
       "│\u001b[36m \u001b[0m\u001b[36m        Loss_test        \u001b[0m\u001b[36m \u001b[0m│\u001b[35m \u001b[0m\u001b[35m  0.016682129353284836   \u001b[0m\u001b[35m \u001b[0m│\n",
       "│\u001b[36m \u001b[0m\u001b[36m      RegLoss_test       \u001b[0m\u001b[36m \u001b[0m│\u001b[35m \u001b[0m\u001b[35m           0.0           \u001b[0m\u001b[35m \u001b[0m│\n",
       "└───────────────────────────┴───────────────────────────┘\n"
      ]
     },
     "metadata": {},
     "output_type": "display_data"
    },
    {
     "name": "stderr",
     "output_type": "stream",
     "text": [
      "INFO - (NP.df_utils._infer_frequency) - Major frequency MS corresponds to 91.304% of the data.\n",
      "INFO - (NP.df_utils._infer_frequency) - Defined frequency is equal to major frequency - MS\n",
      "INFO - (NP.df_utils.return_df_in_original_format) - Returning df with no ID column\n",
      "INFO - (NP.df_utils.return_df_in_original_format) - Returning df with no ID column\n",
      "INFO - (NP.df_utils._infer_frequency) - Major frequency MS corresponds to 91.18% of the data.\n",
      "INFO - (NP.df_utils._infer_frequency) - Defined frequency is equal to major frequency - MS\n",
      "INFO - (NP.config.init_data_params) - Setting normalization to global as only one dataframe provided for training.\n",
      "INFO - (NP.config.set_auto_batch_epoch) - Auto-set batch_size to 32\n",
      "INFO - (NP.config.set_auto_batch_epoch) - Auto-set epochs to 165\n",
      "WARNING - (NP.config.set_lr_finder_args) - Learning rate finder: The number of batches (54) is too small than the required number for the learning rate finder (231). The results might not be optimal.\n"
     ]
    },
    {
     "data": {
      "application/vnd.jupyter.widget-view+json": {
       "model_id": "a9308386c78a493ba92035fe6d435102",
       "version_major": 2,
       "version_minor": 0
      },
      "text/plain": [
       "Finding best initial lr:   0%|          | 0/231 [00:00<?, ?it/s]"
      ]
     },
     "metadata": {},
     "output_type": "display_data"
    },
    {
     "data": {
      "application/vnd.jupyter.widget-view+json": {
       "model_id": "943356f3b2db49dbb5914ad5a78909fa",
       "version_major": 2,
       "version_minor": 0
      },
      "text/plain": [
       "Training: 0it [00:00, ?it/s]"
      ]
     },
     "metadata": {},
     "output_type": "display_data"
    },
    {
     "name": "stderr",
     "output_type": "stream",
     "text": [
      "INFO - (NP.df_utils._infer_frequency) - Major frequency MS corresponds to 91.569% of the data.\n",
      "INFO - (NP.df_utils._infer_frequency) - Defined frequency is equal to major frequency - MS\n"
     ]
    },
    {
     "data": {
      "application/vnd.jupyter.widget-view+json": {
       "model_id": "59cfbf1c01eb46aa91208b1e1853ac2e",
       "version_major": 2,
       "version_minor": 0
      },
      "text/plain": [
       "Testing: 0it [00:00, ?it/s]"
      ]
     },
     "metadata": {},
     "output_type": "display_data"
    },
    {
     "data": {
      "text/html": [
       "<pre style=\"white-space:pre;overflow-x:auto;line-height:normal;font-family:Menlo,'DejaVu Sans Mono',consolas,'Courier New',monospace\">┏━━━━━━━━━━━━━━━━━━━━━━━━━━━┳━━━━━━━━━━━━━━━━━━━━━━━━━━━┓\n",
       "┃<span style=\"font-weight: bold\">        Test metric        </span>┃<span style=\"font-weight: bold\">       DataLoader 0        </span>┃\n",
       "┡━━━━━━━━━━━━━━━━━━━━━━━━━━━╇━━━━━━━━━━━━━━━━━━━━━━━━━━━┩\n",
       "│<span style=\"color: #008080; text-decoration-color: #008080\">         Loss_test         </span>│<span style=\"color: #800080; text-decoration-color: #800080\">   0.022286951541900635    </span>│\n",
       "│<span style=\"color: #008080; text-decoration-color: #008080\">       RegLoss_test        </span>│<span style=\"color: #800080; text-decoration-color: #800080\">            0.0            </span>│\n",
       "└───────────────────────────┴───────────────────────────┘\n",
       "</pre>\n"
      ],
      "text/plain": [
       "┏━━━━━━━━━━━━━━━━━━━━━━━━━━━┳━━━━━━━━━━━━━━━━━━━━━━━━━━━┓\n",
       "┃\u001b[1m \u001b[0m\u001b[1m       Test metric       \u001b[0m\u001b[1m \u001b[0m┃\u001b[1m \u001b[0m\u001b[1m      DataLoader 0       \u001b[0m\u001b[1m \u001b[0m┃\n",
       "┡━━━━━━━━━━━━━━━━━━━━━━━━━━━╇━━━━━━━━━━━━━━━━━━━━━━━━━━━┩\n",
       "│\u001b[36m \u001b[0m\u001b[36m        Loss_test        \u001b[0m\u001b[36m \u001b[0m│\u001b[35m \u001b[0m\u001b[35m  0.022286951541900635   \u001b[0m\u001b[35m \u001b[0m│\n",
       "│\u001b[36m \u001b[0m\u001b[36m      RegLoss_test       \u001b[0m\u001b[36m \u001b[0m│\u001b[35m \u001b[0m\u001b[35m           0.0           \u001b[0m\u001b[35m \u001b[0m│\n",
       "└───────────────────────────┴───────────────────────────┘\n"
      ]
     },
     "metadata": {},
     "output_type": "display_data"
    },
    {
     "name": "stderr",
     "output_type": "stream",
     "text": [
      "INFO - (NP.df_utils._infer_frequency) - Major frequency MS corresponds to 91.294% of the data.\n",
      "INFO - (NP.df_utils._infer_frequency) - Defined frequency is equal to major frequency - MS\n",
      "INFO - (NP.df_utils.return_df_in_original_format) - Returning df with no ID column\n",
      "INFO - (NP.df_utils.return_df_in_original_format) - Returning df with no ID column\n",
      "INFO - (NP.df_utils._infer_frequency) - Major frequency MS corresponds to 91.189% of the data.\n",
      "INFO - (NP.df_utils._infer_frequency) - Defined frequency is equal to major frequency - MS\n",
      "INFO - (NP.config.init_data_params) - Setting normalization to global as only one dataframe provided for training.\n",
      "INFO - (NP.config.set_auto_batch_epoch) - Auto-set batch_size to 32\n",
      "INFO - (NP.config.set_auto_batch_epoch) - Auto-set epochs to 156\n",
      "WARNING - (NP.config.set_lr_finder_args) - Learning rate finder: The number of batches (65) is too small than the required number for the learning rate finder (233). The results might not be optimal.\n"
     ]
    },
    {
     "data": {
      "application/vnd.jupyter.widget-view+json": {
       "model_id": "6c97a2ff7d184eb1abc6a30b4a91febc",
       "version_major": 2,
       "version_minor": 0
      },
      "text/plain": [
       "Finding best initial lr:   0%|          | 0/233 [00:00<?, ?it/s]"
      ]
     },
     "metadata": {},
     "output_type": "display_data"
    },
    {
     "data": {
      "application/vnd.jupyter.widget-view+json": {
       "model_id": "f6b1ff25cc5c4ca7bb5b5a480596b655",
       "version_major": 2,
       "version_minor": 0
      },
      "text/plain": [
       "Training: 0it [00:00, ?it/s]"
      ]
     },
     "metadata": {},
     "output_type": "display_data"
    }
   ],
   "source": [
    "forecasting()"
   ]
  }
 ],
 "metadata": {
  "kernelspec": {
   "display_name": "Python 3 (ipykernel)",
   "language": "python",
   "name": "python3"
  },
  "kubeflow_notebook": {
   "autosnapshot": true,
   "deploy_config": {},
   "docker_image": "gcr.io/arrikto/jupyter-kale-py38@sha256:2e1ce3427b780c0c78e7cfec527ee10c391092fdc4a8344cd76f8b83c61c5234",
   "experiment_name": "temperature",
   "katib_metadata": {
    "algorithm": {
     "algorithmName": "grid"
    },
    "maxFailedTrialCount": 3,
    "maxTrialCount": 12,
    "objective": {
     "objectiveMetricName": "",
     "type": "minimize"
    },
    "parallelTrialCount": 3,
    "parameters": []
   },
   "katib_run": false,
   "pipeline_description": "",
   "pipeline_name": "temperature",
   "snapshot_volumes": true,
   "volume_access_mode": "rwm",
   "volumes": [
    {
     "annotations": [],
     "mount_point": "/home/jovyan",
     "name": "forecasting-workspace-f8qsd",
     "size": 80,
     "size_type": "Gi",
     "snapshot": false,
     "type": "clone"
    }
   ]
  },
  "language_info": {
   "codemirror_mode": {
    "name": "ipython",
    "version": 3
   },
   "file_extension": ".py",
   "mimetype": "text/x-python",
   "name": "python",
   "nbconvert_exporter": "python",
   "pygments_lexer": "ipython3",
   "version": "3.8.0"
  },
  "vscode": {
   "interpreter": {
    "hash": "54d40a8d706b082090ba4f4c3f8e18179a1fa8c2ff26f9ae08651dbcb7b8ab81"
   }
  }
 },
 "nbformat": 4,
 "nbformat_minor": 4
}
