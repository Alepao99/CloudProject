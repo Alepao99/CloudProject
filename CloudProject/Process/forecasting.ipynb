{
 "cells": [
  {
   "cell_type": "code",
   "execution_count": 56,
   "metadata": {
    "tags": []
   },
   "outputs": [
    {
     "name": "stdout",
     "output_type": "stream",
     "text": [
      "Requirement already satisfied: neuralprophet in c:\\users\\aless\\appdata\\local\\programs\\python\\python39\\lib\\site-packages (from -r requirements.txt (line 1)) (0.5.0)\n",
      "Requirement already satisfied: captum>=0.5.0 in c:\\users\\aless\\appdata\\local\\programs\\python\\python39\\lib\\site-packages (from neuralprophet->-r requirements.txt (line 1)) (0.5.0)\n",
      "Requirement already satisfied: pandas>=1.0.4 in c:\\users\\aless\\appdata\\local\\programs\\python\\python39\\lib\\site-packages (from neuralprophet->-r requirements.txt (line 1)) (1.5.1)\n",
      "Requirement already satisfied: matplotlib>=2.0.0 in c:\\users\\aless\\appdata\\local\\programs\\python\\python39\\lib\\site-packages (from neuralprophet->-r requirements.txt (line 1)) (3.6.2)\n",
      "Requirement already satisfied: numpy>=1.15.4 in c:\\users\\aless\\appdata\\local\\programs\\python\\python39\\lib\\site-packages (from neuralprophet->-r requirements.txt (line 1)) (1.23.5)\n",
      "Requirement already satisfied: ipywidgets>=7.5.1 in c:\\users\\aless\\appdata\\local\\programs\\python\\python39\\lib\\site-packages (from neuralprophet->-r requirements.txt (line 1)) (8.0.3)\n",
      "Requirement already satisfied: torch>=1.8.0 in c:\\users\\aless\\appdata\\local\\programs\\python\\python39\\lib\\site-packages (from neuralprophet->-r requirements.txt (line 1)) (1.13.0)\n",
      "Requirement already satisfied: pytorch-lightning==1.7.4 in c:\\users\\aless\\appdata\\local\\programs\\python\\python39\\lib\\site-packages (from neuralprophet->-r requirements.txt (line 1)) (1.7.4)\n",
      "Requirement already satisfied: plotly>=4.14.3 in c:\\users\\aless\\appdata\\local\\programs\\python\\python39\\lib\\site-packages (from neuralprophet->-r requirements.txt (line 1)) (5.11.0)\n",
      "Requirement already satisfied: convertdate>=2.1.2 in c:\\users\\aless\\appdata\\local\\programs\\python\\python39\\lib\\site-packages (from neuralprophet->-r requirements.txt (line 1)) (2.4.0)\n",
      "Requirement already satisfied: python-dateutil>=2.8.0 in c:\\users\\aless\\appdata\\local\\programs\\python\\python39\\lib\\site-packages (from neuralprophet->-r requirements.txt (line 1)) (2.8.2)\n",
      "Requirement already satisfied: torchmetrics==0.9.3 in c:\\users\\aless\\appdata\\local\\programs\\python\\python39\\lib\\site-packages (from neuralprophet->-r requirements.txt (line 1)) (0.9.3)\n",
      "Requirement already satisfied: LunarCalendar>=0.0.9 in c:\\users\\aless\\appdata\\local\\programs\\python\\python39\\lib\\site-packages (from neuralprophet->-r requirements.txt (line 1)) (0.0.9)\n",
      "Requirement already satisfied: rich==12.4.4 in c:\\users\\aless\\appdata\\local\\programs\\python\\python39\\lib\\site-packages (from neuralprophet->-r requirements.txt (line 1)) (12.4.4)\n",
      "Requirement already satisfied: holidays>=0.11.3.1 in c:\\users\\aless\\appdata\\local\\programs\\python\\python39\\lib\\site-packages (from neuralprophet->-r requirements.txt (line 1)) (0.17.2)\n",
      "Requirement already satisfied: typing-extensions>=4.0.0 in c:\\users\\aless\\appdata\\roaming\\python\\python39\\site-packages (from pytorch-lightning==1.7.4->neuralprophet->-r requirements.txt (line 1)) (4.4.0)\n",
      "Requirement already satisfied: PyYAML>=5.4 in c:\\users\\aless\\appdata\\local\\programs\\python\\python39\\lib\\site-packages (from pytorch-lightning==1.7.4->neuralprophet->-r requirements.txt (line 1)) (5.4.1)\n",
      "Requirement already satisfied: tensorboard>=2.9.1 in c:\\users\\aless\\appdata\\roaming\\python\\python39\\site-packages (from pytorch-lightning==1.7.4->neuralprophet->-r requirements.txt (line 1)) (2.10.1)\n",
      "Requirement already satisfied: packaging>=17.0 in c:\\users\\aless\\appdata\\local\\programs\\python\\python39\\lib\\site-packages (from pytorch-lightning==1.7.4->neuralprophet->-r requirements.txt (line 1)) (21.3)\n",
      "Requirement already satisfied: tqdm>=4.57.0 in c:\\users\\aless\\appdata\\roaming\\python\\python39\\site-packages (from pytorch-lightning==1.7.4->neuralprophet->-r requirements.txt (line 1)) (4.64.1)\n",
      "Requirement already satisfied: fsspec[http]!=2021.06.0,>=2021.05.0 in c:\\users\\aless\\appdata\\local\\programs\\python\\python39\\lib\\site-packages (from pytorch-lightning==1.7.4->neuralprophet->-r requirements.txt (line 1)) (2022.11.0)\n",
      "Requirement already satisfied: pyDeprecate>=0.3.1 in c:\\users\\aless\\appdata\\local\\programs\\python\\python39\\lib\\site-packages (from pytorch-lightning==1.7.4->neuralprophet->-r requirements.txt (line 1)) (0.3.2)\n",
      "Requirement already satisfied: pygments<3.0.0,>=2.6.0 in c:\\users\\aless\\appdata\\roaming\\python\\python39\\site-packages (from rich==12.4.4->neuralprophet->-r requirements.txt (line 1)) (2.13.0)\n",
      "Requirement already satisfied: commonmark<0.10.0,>=0.9.0 in c:\\users\\aless\\appdata\\local\\programs\\python\\python39\\lib\\site-packages (from rich==12.4.4->neuralprophet->-r requirements.txt (line 1)) (0.9.1)\n",
      "Requirement already satisfied: pymeeus<=1,>=0.3.13 in c:\\users\\aless\\appdata\\local\\programs\\python\\python39\\lib\\site-packages (from convertdate>=2.1.2->neuralprophet->-r requirements.txt (line 1)) (0.5.12)\n",
      "Requirement already satisfied: korean-lunar-calendar in c:\\users\\aless\\appdata\\local\\programs\\python\\python39\\lib\\site-packages (from holidays>=0.11.3.1->neuralprophet->-r requirements.txt (line 1)) (0.3.1)\n",
      "Requirement already satisfied: hijri-converter in c:\\users\\aless\\appdata\\local\\programs\\python\\python39\\lib\\site-packages (from holidays>=0.11.3.1->neuralprophet->-r requirements.txt (line 1)) (2.2.4)\n",
      "Requirement already satisfied: traitlets>=4.3.1 in c:\\users\\aless\\appdata\\roaming\\python\\python39\\site-packages (from ipywidgets>=7.5.1->neuralprophet->-r requirements.txt (line 1)) (5.5.0)\n",
      "Requirement already satisfied: ipython>=6.1.0 in c:\\users\\aless\\appdata\\roaming\\python\\python39\\site-packages (from ipywidgets>=7.5.1->neuralprophet->-r requirements.txt (line 1)) (8.6.0)\n",
      "Requirement already satisfied: widgetsnbextension~=4.0 in c:\\users\\aless\\appdata\\local\\programs\\python\\python39\\lib\\site-packages (from ipywidgets>=7.5.1->neuralprophet->-r requirements.txt (line 1)) (4.0.4)\n",
      "Requirement already satisfied: jupyterlab-widgets~=3.0 in c:\\users\\aless\\appdata\\local\\programs\\python\\python39\\lib\\site-packages (from ipywidgets>=7.5.1->neuralprophet->-r requirements.txt (line 1)) (3.0.4)\n",
      "Requirement already satisfied: ipykernel>=4.5.1 in c:\\users\\aless\\appdata\\roaming\\python\\python39\\site-packages (from ipywidgets>=7.5.1->neuralprophet->-r requirements.txt (line 1)) (6.17.1)\n",
      "Requirement already satisfied: pytz in c:\\users\\aless\\appdata\\local\\programs\\python\\python39\\lib\\site-packages (from LunarCalendar>=0.0.9->neuralprophet->-r requirements.txt (line 1)) (2022.6)\n",
      "Requirement already satisfied: ephem>=3.7.5.3 in c:\\users\\aless\\appdata\\local\\programs\\python\\python39\\lib\\site-packages (from LunarCalendar>=0.0.9->neuralprophet->-r requirements.txt (line 1)) (4.1.3)\n",
      "Requirement already satisfied: pyparsing>=2.2.1 in c:\\users\\aless\\appdata\\local\\programs\\python\\python39\\lib\\site-packages (from matplotlib>=2.0.0->neuralprophet->-r requirements.txt (line 1)) (3.0.9)\n",
      "Requirement already satisfied: kiwisolver>=1.0.1 in c:\\users\\aless\\appdata\\local\\programs\\python\\python39\\lib\\site-packages (from matplotlib>=2.0.0->neuralprophet->-r requirements.txt (line 1)) (1.4.4)\n",
      "Requirement already satisfied: pillow>=6.2.0 in c:\\users\\aless\\appdata\\local\\programs\\python\\python39\\lib\\site-packages (from matplotlib>=2.0.0->neuralprophet->-r requirements.txt (line 1)) (9.3.0)\n",
      "Requirement already satisfied: cycler>=0.10 in c:\\users\\aless\\appdata\\local\\programs\\python\\python39\\lib\\site-packages (from matplotlib>=2.0.0->neuralprophet->-r requirements.txt (line 1)) (0.11.0)\n",
      "Requirement already satisfied: contourpy>=1.0.1 in c:\\users\\aless\\appdata\\local\\programs\\python\\python39\\lib\\site-packages (from matplotlib>=2.0.0->neuralprophet->-r requirements.txt (line 1)) (1.0.6)\n",
      "Requirement already satisfied: fonttools>=4.22.0 in c:\\users\\aless\\appdata\\local\\programs\\python\\python39\\lib\\site-packages (from matplotlib>=2.0.0->neuralprophet->-r requirements.txt (line 1)) (4.38.0)\n",
      "Requirement already satisfied: tenacity>=6.2.0 in c:\\users\\aless\\appdata\\local\\programs\\python\\python39\\lib\\site-packages (from plotly>=4.14.3->neuralprophet->-r requirements.txt (line 1)) (8.1.0)\n",
      "Requirement already satisfied: six>=1.5 in c:\\users\\aless\\appdata\\local\\programs\\python\\python39\\lib\\site-packages (from python-dateutil>=2.8.0->neuralprophet->-r requirements.txt (line 1)) (1.16.0)\n",
      "Requirement already satisfied: aiohttp!=4.0.0a0,!=4.0.0a1 in c:\\users\\aless\\appdata\\local\\programs\\python\\python39\\lib\\site-packages (from fsspec[http]!=2021.06.0,>=2021.05.0->pytorch-lightning==1.7.4->neuralprophet->-r requirements.txt (line 1)) (3.8.3)\n",
      "Requirement already satisfied: requests in c:\\users\\aless\\appdata\\roaming\\python\\python39\\site-packages (from fsspec[http]!=2021.06.0,>=2021.05.0->pytorch-lightning==1.7.4->neuralprophet->-r requirements.txt (line 1)) (2.28.1)\n",
      "Requirement already satisfied: nest-asyncio in c:\\users\\aless\\appdata\\roaming\\python\\python39\\site-packages (from ipykernel>=4.5.1->ipywidgets>=7.5.1->neuralprophet->-r requirements.txt (line 1)) (1.5.6)\n",
      "Requirement already satisfied: debugpy>=1.0 in c:\\users\\aless\\appdata\\roaming\\python\\python39\\site-packages (from ipykernel>=4.5.1->ipywidgets>=7.5.1->neuralprophet->-r requirements.txt (line 1)) (1.6.3)\n",
      "Requirement already satisfied: pyzmq>=17 in c:\\users\\aless\\appdata\\roaming\\python\\python39\\site-packages (from ipykernel>=4.5.1->ipywidgets>=7.5.1->neuralprophet->-r requirements.txt (line 1)) (24.0.1)\n",
      "Requirement already satisfied: psutil in c:\\users\\aless\\appdata\\roaming\\python\\python39\\site-packages (from ipykernel>=4.5.1->ipywidgets>=7.5.1->neuralprophet->-r requirements.txt (line 1)) (5.9.4)\n",
      "Requirement already satisfied: tornado>=6.1 in c:\\users\\aless\\appdata\\roaming\\python\\python39\\site-packages (from ipykernel>=4.5.1->ipywidgets>=7.5.1->neuralprophet->-r requirements.txt (line 1)) (6.2)\n",
      "Requirement already satisfied: jupyter-client>=6.1.12 in c:\\users\\aless\\appdata\\roaming\\python\\python39\\site-packages (from ipykernel>=4.5.1->ipywidgets>=7.5.1->neuralprophet->-r requirements.txt (line 1)) (7.4.7)\n",
      "Requirement already satisfied: matplotlib-inline>=0.1 in c:\\users\\aless\\appdata\\roaming\\python\\python39\\site-packages (from ipykernel>=4.5.1->ipywidgets>=7.5.1->neuralprophet->-r requirements.txt (line 1)) (0.1.6)\n",
      "Requirement already satisfied: stack-data in c:\\users\\aless\\appdata\\roaming\\python\\python39\\site-packages (from ipython>=6.1.0->ipywidgets>=7.5.1->neuralprophet->-r requirements.txt (line 1)) (0.6.1)\n",
      "Requirement already satisfied: jedi>=0.16 in c:\\users\\aless\\appdata\\roaming\\python\\python39\\site-packages (from ipython>=6.1.0->ipywidgets>=7.5.1->neuralprophet->-r requirements.txt (line 1)) (0.18.1)\n",
      "Requirement already satisfied: prompt-toolkit<3.1.0,>3.0.1 in c:\\users\\aless\\appdata\\roaming\\python\\python39\\site-packages (from ipython>=6.1.0->ipywidgets>=7.5.1->neuralprophet->-r requirements.txt (line 1)) (3.0.32)\n",
      "Requirement already satisfied: pickleshare in c:\\users\\aless\\appdata\\roaming\\python\\python39\\site-packages (from ipython>=6.1.0->ipywidgets>=7.5.1->neuralprophet->-r requirements.txt (line 1)) (0.7.5)\n",
      "Requirement already satisfied: backcall in c:\\users\\aless\\appdata\\roaming\\python\\python39\\site-packages (from ipython>=6.1.0->ipywidgets>=7.5.1->neuralprophet->-r requirements.txt (line 1)) (0.2.0)\n",
      "Requirement already satisfied: decorator in c:\\users\\aless\\appdata\\roaming\\python\\python39\\site-packages (from ipython>=6.1.0->ipywidgets>=7.5.1->neuralprophet->-r requirements.txt (line 1)) (5.1.1)\n",
      "Requirement already satisfied: colorama in c:\\users\\aless\\appdata\\roaming\\python\\python39\\site-packages (from ipython>=6.1.0->ipywidgets>=7.5.1->neuralprophet->-r requirements.txt (line 1)) (0.4.5)\n",
      "Requirement already satisfied: markdown>=2.6.8 in c:\\users\\aless\\appdata\\roaming\\python\\python39\\site-packages (from tensorboard>=2.9.1->pytorch-lightning==1.7.4->neuralprophet->-r requirements.txt (line 1)) (3.4.1)\n",
      "Requirement already satisfied: absl-py>=0.4 in c:\\users\\aless\\appdata\\roaming\\python\\python39\\site-packages (from tensorboard>=2.9.1->pytorch-lightning==1.7.4->neuralprophet->-r requirements.txt (line 1)) (1.2.0)\n",
      "Requirement already satisfied: grpcio>=1.24.3 in c:\\users\\aless\\appdata\\roaming\\python\\python39\\site-packages (from tensorboard>=2.9.1->pytorch-lightning==1.7.4->neuralprophet->-r requirements.txt (line 1)) (1.49.1)\n",
      "Requirement already satisfied: werkzeug>=1.0.1 in c:\\users\\aless\\appdata\\roaming\\python\\python39\\site-packages (from tensorboard>=2.9.1->pytorch-lightning==1.7.4->neuralprophet->-r requirements.txt (line 1)) (2.2.2)\n",
      "Requirement already satisfied: google-auth-oauthlib<0.5,>=0.4.1 in c:\\users\\aless\\appdata\\roaming\\python\\python39\\site-packages (from tensorboard>=2.9.1->pytorch-lightning==1.7.4->neuralprophet->-r requirements.txt (line 1)) (0.4.6)\n",
      "Requirement already satisfied: protobuf<3.20,>=3.9.2 in c:\\users\\aless\\appdata\\roaming\\python\\python39\\site-packages (from tensorboard>=2.9.1->pytorch-lightning==1.7.4->neuralprophet->-r requirements.txt (line 1)) (3.19.6)\n",
      "Requirement already satisfied: setuptools>=41.0.0 in c:\\users\\aless\\appdata\\local\\programs\\python\\python39\\lib\\site-packages (from tensorboard>=2.9.1->pytorch-lightning==1.7.4->neuralprophet->-r requirements.txt (line 1)) (65.6.3)\n",
      "Requirement already satisfied: tensorboard-data-server<0.7.0,>=0.6.0 in c:\\users\\aless\\appdata\\roaming\\python\\python39\\site-packages (from tensorboard>=2.9.1->pytorch-lightning==1.7.4->neuralprophet->-r requirements.txt (line 1)) (0.6.1)\n",
      "Requirement already satisfied: google-auth<3,>=1.6.3 in c:\\users\\aless\\appdata\\local\\programs\\python\\python39\\lib\\site-packages (from tensorboard>=2.9.1->pytorch-lightning==1.7.4->neuralprophet->-r requirements.txt (line 1)) (2.15.0)\n",
      "Requirement already satisfied: wheel>=0.26 in c:\\users\\aless\\appdata\\roaming\\python\\python39\\site-packages (from tensorboard>=2.9.1->pytorch-lightning==1.7.4->neuralprophet->-r requirements.txt (line 1)) (0.37.1)\n",
      "Requirement already satisfied: tensorboard-plugin-wit>=1.6.0 in c:\\users\\aless\\appdata\\roaming\\python\\python39\\site-packages (from tensorboard>=2.9.1->pytorch-lightning==1.7.4->neuralprophet->-r requirements.txt (line 1)) (1.8.1)\n",
      "Requirement already satisfied: attrs>=17.3.0 in c:\\users\\aless\\appdata\\local\\programs\\python\\python39\\lib\\site-packages (from aiohttp!=4.0.0a0,!=4.0.0a1->fsspec[http]!=2021.06.0,>=2021.05.0->pytorch-lightning==1.7.4->neuralprophet->-r requirements.txt (line 1)) (22.1.0)\n",
      "Requirement already satisfied: async-timeout<5.0,>=4.0.0a3 in c:\\users\\aless\\appdata\\local\\programs\\python\\python39\\lib\\site-packages (from aiohttp!=4.0.0a0,!=4.0.0a1->fsspec[http]!=2021.06.0,>=2021.05.0->pytorch-lightning==1.7.4->neuralprophet->-r requirements.txt (line 1)) (4.0.2)\n",
      "Requirement already satisfied: multidict<7.0,>=4.5 in c:\\users\\aless\\appdata\\local\\programs\\python\\python39\\lib\\site-packages (from aiohttp!=4.0.0a0,!=4.0.0a1->fsspec[http]!=2021.06.0,>=2021.05.0->pytorch-lightning==1.7.4->neuralprophet->-r requirements.txt (line 1)) (6.0.3)\n",
      "Requirement already satisfied: frozenlist>=1.1.1 in c:\\users\\aless\\appdata\\local\\programs\\python\\python39\\lib\\site-packages (from aiohttp!=4.0.0a0,!=4.0.0a1->fsspec[http]!=2021.06.0,>=2021.05.0->pytorch-lightning==1.7.4->neuralprophet->-r requirements.txt (line 1)) (1.3.3)\n",
      "Requirement already satisfied: charset-normalizer<3.0,>=2.0 in c:\\users\\aless\\appdata\\roaming\\python\\python39\\site-packages (from aiohttp!=4.0.0a0,!=4.0.0a1->fsspec[http]!=2021.06.0,>=2021.05.0->pytorch-lightning==1.7.4->neuralprophet->-r requirements.txt (line 1)) (2.1.1)\n",
      "Requirement already satisfied: yarl<2.0,>=1.0 in c:\\users\\aless\\appdata\\local\\programs\\python\\python39\\lib\\site-packages (from aiohttp!=4.0.0a0,!=4.0.0a1->fsspec[http]!=2021.06.0,>=2021.05.0->pytorch-lightning==1.7.4->neuralprophet->-r requirements.txt (line 1)) (1.8.2)\n",
      "Requirement already satisfied: aiosignal>=1.1.2 in c:\\users\\aless\\appdata\\local\\programs\\python\\python39\\lib\\site-packages (from aiohttp!=4.0.0a0,!=4.0.0a1->fsspec[http]!=2021.06.0,>=2021.05.0->pytorch-lightning==1.7.4->neuralprophet->-r requirements.txt (line 1)) (1.3.1)\n",
      "Requirement already satisfied: cachetools<6.0,>=2.0.0 in c:\\users\\aless\\appdata\\roaming\\python\\python39\\site-packages (from google-auth<3,>=1.6.3->tensorboard>=2.9.1->pytorch-lightning==1.7.4->neuralprophet->-r requirements.txt (line 1)) (5.2.0)\n",
      "Requirement already satisfied: pyasn1-modules>=0.2.1 in c:\\users\\aless\\appdata\\roaming\\python\\python39\\site-packages (from google-auth<3,>=1.6.3->tensorboard>=2.9.1->pytorch-lightning==1.7.4->neuralprophet->-r requirements.txt (line 1)) (0.2.8)\n",
      "Requirement already satisfied: rsa<5,>=3.1.4 in c:\\users\\aless\\appdata\\roaming\\python\\python39\\site-packages (from google-auth<3,>=1.6.3->tensorboard>=2.9.1->pytorch-lightning==1.7.4->neuralprophet->-r requirements.txt (line 1)) (4.9)\n",
      "Requirement already satisfied: requests-oauthlib>=0.7.0 in c:\\users\\aless\\appdata\\roaming\\python\\python39\\site-packages (from google-auth-oauthlib<0.5,>=0.4.1->tensorboard>=2.9.1->pytorch-lightning==1.7.4->neuralprophet->-r requirements.txt (line 1)) (1.3.1)\n",
      "Requirement already satisfied: parso<0.9.0,>=0.8.0 in c:\\users\\aless\\appdata\\roaming\\python\\python39\\site-packages (from jedi>=0.16->ipython>=6.1.0->ipywidgets>=7.5.1->neuralprophet->-r requirements.txt (line 1)) (0.8.3)\n",
      "Requirement already satisfied: jupyter-core>=4.9.2 in c:\\users\\aless\\appdata\\roaming\\python\\python39\\site-packages (from jupyter-client>=6.1.12->ipykernel>=4.5.1->ipywidgets>=7.5.1->neuralprophet->-r requirements.txt (line 1)) (5.0.0)\n",
      "Requirement already satisfied: entrypoints in c:\\users\\aless\\appdata\\roaming\\python\\python39\\site-packages (from jupyter-client>=6.1.12->ipykernel>=4.5.1->ipywidgets>=7.5.1->neuralprophet->-r requirements.txt (line 1)) (0.4)\n",
      "Requirement already satisfied: importlib-metadata>=4.4 in c:\\users\\aless\\appdata\\roaming\\python\\python39\\site-packages (from markdown>=2.6.8->tensorboard>=2.9.1->pytorch-lightning==1.7.4->neuralprophet->-r requirements.txt (line 1)) (5.0.0)\n",
      "Requirement already satisfied: wcwidth in c:\\users\\aless\\appdata\\roaming\\python\\python39\\site-packages (from prompt-toolkit<3.1.0,>3.0.1->ipython>=6.1.0->ipywidgets>=7.5.1->neuralprophet->-r requirements.txt (line 1)) (0.2.5)\n",
      "Requirement already satisfied: certifi>=2017.4.17 in c:\\users\\aless\\appdata\\roaming\\python\\python39\\site-packages (from requests->fsspec[http]!=2021.06.0,>=2021.05.0->pytorch-lightning==1.7.4->neuralprophet->-r requirements.txt (line 1)) (2022.9.24)\n",
      "Requirement already satisfied: urllib3<1.27,>=1.21.1 in c:\\users\\aless\\appdata\\roaming\\python\\python39\\site-packages (from requests->fsspec[http]!=2021.06.0,>=2021.05.0->pytorch-lightning==1.7.4->neuralprophet->-r requirements.txt (line 1)) (1.26.12)\n",
      "Requirement already satisfied: idna<4,>=2.5 in c:\\users\\aless\\appdata\\roaming\\python\\python39\\site-packages (from requests->fsspec[http]!=2021.06.0,>=2021.05.0->pytorch-lightning==1.7.4->neuralprophet->-r requirements.txt (line 1)) (3.4)\n",
      "Requirement already satisfied: MarkupSafe>=2.1.1 in c:\\users\\aless\\appdata\\roaming\\python\\python39\\site-packages (from werkzeug>=1.0.1->tensorboard>=2.9.1->pytorch-lightning==1.7.4->neuralprophet->-r requirements.txt (line 1)) (2.1.1)\n",
      "Requirement already satisfied: pure-eval in c:\\users\\aless\\appdata\\roaming\\python\\python39\\site-packages (from stack-data->ipython>=6.1.0->ipywidgets>=7.5.1->neuralprophet->-r requirements.txt (line 1)) (0.2.2)\n",
      "Requirement already satisfied: asttokens>=2.1.0 in c:\\users\\aless\\appdata\\roaming\\python\\python39\\site-packages (from stack-data->ipython>=6.1.0->ipywidgets>=7.5.1->neuralprophet->-r requirements.txt (line 1)) (2.1.0)\n",
      "Requirement already satisfied: executing>=1.2.0 in c:\\users\\aless\\appdata\\roaming\\python\\python39\\site-packages (from stack-data->ipython>=6.1.0->ipywidgets>=7.5.1->neuralprophet->-r requirements.txt (line 1)) (1.2.0)\n",
      "Requirement already satisfied: zipp>=0.5 in c:\\users\\aless\\appdata\\roaming\\python\\python39\\site-packages (from importlib-metadata>=4.4->markdown>=2.6.8->tensorboard>=2.9.1->pytorch-lightning==1.7.4->neuralprophet->-r requirements.txt (line 1)) (3.8.1)\n",
      "Requirement already satisfied: pywin32>=1.0 in c:\\users\\aless\\appdata\\roaming\\python\\python39\\site-packages (from jupyter-core>=4.9.2->jupyter-client>=6.1.12->ipykernel>=4.5.1->ipywidgets>=7.5.1->neuralprophet->-r requirements.txt (line 1)) (305)\n",
      "Requirement already satisfied: platformdirs in c:\\users\\aless\\appdata\\roaming\\python\\python39\\site-packages (from jupyter-core>=4.9.2->jupyter-client>=6.1.12->ipykernel>=4.5.1->ipywidgets>=7.5.1->neuralprophet->-r requirements.txt (line 1)) (2.5.4)\n",
      "Requirement already satisfied: pyasn1<0.5.0,>=0.4.6 in c:\\users\\aless\\appdata\\roaming\\python\\python39\\site-packages (from pyasn1-modules>=0.2.1->google-auth<3,>=1.6.3->tensorboard>=2.9.1->pytorch-lightning==1.7.4->neuralprophet->-r requirements.txt (line 1)) (0.4.8)\n",
      "Requirement already satisfied: oauthlib>=3.0.0 in c:\\users\\aless\\appdata\\roaming\\python\\python39\\site-packages (from requests-oauthlib>=0.7.0->google-auth-oauthlib<0.5,>=0.4.1->tensorboard>=2.9.1->pytorch-lightning==1.7.4->neuralprophet->-r requirements.txt (line 1)) (3.2.1)\n"
     ]
    },
    {
     "name": "stderr",
     "output_type": "stream",
     "text": [
      "WARNING: Ignoring invalid distribution -rotobuf (c:\\users\\aless\\appdata\\roaming\\python\\python39\\site-packages)\n",
      "WARNING: Ignoring invalid distribution -umpy (c:\\users\\aless\\appdata\\local\\programs\\python\\python39\\lib\\site-packages)\n",
      "WARNING: Ignoring invalid distribution -rotobuf (c:\\users\\aless\\appdata\\roaming\\python\\python39\\site-packages)\n",
      "WARNING: Ignoring invalid distribution -umpy (c:\\users\\aless\\appdata\\local\\programs\\python\\python39\\lib\\site-packages)\n",
      "WARNING: Ignoring invalid distribution -rotobuf (c:\\users\\aless\\appdata\\roaming\\python\\python39\\site-packages)\n",
      "WARNING: Ignoring invalid distribution -umpy (c:\\users\\aless\\appdata\\local\\programs\\python\\python39\\lib\\site-packages)\n",
      "WARNING: Ignoring invalid distribution -rotobuf (c:\\users\\aless\\appdata\\roaming\\python\\python39\\site-packages)\n",
      "WARNING: Ignoring invalid distribution -umpy (c:\\users\\aless\\appdata\\local\\programs\\python\\python39\\lib\\site-packages)\n",
      "WARNING: Ignoring invalid distribution -rotobuf (c:\\users\\aless\\appdata\\roaming\\python\\python39\\site-packages)\n",
      "WARNING: Ignoring invalid distribution -umpy (c:\\users\\aless\\appdata\\local\\programs\\python\\python39\\lib\\site-packages)\n",
      "WARNING: Ignoring invalid distribution -rotobuf (c:\\users\\aless\\appdata\\roaming\\python\\python39\\site-packages)\n",
      "WARNING: Ignoring invalid distribution -umpy (c:\\users\\aless\\appdata\\local\\programs\\python\\python39\\lib\\site-packages)\n"
     ]
    }
   ],
   "source": [
    "!pip install --user -r requirements.txt"
   ]
  },
  {
   "cell_type": "code",
   "execution_count": 57,
   "metadata": {
    "kubeflow_notebook": {
     "deploy_config": {
      "affinity": {},
      "annotations": {},
      "env": [],
      "env_from": [],
      "labels": {},
      "limits": {},
      "node_selector": {},
      "requests": {},
      "tolerations": []
     }
    },
    "tags": [
     "block:process_europe"
    ]
   },
   "outputs": [],
   "source": [
    "import pandas as pd\n",
    "pd.options.mode.chained_assignment = None \n",
    "def pre_processing_data_europe(database):\n",
    "    df = pd.read_csv(database)\n",
    "    data = df.loc[df['Region'] == 'Europe']\n",
    "    new_column = data.groupby(['Date'])['AvgTemp'].mean().round(decimals = 3).reset_index()\n",
    "    new_column.dropna(inplace=True)\n",
    "    new_column.columns = ['ds', 'y']\n",
    "    pd.to_pickle(new_column, 'data/europe_dataset.pkl')\n",
    "    #new_column.to_csv('data/europe_dataset.csv', index = False)"
   ]
  },
  {
   "cell_type": "code",
   "execution_count": 58,
   "metadata": {
    "kubeflow_notebook": {
     "deploy_config": {
      "affinity": {},
      "annotations": {},
      "env": [],
      "env_from": [],
      "labels": {},
      "limits": {},
      "node_selector": {},
      "requests": {},
      "tolerations": []
     }
    },
    "tags": [
     "block:process_madrid"
    ]
   },
   "outputs": [],
   "source": [
    "import pandas as pd\n",
    "pd.options.mode.chained_assignment = None \n",
    "def pre_processing_data_europe_madrid(database):\n",
    "    df = pd.read_csv(database)\n",
    "    data = df.loc[df['Region'] == 'Europe']\n",
    "    data = data[data['City'] == 'Madrid']\n",
    "    new_column = data.groupby(['Date'])['AvgTemp'].mean().round(decimals = 3).reset_index()\n",
    "    new_column.dropna(inplace=True)\n",
    "    new_column.columns = ['ds', 'y']\n",
    "    pd.to_pickle(new_column, 'data/europe_madrid_dataset.pkl')\n",
    "    #new_column.to_csv('data/europe_dataset.csv', index = False)"
   ]
  },
  {
   "cell_type": "code",
   "execution_count": 59,
   "metadata": {
    "kubeflow_notebook": {
     "deploy_config": {
      "affinity": {},
      "annotations": {},
      "env": [],
      "env_from": [],
      "labels": {},
      "limits": {},
      "node_selector": {},
      "requests": {},
      "tolerations": []
     }
    },
    "tags": [
     "block:process_rome"
    ]
   },
   "outputs": [],
   "source": [
    "import pandas as pd\n",
    "pd.options.mode.chained_assignment = None \n",
    "def pre_processing_data_europe_rome(database):\n",
    "    df = pd.read_csv(database)\n",
    "    data = df.loc[df['Region'] == 'Europe']\n",
    "    data = data[data['City'] == 'Rome']\n",
    "    new_column = data.groupby(['Date'])['AvgTemp'].mean().round(decimals = 3).reset_index()\n",
    "    new_column.dropna(inplace=True)\n",
    "    new_column.columns = ['ds', 'y']\n",
    "    pd.to_pickle(new_column, 'data/europe_rome_dataset.pkl')\n",
    "    #new_column.to_csv('data/europe_dataset.csv', index = False)"
   ]
  },
  {
   "cell_type": "code",
   "execution_count": 60,
   "metadata": {
    "kubeflow_notebook": {
     "deploy_config": {
      "affinity": {},
      "annotations": {},
      "env": [],
      "env_from": [],
      "labels": {},
      "limits": {},
      "node_selector": {},
      "requests": {},
      "tolerations": []
     }
    },
    "tags": [
     "block:process_paris"
    ]
   },
   "outputs": [],
   "source": [
    "import pandas as pd\n",
    "pd.options.mode.chained_assignment = None \n",
    "def pre_processing_data_europe_paris(database):\n",
    "    df = pd.read_csv(database)\n",
    "    data = df.loc[df['Region'] == 'Europe']\n",
    "    data = data[data['City'] == 'Paris']\n",
    "    new_column = data.groupby(['Date'])['AvgTemp'].mean().round(decimals = 3).reset_index()\n",
    "    new_column.dropna(inplace=True)\n",
    "    new_column.columns = ['ds', 'y']\n",
    "    pd.to_pickle(new_column, 'data/europe_paris_dataset.pkl')\n",
    "    #new_column.to_csv('data/europe_dataset.csv', index = False)"
   ]
  },
  {
   "cell_type": "code",
   "execution_count": 61,
   "metadata": {
    "kubeflow_notebook": {
     "deploy_config": {
      "affinity": {},
      "annotations": {},
      "env": [],
      "env_from": [],
      "labels": {},
      "limits": {},
      "node_selector": {},
      "requests": {},
      "tolerations": []
     }
    },
    "tags": [
     "block:process_africa"
    ]
   },
   "outputs": [],
   "source": [
    "import pandas as pd\n",
    "pd.options.mode.chained_assignment = None \n",
    "def pre_processing_data_africa(database):\n",
    "    df = pd.read_csv(database)\n",
    "    data = df.loc[df['Region'] == 'Africa']\n",
    "    new_column = data.groupby(['Date'])['AvgTemp'].mean().round(decimals = 3).reset_index()\n",
    "    new_column.dropna(inplace=True)\n",
    "    new_column.columns = ['ds', 'y']\n",
    "    pd.to_pickle(new_column, 'data/africa_dataset.pkl')\n",
    "    #new_column.to_csv('data/africa_dataset.csv', index = False)\n"
   ]
  },
  {
   "cell_type": "code",
   "execution_count": 62,
   "metadata": {
    "kubeflow_notebook": {
     "deploy_config": {
      "affinity": {},
      "annotations": {},
      "env": [],
      "env_from": [],
      "labels": {},
      "limits": {},
      "node_selector": {},
      "requests": {},
      "tolerations": []
     }
    },
    "tags": [
     "block:process_nairobi"
    ]
   },
   "outputs": [],
   "source": [
    "import pandas as pd\n",
    "pd.options.mode.chained_assignment = None \n",
    "def pre_processing_data_africa_nairobi(database):\n",
    "    df = pd.read_csv(database)\n",
    "    data = df.loc[df['Region'] == 'Africa']\n",
    "    data = data[data['City'] == 'Nairobi']\n",
    "    new_column = data.groupby(['Date'])['AvgTemp'].mean().round(decimals = 3).reset_index()\n",
    "    new_column.dropna(inplace=True)\n",
    "    new_column.columns = ['ds', 'y']\n",
    "    pd.to_pickle(new_column, 'data/africa_nairobi_dataset.pkl')\n",
    "    #new_column.to_csv('data/africa_dataset.csv', index = False)\n"
   ]
  },
  {
   "cell_type": "code",
   "execution_count": 63,
   "metadata": {
    "kubeflow_notebook": {
     "deploy_config": {
      "affinity": {},
      "annotations": {},
      "env": [],
      "env_from": [],
      "labels": {},
      "limits": {},
      "node_selector": {},
      "requests": {},
      "tolerations": []
     }
    },
    "tags": [
     "block:process_dakar"
    ]
   },
   "outputs": [],
   "source": [
    "import pandas as pd\n",
    "pd.options.mode.chained_assignment = None \n",
    "def pre_processing_data_africa_dakar(database):\n",
    "    df = pd.read_csv(database)\n",
    "    data = df.loc[df['Region'] == 'Africa']\n",
    "    data = data[data['City'] == 'Dakar']     \n",
    "    new_column = data.groupby(['Date'])['AvgTemp'].mean().round(decimals = 3).reset_index()\n",
    "    new_column.dropna(inplace=True)\n",
    "    new_column.columns = ['ds', 'y']\n",
    "    pd.to_pickle(new_column, 'data/africa_dakar_dataset.pkl')\n",
    "    #new_column.to_csv('data/africa_dataset.csv', index = False)\n"
   ]
  },
  {
   "cell_type": "code",
   "execution_count": 64,
   "metadata": {
    "kubeflow_notebook": {
     "deploy_config": {
      "affinity": {},
      "annotations": {},
      "env": [],
      "env_from": [],
      "labels": {},
      "limits": {},
      "node_selector": {},
      "requests": {},
      "tolerations": []
     }
    },
    "tags": [
     "block:process_um"
    ]
   },
   "outputs": [],
   "source": [
    "import pandas as pd\n",
    "pd.options.mode.chained_assignment = None \n",
    "def pre_processing_data_africa_um(database):\n",
    "    df = pd.read_csv(database)\n",
    "    data = df.loc[df['Region'] == 'Africa']\n",
    "    data = data[data['City'] == 'Um']\n",
    "    new_column = data.groupby(['Date'])['AvgTemp'].mean().round(decimals = 3).reset_index()\n",
    "    new_column.dropna(inplace=True)\n",
    "    new_column.columns = ['ds', 'y']\n",
    "    pd.to_pickle(new_column, 'data/africa_um_dataset.pkl')\n",
    "    #new_column.to_csv('data/africa_dataset.csv', index = False)\n"
   ]
  },
  {
   "cell_type": "code",
   "execution_count": 65,
   "metadata": {
    "kubeflow_notebook": {
     "deploy_config": {
      "affinity": {},
      "annotations": {},
      "env": [],
      "env_from": [],
      "labels": {},
      "limits": {},
      "node_selector": {},
      "requests": {},
      "tolerations": []
     }
    },
    "tags": [
     "block:forecasting_europe",
     "prev:process_europe"
    ]
   },
   "outputs": [],
   "source": [
    "from neuralprophet import NeuralProphet\n",
    "def model_europe(data_file):\n",
    "    df = pd.read_pickle(data_file)\n",
    "    n = NeuralProphet(weekly_seasonality=True, daily_seasonality=True)\n",
    "    model = n.fit(df, freq='MS', epochs=5)\n",
    "    future = n.make_future_dataframe(df, periods=15)\n",
    "    forecast = n.predict(future)\n",
    "    data = forecast.drop(['y', 'trend', 'season_yearly'], axis=1)\n",
    "    out_result_df = pd.concat([df, data], axis=0)\n",
    "    out_result_df['ds'] = pd.to_datetime(out_result_df['ds'])\n",
    "    pd.to_pickle(out_result_df, 'data/forecasting/europe_forecasting.pkl')"
   ]
  },
  {
   "cell_type": "code",
   "execution_count": 66,
   "metadata": {},
   "outputs": [],
   "source": [
    "from neuralprophet import NeuralProphet\n",
    "def model_europe_metrics(data_file):\n",
    "    df = pd.read_pickle(data_file)\n",
    "    n = NeuralProphet(weekly_seasonality=True, daily_seasonality=True)\n",
    "    df_train, df_test = n.split_df(df=df, freq=\"MS\", valid_p=0.2)\n",
    "    metrics_train = n.fit(df=df_train, freq=\"MS\")\n",
    "    metrics_test = n.test(df=df_test)\n",
    "    return metrics_test"
   ]
  },
  {
   "cell_type": "code",
   "execution_count": 67,
   "metadata": {
    "kubeflow_notebook": {
     "deploy_config": {
      "affinity": {},
      "annotations": {},
      "env": [],
      "env_from": [],
      "labels": {},
      "limits": {},
      "node_selector": {},
      "requests": {},
      "tolerations": []
     }
    },
    "tags": [
     "block:forecasting_madrid",
     "prev:process_madrid"
    ]
   },
   "outputs": [],
   "source": [
    "from neuralprophet import NeuralProphet\n",
    "def model_europe_madrid(data_file):\n",
    "    df = pd.read_pickle(data_file)\n",
    "    n = NeuralProphet(weekly_seasonality=True, daily_seasonality=True)\n",
    "    model = n.fit(df, freq='MS', epochs=5)\n",
    "    future = n.make_future_dataframe(df, periods=15)\n",
    "    forecast = n.predict(future)\n",
    "    data = forecast.drop(['y', 'trend', 'season_yearly'], axis=1)\n",
    "    out_result_df = pd.concat([df, data], axis=0)\n",
    "    out_result_df['ds'] = pd.to_datetime(out_result_df['ds'])\n",
    "    pd.to_pickle(out_result_df, 'data/forecasting/europe_madrid_forecasting.pkl')"
   ]
  },
  {
   "cell_type": "code",
   "execution_count": 68,
   "metadata": {},
   "outputs": [],
   "source": [
    "from neuralprophet import NeuralProphet\n",
    "def model_europe_metrics_madrid(data_file):\n",
    "    df = pd.read_pickle(data_file)\n",
    "    n = NeuralProphet(weekly_seasonality=True, daily_seasonality=True)\n",
    "    df_train, df_test = n.split_df(df=df, freq=\"MS\", valid_p=0.2)\n",
    "    metrics_train = n.fit(df=df_train, freq=\"MS\")\n",
    "    metrics_test = n.test(df=df_test)\n",
    "    return metrics_test"
   ]
  },
  {
   "cell_type": "code",
   "execution_count": 69,
   "metadata": {
    "kubeflow_notebook": {
     "deploy_config": {
      "affinity": {},
      "annotations": {},
      "env": [],
      "env_from": [],
      "labels": {},
      "limits": {},
      "node_selector": {},
      "requests": {},
      "tolerations": []
     }
    },
    "tags": [
     "block:forecasting_rome",
     "prev:process_rome"
    ]
   },
   "outputs": [],
   "source": [
    "from neuralprophet import NeuralProphet\n",
    "def model_europe_rome(data_file):\n",
    "    df = pd.read_pickle(data_file)\n",
    "    n = NeuralProphet(weekly_seasonality=True, daily_seasonality=True)\n",
    "    model = n.fit(df, freq='MS', epochs=5)\n",
    "    future = n.make_future_dataframe(df, periods=15)\n",
    "    forecast = n.predict(future)\n",
    "    data = forecast.drop(['y', 'trend', 'season_yearly'], axis=1)\n",
    "    out_result_df = pd.concat([df, data], axis=0)\n",
    "    out_result_df['ds'] = pd.to_datetime(out_result_df['ds'])\n",
    "    pd.to_pickle(out_result_df, 'data/forecasting/europe_rome_forecasting.pkl')"
   ]
  },
  {
   "cell_type": "code",
   "execution_count": 70,
   "metadata": {},
   "outputs": [],
   "source": [
    "from neuralprophet import NeuralProphet\n",
    "def model_europe_metrics_rome(data_file):\n",
    "    df = pd.read_pickle(data_file)\n",
    "    n = NeuralProphet(weekly_seasonality=True, daily_seasonality=True)\n",
    "    df_train, df_test = n.split_df(df=df, freq=\"MS\", valid_p=0.2)\n",
    "    metrics_train = n.fit(df=df_train, freq=\"MS\")\n",
    "    metrics_test = n.test(df=df_test)\n",
    "    return metrics_test"
   ]
  },
  {
   "cell_type": "code",
   "execution_count": 71,
   "metadata": {
    "kubeflow_notebook": {
     "deploy_config": {
      "affinity": {},
      "annotations": {},
      "env": [],
      "env_from": [],
      "labels": {},
      "limits": {},
      "node_selector": {},
      "requests": {},
      "tolerations": []
     }
    },
    "tags": [
     "block:forecasting_paris",
     "prev:process_paris"
    ]
   },
   "outputs": [],
   "source": [
    "from neuralprophet import NeuralProphet\n",
    "def model_europe_paris(data_file):\n",
    "    df = pd.read_pickle(data_file)\n",
    "    n = NeuralProphet(weekly_seasonality=True, daily_seasonality=True)\n",
    "    model = n.fit(df, freq='MS', epochs=5)\n",
    "    future = n.make_future_dataframe(df, periods=15)\n",
    "    forecast = n.predict(future)\n",
    "    data = forecast.drop(['y', 'trend', 'season_yearly'], axis=1)\n",
    "    out_result_df = pd.concat([df, data], axis=0)\n",
    "    out_result_df['ds'] = pd.to_datetime(out_result_df['ds'])\n",
    "    pd.to_pickle(out_result_df, 'data/forecasting/europe_paris_forecasting.pkl')"
   ]
  },
  {
   "cell_type": "code",
   "execution_count": 72,
   "metadata": {},
   "outputs": [],
   "source": [
    "from neuralprophet import NeuralProphet\n",
    "def model_europe_metrics_paris(data_file):\n",
    "    df = pd.read_pickle(data_file)\n",
    "    n = NeuralProphet(weekly_seasonality=True, daily_seasonality=True)\n",
    "    df_train, df_test = n.split_df(df=df, freq=\"MS\", valid_p=0.2)\n",
    "    metrics_train = n.fit(df=df_train, freq=\"MS\")\n",
    "    metrics_test = n.test(df=df_test)\n",
    "    return metrics_test"
   ]
  },
  {
   "cell_type": "code",
   "execution_count": 73,
   "metadata": {
    "kubeflow_notebook": {
     "deploy_config": {
      "affinity": {},
      "annotations": {},
      "env": [],
      "env_from": [],
      "labels": {},
      "limits": {},
      "node_selector": {},
      "requests": {},
      "tolerations": []
     }
    },
    "tags": [
     "block:forecasting_africa",
     "prev:process_africa"
    ]
   },
   "outputs": [],
   "source": [
    "from neuralprophet import NeuralProphet\n",
    "import pandas as pd\n",
    "def model_africa(data_file):\n",
    "    df = pd.read_pickle(data_file)\n",
    "    n = NeuralProphet(weekly_seasonality=True, daily_seasonality=True)\n",
    "    model = n.fit(df, freq='MS', epochs=5)\n",
    "    future = n.make_future_dataframe(df, periods=15)\n",
    "    forecast = n.predict(future)\n",
    "    data = forecast.drop(['y', 'trend', 'season_yearly'], axis=1)\n",
    "    out_result_df = pd.concat([df, data], axis=0)\n",
    "    out_result_df['ds'] = pd.to_datetime(out_result_df['ds'])\n",
    "    pd.to_pickle(out_result_df, 'data/forecasting/africa_forecasting.pkl')"
   ]
  },
  {
   "cell_type": "code",
   "execution_count": 74,
   "metadata": {},
   "outputs": [],
   "source": [
    "from neuralprophet import NeuralProphet\n",
    "def model_africa_metrics(data_file):\n",
    "    df = pd.read_pickle(data_file)\n",
    "    n = NeuralProphet(weekly_seasonality=True, daily_seasonality=True)\n",
    "    df_train, df_test = n.split_df(df=df, freq=\"MS\", valid_p=0.2)\n",
    "    metrics_train = n.fit(df=df_train, freq=\"MS\")\n",
    "    metrics_test = n.test(df=df_test)\n",
    "    return metrics_test"
   ]
  },
  {
   "cell_type": "code",
   "execution_count": 75,
   "metadata": {
    "kubeflow_notebook": {
     "deploy_config": {
      "affinity": {},
      "annotations": {},
      "env": [],
      "env_from": [],
      "labels": {},
      "limits": {},
      "node_selector": {},
      "requests": {},
      "tolerations": []
     }
    },
    "tags": [
     "block:forecasting_nairobi",
     "prev:process_nairobi"
    ]
   },
   "outputs": [],
   "source": [
    "from neuralprophet import NeuralProphet\n",
    "import pandas as pd\n",
    "def model_africa_nairobi(data_file):\n",
    "    df = pd.read_pickle(data_file)\n",
    "    n = NeuralProphet(weekly_seasonality=True, daily_seasonality=True)\n",
    "    model = n.fit(df, freq='MS', epochs=5)\n",
    "    future = n.make_future_dataframe(df, periods=15)\n",
    "    forecast = n.predict(future)\n",
    "    data = forecast.drop(['y', 'trend', 'season_yearly'], axis=1)\n",
    "    out_result_df = pd.concat([df, data], axis=0)\n",
    "    out_result_df['ds'] = pd.to_datetime(out_result_df['ds'])\n",
    "    pd.to_pickle(out_result_df, 'data/forecasting/africa_nairobi_forecasting.pkl')"
   ]
  },
  {
   "cell_type": "code",
   "execution_count": 76,
   "metadata": {},
   "outputs": [],
   "source": [
    "from neuralprophet import NeuralProphet\n",
    "def model_africa_metrics_nairobi(data_file):\n",
    "    df = pd.read_pickle(data_file)\n",
    "    n = NeuralProphet(weekly_seasonality=True, daily_seasonality=True)\n",
    "    df_train, df_test = n.split_df(df=df, freq=\"MS\", valid_p=0.2)\n",
    "    metrics_train = n.fit(df=df_train, freq=\"MS\")\n",
    "    metrics_test = n.test(df=df_test)\n",
    "    return metrics_test"
   ]
  },
  {
   "cell_type": "code",
   "execution_count": 77,
   "metadata": {
    "kubeflow_notebook": {
     "deploy_config": {
      "affinity": {},
      "annotations": {},
      "env": [],
      "env_from": [],
      "labels": {},
      "limits": {},
      "node_selector": {},
      "requests": {},
      "tolerations": []
     }
    },
    "tags": [
     "block:forecasting_dakar",
     "prev:process_dakar"
    ]
   },
   "outputs": [],
   "source": [
    "from neuralprophet import NeuralProphet\n",
    "import pandas as pd\n",
    "def model_africa_dakar(data_file):\n",
    "    df = pd.read_pickle(data_file)\n",
    "    n = NeuralProphet(weekly_seasonality=True, daily_seasonality=True)\n",
    "    model = n.fit(df, freq='MS', epochs=5)\n",
    "    future = n.make_future_dataframe(df, periods=15)\n",
    "    forecast = n.predict(future)\n",
    "    data = forecast.drop(['y', 'trend', 'season_yearly'], axis=1)\n",
    "    out_result_df = pd.concat([df, data], axis=0)\n",
    "    out_result_df['ds'] = pd.to_datetime(out_result_df['ds'])\n",
    "    pd.to_pickle(out_result_df, 'data/forecasting/africa_dakar_forecasting.pkl')\n",
    "    #out_result_df.to_csv('data/forecasting/africa_forecasting.csv',index=False)"
   ]
  },
  {
   "cell_type": "code",
   "execution_count": 78,
   "metadata": {},
   "outputs": [],
   "source": [
    "from neuralprophet import NeuralProphet\n",
    "def model_africa_metrics_dakar(data_file):\n",
    "    df = pd.read_pickle(data_file)\n",
    "    n = NeuralProphet(weekly_seasonality=True, daily_seasonality=True)\n",
    "    df_train, df_test = n.split_df(df=df, freq=\"MS\", valid_p=0.2)\n",
    "    metrics_train = n.fit(df=df_train, freq=\"MS\")\n",
    "    metrics_test = n.test(df=df_test)\n",
    "    return metrics_test"
   ]
  },
  {
   "cell_type": "code",
   "execution_count": 79,
   "metadata": {
    "kubeflow_notebook": {
     "deploy_config": {
      "affinity": {},
      "annotations": {},
      "env": [],
      "env_from": [],
      "labels": {},
      "limits": {},
      "node_selector": {},
      "requests": {},
      "tolerations": []
     }
    },
    "tags": [
     "block:forecasting_um",
     "prev:process_um"
    ]
   },
   "outputs": [],
   "source": [
    "from neuralprophet import NeuralProphet\n",
    "import pandas as pd\n",
    "def model_africa_um(data_file):\n",
    "    df = pd.read_pickle(data_file)\n",
    "    n = NeuralProphet(weekly_seasonality=True, daily_seasonality=True)\n",
    "    model = n.fit(df, freq='MS', epochs=5)\n",
    "    future = n.make_future_dataframe(df, periods=15)\n",
    "    forecast = n.predict(future)\n",
    "    data = forecast.drop(['y', 'trend', 'season_yearly'], axis=1)\n",
    "    out_result_df = pd.concat([df, data], axis=0)\n",
    "    out_result_df['ds'] = pd.to_datetime(out_result_df['ds'])\n",
    "    pd.to_pickle(out_result_df, 'data/forecasting/africa_um_forecasting.pkl')"
   ]
  },
  {
   "cell_type": "code",
   "execution_count": 80,
   "metadata": {},
   "outputs": [],
   "source": [
    "from neuralprophet import NeuralProphet\n",
    "def model_africa_metrics_um(data_file):\n",
    "    df = pd.read_pickle(data_file)\n",
    "    n = NeuralProphet(weekly_seasonality=True, daily_seasonality=True)\n",
    "    df_train, df_test = n.split_df(df=df, freq=\"MS\", valid_p=0.2)\n",
    "    metrics_train = n.fit(df=df_train, freq=\"MS\")\n",
    "    metrics_test = n.test(df=df_test)\n",
    "    return metrics_test"
   ]
  },
  {
   "cell_type": "code",
   "execution_count": null,
   "metadata": {
    "kubeflow_notebook": {
     "deploy_config": {
      "affinity": {},
      "annotations": {},
      "env": [],
      "env_from": [],
      "labels": {},
      "limits": {},
      "node_selector": {},
      "requests": {},
      "tolerations": []
     }
    },
    "tags": [
     "block:results",
     "prev:forecasting_europe",
     "prev:forecasting_rome",
     "prev:forecasting_madrid",
     "prev:forecasting_paris",
     "prev:forecasting_africa",
     "prev:forecasting_nairobi",
     "prev:forecasting_dakar",
     "prev:forecasting_um"
    ]
   },
   "outputs": [],
   "source": [
    "import os\n",
    "import pandas as pd\n",
    "\n",
    "def show_results(result, metrics):\n",
    "    for k,v in metrics.items():\n",
    "        pd.to_pickle(v, result + k +'.pkl')"
   ]
  },
  {
   "cell_type": "code",
   "execution_count": 82,
   "metadata": {
    "kubeflow_notebook": {
     "deploy_config": {
      "affinity": {},
      "annotations": {},
      "env": [],
      "env_from": [],
      "labels": {},
      "limits": {},
      "node_selector": {},
      "requests": {},
      "tolerations": []
     }
    },
    "tags": [
     "block:forecasting",
     "prev:process_europe",
     "prev:process_madrid",
     "prev:process_rome",
     "prev:process_paris",
     "prev:process_africa",
     "prev:process_dakar",
     "prev:process_um",
     "prev:process_nairobi",
     "prev:forecasting_madrid",
     "prev:forecasting_rome",
     "prev:forecasting_paris",
     "prev:forecasting_europe",
     "prev:forecasting_africa",
     "prev:forecasting_nairobi",
     "prev:forecasting_um",
     "prev:forecasting_dakar",
     "prev:results"
    ]
   },
   "outputs": [],
   "source": [
    "def forecasting():\n",
    "    data_file = 'database.csv'\n",
    "\n",
    "    data_europe = 'data/europe_dataset.pkl'\n",
    "    #\"\"\"\n",
    "    data_europe_rome = 'data/europe_rome_dataset.pkl'\n",
    "    data_europe_paris = 'data/europe_paris_dataset.pkl'\n",
    "    data_europe_madrid = 'data/europe_madrid_dataset.pkl'\n",
    "    \n",
    "    data_africa = 'data/africa_dataset.pkl'\n",
    "\n",
    "    data_africa_dakar = 'data/africa_dakar_dataset.pkl'\n",
    "    data_africa_nairobi = 'data/africa_nairobi_dataset.pkl'\n",
    "    data_africa_um = 'data/africa_um_dataset.pkl'\n",
    "    #\"\"\"\n",
    "    # Run download_data task\n",
    "    pre_processing_data_europe(data_file)\n",
    "    #\"\"\"\n",
    "    pre_processing_data_europe_rome(data_file)\n",
    "    pre_processing_data_europe_paris(data_file)\n",
    "    pre_processing_data_europe_madrid(data_file)\n",
    "\n",
    "    pre_processing_data_africa(data_file)\n",
    "    pre_processing_data_africa_dakar(data_file)\n",
    "    pre_processing_data_africa_nairobi(data_file)\n",
    "    pre_processing_data_africa_um(data_file)\n",
    "    #\"\"\"    \n",
    "    model_europe(data_europe)\n",
    "    #\"\"\"\n",
    "    model_europe_madrid(data_europe_madrid)\n",
    "    model_europe_paris(data_europe_paris)\n",
    "    model_europe_rome(data_europe_rome)\n",
    "    \n",
    "    model_africa(data_africa)\n",
    "    model_africa_dakar(data_africa_dakar)\n",
    "    model_africa_nairobi(data_africa_nairobi)\n",
    "    model_africa_um(data_africa_um)\n",
    "\n",
    "    metrics_europe = model_europe_metrics(data_europe)\n",
    "    #\"\"\"\n",
    "    metrics_europe_madrid = model_europe_metrics_madrid(data_europe_madrid)\n",
    "    metrics_europe_paris = model_europe_metrics_paris(data_europe_paris)\n",
    "    metrics_europe_rome = model_europe_metrics_rome(data_europe_rome)\n",
    "    \n",
    "    metrics_africa = model_africa_metrics(data_africa)\n",
    "    metrics_africa_dakar = model_africa_metrics_dakar(data_africa_dakar)\n",
    "    metrics_africa_nairobi = model_africa_metrics_nairobi(data_africa_nairobi)\n",
    "    metrics_africa_um = model_africa_metrics_um(data_africa_um)\n",
    "   # \"\"\"\n",
    "\n",
    "    metrics = { 'europe' : metrics_europe,\n",
    "                'madrid' : metrics_europe_madrid,\n",
    "                'paris' : metrics_europe_paris,\n",
    "                'rome' : metrics_europe_rome,\n",
    "                'africa' : metrics_africa,\n",
    "                'dakar' : metrics_africa_dakar,\n",
    "                'nairobi' : metrics_africa_nairobi,\n",
    "                'africa' : metrics_africa_um}\n",
    "\n",
    "\n",
    "    show_results('results/', metrics)"
   ]
  },
  {
   "cell_type": "code",
   "execution_count": 83,
   "metadata": {
    "tags": []
   },
   "outputs": [
    {
     "name": "stderr",
     "output_type": "stream",
     "text": [
      "INFO - (NP.df_utils._infer_frequency) - Major frequency MS corresponds to 91.258% of the data.\n",
      "INFO - (NP.df_utils._infer_frequency) - Defined frequency is equal to major frequency - MS\n",
      "INFO - (NP.config.init_data_params) - Setting normalization to global as only one dataframe provided for training.\n",
      "INFO - (NP.config.set_auto_batch_epoch) - Auto-set batch_size to 32\n",
      "WARNING - (NP.config.set_lr_finder_args) - Learning rate finder: The number of batches (104) is too small than the required number for the learning rate finder (238). The results might not be optimal.\n"
     ]
    },
    {
     "data": {
      "application/vnd.jupyter.widget-view+json": {
       "model_id": "8a156a19b073446589fd88a06786f756",
       "version_major": 2,
       "version_minor": 0
      },
      "text/plain": [
       "Finding best initial lr:   0%|          | 0/238 [00:00<?, ?it/s]"
      ]
     },
     "metadata": {},
     "output_type": "display_data"
    },
    {
     "data": {
      "application/vnd.jupyter.widget-view+json": {
       "model_id": "b6f79274dbc74222bbe754e9c0452191",
       "version_major": 2,
       "version_minor": 0
      },
      "text/plain": [
       "Training: 0it [00:00, ?it/s]"
      ]
     },
     "metadata": {},
     "output_type": "display_data"
    },
    {
     "name": "stderr",
     "output_type": "stream",
     "text": [
      "INFO - (NP.df_utils._infer_frequency) - Major frequency MS corresponds to 91.258% of the data.\n",
      "INFO - (NP.df_utils._infer_frequency) - Defined frequency is equal to major frequency - MS\n",
      "INFO - (NP.df_utils.return_df_in_original_format) - Returning df with no ID column\n",
      "INFO - (NP.df_utils._infer_frequency) - Major frequency MS corresponds to 80.0% of the data.\n",
      "INFO - (NP.df_utils._infer_frequency) - Defined frequency is equal to major frequency - MS\n",
      "INFO - (NP.df_utils._infer_frequency) - Major frequency MS corresponds to 80.0% of the data.\n",
      "INFO - (NP.df_utils._infer_frequency) - Defined frequency is equal to major frequency - MS\n"
     ]
    },
    {
     "data": {
      "application/vnd.jupyter.widget-view+json": {
       "model_id": "cccc4a0593e54287bbf318d923a4f8f8",
       "version_major": 2,
       "version_minor": 0
      },
      "text/plain": [
       "Predicting: 104it [00:00, ?it/s]"
      ]
     },
     "metadata": {},
     "output_type": "display_data"
    },
    {
     "name": "stderr",
     "output_type": "stream",
     "text": [
      "INFO - (NP.df_utils.return_df_in_original_format) - Returning df with no ID column\n",
      "INFO - (NP.df_utils._infer_frequency) - Major frequency MS corresponds to 91.258% of the data.\n",
      "INFO - (NP.df_utils._infer_frequency) - Defined frequency is equal to major frequency - MS\n",
      "INFO - (NP.config.init_data_params) - Setting normalization to global as only one dataframe provided for training.\n",
      "INFO - (NP.config.set_auto_batch_epoch) - Auto-set batch_size to 32\n",
      "WARNING - (NP.config.set_lr_finder_args) - Learning rate finder: The number of batches (104) is too small than the required number for the learning rate finder (238). The results might not be optimal.\n"
     ]
    },
    {
     "data": {
      "application/vnd.jupyter.widget-view+json": {
       "model_id": "c6740bfe22974dcbae85346bc8790ee4",
       "version_major": 2,
       "version_minor": 0
      },
      "text/plain": [
       "Finding best initial lr:   0%|          | 0/238 [00:00<?, ?it/s]"
      ]
     },
     "metadata": {},
     "output_type": "display_data"
    },
    {
     "data": {
      "application/vnd.jupyter.widget-view+json": {
       "model_id": "905b75df549947748a9f2ac79119f4e3",
       "version_major": 2,
       "version_minor": 0
      },
      "text/plain": [
       "Training: 0it [00:00, ?it/s]"
      ]
     },
     "metadata": {},
     "output_type": "display_data"
    },
    {
     "name": "stderr",
     "output_type": "stream",
     "text": [
      "INFO - (NP.df_utils._infer_frequency) - Major frequency MS corresponds to 91.258% of the data.\n",
      "INFO - (NP.df_utils._infer_frequency) - Defined frequency is equal to major frequency - MS\n",
      "INFO - (NP.df_utils.return_df_in_original_format) - Returning df with no ID column\n",
      "INFO - (NP.df_utils._infer_frequency) - Major frequency MS corresponds to 80.0% of the data.\n",
      "INFO - (NP.df_utils._infer_frequency) - Defined frequency is equal to major frequency - MS\n",
      "INFO - (NP.df_utils._infer_frequency) - Major frequency MS corresponds to 80.0% of the data.\n",
      "INFO - (NP.df_utils._infer_frequency) - Defined frequency is equal to major frequency - MS\n"
     ]
    },
    {
     "data": {
      "application/vnd.jupyter.widget-view+json": {
       "model_id": "c7cc23374db24ac1bee26d97431ebb21",
       "version_major": 2,
       "version_minor": 0
      },
      "text/plain": [
       "Predicting: 104it [00:00, ?it/s]"
      ]
     },
     "metadata": {},
     "output_type": "display_data"
    },
    {
     "name": "stderr",
     "output_type": "stream",
     "text": [
      "INFO - (NP.df_utils.return_df_in_original_format) - Returning df with no ID column\n",
      "INFO - (NP.df_utils._infer_frequency) - Major frequency MS corresponds to 91.258% of the data.\n",
      "INFO - (NP.df_utils._infer_frequency) - Defined frequency is equal to major frequency - MS\n",
      "INFO - (NP.config.init_data_params) - Setting normalization to global as only one dataframe provided for training.\n",
      "INFO - (NP.config.set_auto_batch_epoch) - Auto-set batch_size to 32\n",
      "WARNING - (NP.config.set_lr_finder_args) - Learning rate finder: The number of batches (104) is too small than the required number for the learning rate finder (238). The results might not be optimal.\n"
     ]
    },
    {
     "data": {
      "application/vnd.jupyter.widget-view+json": {
       "model_id": "dff4102b399f4de89654ca7dec33e1a0",
       "version_major": 2,
       "version_minor": 0
      },
      "text/plain": [
       "Finding best initial lr:   0%|          | 0/238 [00:00<?, ?it/s]"
      ]
     },
     "metadata": {},
     "output_type": "display_data"
    },
    {
     "data": {
      "application/vnd.jupyter.widget-view+json": {
       "model_id": "d12fe7e0a4304697a4ecf2da233ab72a",
       "version_major": 2,
       "version_minor": 0
      },
      "text/plain": [
       "Training: 0it [00:00, ?it/s]"
      ]
     },
     "metadata": {},
     "output_type": "display_data"
    },
    {
     "name": "stderr",
     "output_type": "stream",
     "text": [
      "INFO - (NP.df_utils._infer_frequency) - Major frequency MS corresponds to 91.258% of the data.\n",
      "INFO - (NP.df_utils._infer_frequency) - Defined frequency is equal to major frequency - MS\n",
      "INFO - (NP.df_utils.return_df_in_original_format) - Returning df with no ID column\n",
      "INFO - (NP.df_utils._infer_frequency) - Major frequency MS corresponds to 80.0% of the data.\n",
      "INFO - (NP.df_utils._infer_frequency) - Defined frequency is equal to major frequency - MS\n",
      "INFO - (NP.df_utils._infer_frequency) - Major frequency MS corresponds to 80.0% of the data.\n",
      "INFO - (NP.df_utils._infer_frequency) - Defined frequency is equal to major frequency - MS\n"
     ]
    },
    {
     "data": {
      "application/vnd.jupyter.widget-view+json": {
       "model_id": "9b073c2ae62245ff984bf378e755ba2e",
       "version_major": 2,
       "version_minor": 0
      },
      "text/plain": [
       "Predicting: 104it [00:00, ?it/s]"
      ]
     },
     "metadata": {},
     "output_type": "display_data"
    },
    {
     "name": "stderr",
     "output_type": "stream",
     "text": [
      "INFO - (NP.df_utils.return_df_in_original_format) - Returning df with no ID column\n",
      "INFO - (NP.df_utils._infer_frequency) - Major frequency MS corresponds to 91.258% of the data.\n",
      "INFO - (NP.df_utils._infer_frequency) - Defined frequency is equal to major frequency - MS\n",
      "INFO - (NP.config.init_data_params) - Setting normalization to global as only one dataframe provided for training.\n",
      "INFO - (NP.config.set_auto_batch_epoch) - Auto-set batch_size to 32\n",
      "WARNING - (NP.config.set_lr_finder_args) - Learning rate finder: The number of batches (104) is too small than the required number for the learning rate finder (238). The results might not be optimal.\n"
     ]
    },
    {
     "data": {
      "application/vnd.jupyter.widget-view+json": {
       "model_id": "22319784b0f649b1a27d3dad037e560d",
       "version_major": 2,
       "version_minor": 0
      },
      "text/plain": [
       "Finding best initial lr:   0%|          | 0/238 [00:00<?, ?it/s]"
      ]
     },
     "metadata": {},
     "output_type": "display_data"
    },
    {
     "data": {
      "application/vnd.jupyter.widget-view+json": {
       "model_id": "9faa1680f3e94e10ab9882a23dbbadf8",
       "version_major": 2,
       "version_minor": 0
      },
      "text/plain": [
       "Training: 0it [00:00, ?it/s]"
      ]
     },
     "metadata": {},
     "output_type": "display_data"
    },
    {
     "name": "stderr",
     "output_type": "stream",
     "text": [
      "INFO - (NP.df_utils._infer_frequency) - Major frequency MS corresponds to 91.258% of the data.\n",
      "INFO - (NP.df_utils._infer_frequency) - Defined frequency is equal to major frequency - MS\n",
      "INFO - (NP.df_utils.return_df_in_original_format) - Returning df with no ID column\n",
      "INFO - (NP.df_utils._infer_frequency) - Major frequency MS corresponds to 80.0% of the data.\n",
      "INFO - (NP.df_utils._infer_frequency) - Defined frequency is equal to major frequency - MS\n",
      "INFO - (NP.df_utils._infer_frequency) - Major frequency MS corresponds to 80.0% of the data.\n",
      "INFO - (NP.df_utils._infer_frequency) - Defined frequency is equal to major frequency - MS\n"
     ]
    },
    {
     "data": {
      "application/vnd.jupyter.widget-view+json": {
       "model_id": "7ac17018e98a4a10bc196342ee0b15bd",
       "version_major": 2,
       "version_minor": 0
      },
      "text/plain": [
       "Predicting: 104it [00:00, ?it/s]"
      ]
     },
     "metadata": {},
     "output_type": "display_data"
    },
    {
     "name": "stderr",
     "output_type": "stream",
     "text": [
      "INFO - (NP.df_utils.return_df_in_original_format) - Returning df with no ID column\n",
      "INFO - (NP.df_utils._infer_frequency) - Major frequency MS corresponds to 91.627% of the data.\n",
      "INFO - (NP.df_utils._infer_frequency) - Defined frequency is equal to major frequency - MS\n",
      "INFO - (NP.config.init_data_params) - Setting normalization to global as only one dataframe provided for training.\n",
      "INFO - (NP.config.set_auto_batch_epoch) - Auto-set batch_size to 32\n",
      "WARNING - (NP.config.set_lr_finder_args) - Learning rate finder: The number of batches (98) is too small than the required number for the learning rate finder (237). The results might not be optimal.\n"
     ]
    },
    {
     "data": {
      "application/vnd.jupyter.widget-view+json": {
       "model_id": "f84b6846c64741d78fc177003a4ebde0",
       "version_major": 2,
       "version_minor": 0
      },
      "text/plain": [
       "Finding best initial lr:   0%|          | 0/237 [00:00<?, ?it/s]"
      ]
     },
     "metadata": {},
     "output_type": "display_data"
    },
    {
     "data": {
      "application/vnd.jupyter.widget-view+json": {
       "model_id": "9a36c506e5054627b7239d96b343c72f",
       "version_major": 2,
       "version_minor": 0
      },
      "text/plain": [
       "Training: 0it [00:00, ?it/s]"
      ]
     },
     "metadata": {},
     "output_type": "display_data"
    },
    {
     "name": "stderr",
     "output_type": "stream",
     "text": [
      "INFO - (NP.df_utils._infer_frequency) - Major frequency MS corresponds to 91.627% of the data.\n",
      "INFO - (NP.df_utils._infer_frequency) - Defined frequency is equal to major frequency - MS\n",
      "INFO - (NP.df_utils.return_df_in_original_format) - Returning df with no ID column\n",
      "INFO - (NP.df_utils._infer_frequency) - Major frequency MS corresponds to 80.0% of the data.\n",
      "INFO - (NP.df_utils._infer_frequency) - Defined frequency is equal to major frequency - MS\n",
      "INFO - (NP.df_utils._infer_frequency) - Major frequency MS corresponds to 80.0% of the data.\n",
      "INFO - (NP.df_utils._infer_frequency) - Defined frequency is equal to major frequency - MS\n"
     ]
    },
    {
     "data": {
      "application/vnd.jupyter.widget-view+json": {
       "model_id": "88593f55f4c14687a312e7a120753898",
       "version_major": 2,
       "version_minor": 0
      },
      "text/plain": [
       "Predicting: 98it [00:00, ?it/s]"
      ]
     },
     "metadata": {},
     "output_type": "display_data"
    },
    {
     "name": "stderr",
     "output_type": "stream",
     "text": [
      "INFO - (NP.df_utils.return_df_in_original_format) - Returning df with no ID column\n",
      "INFO - (NP.df_utils._infer_frequency) - Major frequency MS corresponds to 90.736% of the data.\n",
      "INFO - (NP.df_utils._infer_frequency) - Defined frequency is equal to major frequency - MS\n",
      "INFO - (NP.config.init_data_params) - Setting normalization to global as only one dataframe provided for training.\n",
      "INFO - (NP.config.set_auto_batch_epoch) - Auto-set batch_size to 32\n",
      "WARNING - (NP.config.set_lr_finder_args) - Learning rate finder: The number of batches (60) is too small than the required number for the learning rate finder (232). The results might not be optimal.\n"
     ]
    },
    {
     "data": {
      "application/vnd.jupyter.widget-view+json": {
       "model_id": "8f0093003129404e9027414b67469b60",
       "version_major": 2,
       "version_minor": 0
      },
      "text/plain": [
       "Finding best initial lr:   0%|          | 0/232 [00:00<?, ?it/s]"
      ]
     },
     "metadata": {},
     "output_type": "display_data"
    },
    {
     "data": {
      "application/vnd.jupyter.widget-view+json": {
       "model_id": "f47565ec79504ebc9fb86a15dcfa93dc",
       "version_major": 2,
       "version_minor": 0
      },
      "text/plain": [
       "Training: 0it [00:00, ?it/s]"
      ]
     },
     "metadata": {},
     "output_type": "display_data"
    },
    {
     "name": "stderr",
     "output_type": "stream",
     "text": [
      "WARNING - (py.warnings._showwarnmsg) - c:\\Users\\aless\\AppData\\Local\\Programs\\Python\\Python39\\lib\\site-packages\\pytorch_lightning\\trainer\\trainer.py:653: UserWarning: Detected KeyboardInterrupt, attempting graceful shutdown...\n",
      "  rank_zero_warn(\"Detected KeyboardInterrupt, attempting graceful shutdown...\")\n",
      "\n",
      "INFO - (NP.df_utils._infer_frequency) - Major frequency MS corresponds to 90.736% of the data.\n",
      "INFO - (NP.df_utils._infer_frequency) - Defined frequency is equal to major frequency - MS\n",
      "INFO - (NP.df_utils.return_df_in_original_format) - Returning df with no ID column\n",
      "INFO - (NP.df_utils._infer_frequency) - Major frequency MS corresponds to 80.0% of the data.\n",
      "INFO - (NP.df_utils._infer_frequency) - Defined frequency is equal to major frequency - MS\n",
      "INFO - (NP.df_utils._infer_frequency) - Major frequency MS corresponds to 80.0% of the data.\n",
      "INFO - (NP.df_utils._infer_frequency) - Defined frequency is equal to major frequency - MS\n"
     ]
    },
    {
     "data": {
      "application/vnd.jupyter.widget-view+json": {
       "model_id": "83ed8e9d1774407381260edf0b28e179",
       "version_major": 2,
       "version_minor": 0
      },
      "text/plain": [
       "Predicting: 23it [00:00, ?it/s]"
      ]
     },
     "metadata": {},
     "output_type": "display_data"
    },
    {
     "name": "stderr",
     "output_type": "stream",
     "text": [
      "INFO - (NP.df_utils.return_df_in_original_format) - Returning df with no ID column\n",
      "INFO - (NP.df_utils._infer_frequency) - Major frequency MS corresponds to 91.483% of the data.\n",
      "INFO - (NP.df_utils._infer_frequency) - Defined frequency is equal to major frequency - MS\n",
      "INFO - (NP.config.init_data_params) - Setting normalization to global as only one dataframe provided for training.\n",
      "INFO - (NP.config.set_auto_batch_epoch) - Auto-set batch_size to 32\n",
      "WARNING - (NP.config.set_lr_finder_args) - Learning rate finder: The number of batches (53) is too small than the required number for the learning rate finder (231). The results might not be optimal.\n"
     ]
    },
    {
     "data": {
      "application/vnd.jupyter.widget-view+json": {
       "model_id": "b6028bee76074f7b9faeab2b1762773c",
       "version_major": 2,
       "version_minor": 0
      },
      "text/plain": [
       "Finding best initial lr:   0%|          | 0/231 [00:00<?, ?it/s]"
      ]
     },
     "metadata": {},
     "output_type": "display_data"
    },
    {
     "data": {
      "application/vnd.jupyter.widget-view+json": {
       "model_id": "8750d628d2074b9bbfe04449776ef7ec",
       "version_major": 2,
       "version_minor": 0
      },
      "text/plain": [
       "Training: 0it [00:00, ?it/s]"
      ]
     },
     "metadata": {},
     "output_type": "display_data"
    },
    {
     "name": "stderr",
     "output_type": "stream",
     "text": [
      "INFO - (NP.df_utils._infer_frequency) - Major frequency MS corresponds to 91.483% of the data.\n",
      "INFO - (NP.df_utils._infer_frequency) - Defined frequency is equal to major frequency - MS\n",
      "INFO - (NP.df_utils.return_df_in_original_format) - Returning df with no ID column\n",
      "INFO - (NP.df_utils._infer_frequency) - Major frequency MS corresponds to 80.0% of the data.\n",
      "INFO - (NP.df_utils._infer_frequency) - Defined frequency is equal to major frequency - MS\n",
      "INFO - (NP.df_utils._infer_frequency) - Major frequency MS corresponds to 80.0% of the data.\n",
      "INFO - (NP.df_utils._infer_frequency) - Defined frequency is equal to major frequency - MS\n"
     ]
    },
    {
     "data": {
      "application/vnd.jupyter.widget-view+json": {
       "model_id": "9d38ef9a57ba47aab2c2e1211a5517dc",
       "version_major": 2,
       "version_minor": 0
      },
      "text/plain": [
       "Predicting: 53it [00:00, ?it/s]"
      ]
     },
     "metadata": {},
     "output_type": "display_data"
    },
    {
     "name": "stderr",
     "output_type": "stream",
     "text": [
      "INFO - (NP.df_utils.return_df_in_original_format) - Returning df with no ID column\n",
      "INFO - (NP.df_utils._infer_frequency) - Major frequency MS corresponds to 91.538% of the data.\n",
      "INFO - (NP.df_utils._infer_frequency) - Defined frequency is equal to major frequency - MS\n",
      "INFO - (NP.config.init_data_params) - Setting normalization to global as only one dataframe provided for training.\n",
      "INFO - (NP.config.set_auto_batch_epoch) - Auto-set batch_size to 32\n",
      "WARNING - (NP.config.set_lr_finder_args) - Learning rate finder: The number of batches (57) is too small than the required number for the learning rate finder (232). The results might not be optimal.\n"
     ]
    },
    {
     "data": {
      "application/vnd.jupyter.widget-view+json": {
       "model_id": "81ee1c31413947b285d44cc049c42917",
       "version_major": 2,
       "version_minor": 0
      },
      "text/plain": [
       "Finding best initial lr:   0%|          | 0/232 [00:00<?, ?it/s]"
      ]
     },
     "metadata": {},
     "output_type": "display_data"
    },
    {
     "data": {
      "application/vnd.jupyter.widget-view+json": {
       "model_id": "b149fa851e6c44069043b3bd16806657",
       "version_major": 2,
       "version_minor": 0
      },
      "text/plain": [
       "Training: 0it [00:00, ?it/s]"
      ]
     },
     "metadata": {},
     "output_type": "display_data"
    },
    {
     "name": "stderr",
     "output_type": "stream",
     "text": [
      "INFO - (NP.df_utils._infer_frequency) - Major frequency MS corresponds to 91.538% of the data.\n",
      "INFO - (NP.df_utils._infer_frequency) - Defined frequency is equal to major frequency - MS\n",
      "INFO - (NP.df_utils.return_df_in_original_format) - Returning df with no ID column\n",
      "INFO - (NP.df_utils._infer_frequency) - Major frequency MS corresponds to 80.0% of the data.\n",
      "INFO - (NP.df_utils._infer_frequency) - Defined frequency is equal to major frequency - MS\n",
      "INFO - (NP.df_utils._infer_frequency) - Major frequency MS corresponds to 80.0% of the data.\n",
      "INFO - (NP.df_utils._infer_frequency) - Defined frequency is equal to major frequency - MS\n"
     ]
    },
    {
     "data": {
      "application/vnd.jupyter.widget-view+json": {
       "model_id": "02a27368fe5743f1be75d8a82fe3cf78",
       "version_major": 2,
       "version_minor": 0
      },
      "text/plain": [
       "Predicting: 57it [00:00, ?it/s]"
      ]
     },
     "metadata": {},
     "output_type": "display_data"
    },
    {
     "name": "stderr",
     "output_type": "stream",
     "text": [
      "INFO - (NP.df_utils.return_df_in_original_format) - Returning df with no ID column\n",
      "INFO - (NP.df_utils._infer_frequency) - Major frequency MS corresponds to 91.258% of the data.\n",
      "INFO - (NP.df_utils._infer_frequency) - Defined frequency is equal to major frequency - MS\n",
      "INFO - (NP.df_utils.return_df_in_original_format) - Returning df with no ID column\n",
      "INFO - (NP.df_utils.return_df_in_original_format) - Returning df with no ID column\n",
      "INFO - (NP.df_utils._infer_frequency) - Major frequency MS corresponds to 91.153% of the data.\n",
      "INFO - (NP.df_utils._infer_frequency) - Defined frequency is equal to major frequency - MS\n",
      "INFO - (NP.config.init_data_params) - Setting normalization to global as only one dataframe provided for training.\n",
      "INFO - (NP.config.set_auto_batch_epoch) - Auto-set batch_size to 32\n",
      "INFO - (NP.config.set_auto_batch_epoch) - Auto-set epochs to 146\n",
      "WARNING - (NP.config.set_lr_finder_args) - Learning rate finder: The number of batches (83) is too small than the required number for the learning rate finder (235). The results might not be optimal.\n"
     ]
    },
    {
     "data": {
      "application/vnd.jupyter.widget-view+json": {
       "model_id": "2f7e7f9c57c84a61b0cba847a3e9aff0",
       "version_major": 2,
       "version_minor": 0
      },
      "text/plain": [
       "Finding best initial lr:   0%|          | 0/235 [00:00<?, ?it/s]"
      ]
     },
     "metadata": {},
     "output_type": "display_data"
    },
    {
     "data": {
      "application/vnd.jupyter.widget-view+json": {
       "model_id": "b561ca697be3434a8a7a49f0c643481e",
       "version_major": 2,
       "version_minor": 0
      },
      "text/plain": [
       "Training: 0it [00:00, ?it/s]"
      ]
     },
     "metadata": {},
     "output_type": "display_data"
    },
    {
     "name": "stderr",
     "output_type": "stream",
     "text": [
      "WARNING - (py.warnings._showwarnmsg) - c:\\Users\\aless\\AppData\\Local\\Programs\\Python\\Python39\\lib\\site-packages\\pytorch_lightning\\trainer\\trainer.py:653: UserWarning: Detected KeyboardInterrupt, attempting graceful shutdown...\n",
      "  rank_zero_warn(\"Detected KeyboardInterrupt, attempting graceful shutdown...\")\n",
      "\n",
      "INFO - (NP.df_utils._infer_frequency) - Major frequency MS corresponds to 91.528% of the data.\n",
      "INFO - (NP.df_utils._infer_frequency) - Defined frequency is equal to major frequency - MS\n"
     ]
    },
    {
     "data": {
      "application/vnd.jupyter.widget-view+json": {
       "model_id": "b8dd4ed8fd5b48e9b932ccbbc02e5639",
       "version_major": 2,
       "version_minor": 0
      },
      "text/plain": [
       "Testing: 0it [00:00, ?it/s]"
      ]
     },
     "metadata": {},
     "output_type": "display_data"
    },
    {
     "data": {
      "text/html": [
       "<pre style=\"white-space:pre;overflow-x:auto;line-height:normal;font-family:Menlo,'DejaVu Sans Mono',consolas,'Courier New',monospace\">┏━━━━━━━━━━━━━━━━━━━━━━━━━━━┳━━━━━━━━━━━━━━━━━━━━━━━━━━━┓\n",
       "┃<span style=\"font-weight: bold\">        Test metric        </span>┃<span style=\"font-weight: bold\">       DataLoader 0        </span>┃\n",
       "┡━━━━━━━━━━━━━━━━━━━━━━━━━━━╇━━━━━━━━━━━━━━━━━━━━━━━━━━━┩\n",
       "│<span style=\"color: #008080; text-decoration-color: #008080\">         Loss_test         </span>│<span style=\"color: #800080; text-decoration-color: #800080\">   0.018805449828505516    </span>│\n",
       "│<span style=\"color: #008080; text-decoration-color: #008080\">       RegLoss_test        </span>│<span style=\"color: #800080; text-decoration-color: #800080\">            0.0            </span>│\n",
       "└───────────────────────────┴───────────────────────────┘\n",
       "</pre>\n"
      ],
      "text/plain": [
       "┏━━━━━━━━━━━━━━━━━━━━━━━━━━━┳━━━━━━━━━━━━━━━━━━━━━━━━━━━┓\n",
       "┃\u001b[1m \u001b[0m\u001b[1m       Test metric       \u001b[0m\u001b[1m \u001b[0m┃\u001b[1m \u001b[0m\u001b[1m      DataLoader 0       \u001b[0m\u001b[1m \u001b[0m┃\n",
       "┡━━━━━━━━━━━━━━━━━━━━━━━━━━━╇━━━━━━━━━━━━━━━━━━━━━━━━━━━┩\n",
       "│\u001b[36m \u001b[0m\u001b[36m        Loss_test        \u001b[0m\u001b[36m \u001b[0m│\u001b[35m \u001b[0m\u001b[35m  0.018805449828505516   \u001b[0m\u001b[35m \u001b[0m│\n",
       "│\u001b[36m \u001b[0m\u001b[36m      RegLoss_test       \u001b[0m\u001b[36m \u001b[0m│\u001b[35m \u001b[0m\u001b[35m           0.0           \u001b[0m\u001b[35m \u001b[0m│\n",
       "└───────────────────────────┴───────────────────────────┘\n"
      ]
     },
     "metadata": {},
     "output_type": "display_data"
    },
    {
     "name": "stderr",
     "output_type": "stream",
     "text": [
      "INFO - (NP.df_utils._infer_frequency) - Major frequency MS corresponds to 91.258% of the data.\n",
      "INFO - (NP.df_utils._infer_frequency) - Defined frequency is equal to major frequency - MS\n",
      "INFO - (NP.df_utils.return_df_in_original_format) - Returning df with no ID column\n",
      "INFO - (NP.df_utils.return_df_in_original_format) - Returning df with no ID column\n",
      "INFO - (NP.df_utils._infer_frequency) - Major frequency MS corresponds to 91.153% of the data.\n",
      "INFO - (NP.df_utils._infer_frequency) - Defined frequency is equal to major frequency - MS\n",
      "INFO - (NP.config.init_data_params) - Setting normalization to global as only one dataframe provided for training.\n",
      "INFO - (NP.config.set_auto_batch_epoch) - Auto-set batch_size to 32\n",
      "INFO - (NP.config.set_auto_batch_epoch) - Auto-set epochs to 146\n",
      "WARNING - (NP.config.set_lr_finder_args) - Learning rate finder: The number of batches (83) is too small than the required number for the learning rate finder (235). The results might not be optimal.\n"
     ]
    },
    {
     "data": {
      "application/vnd.jupyter.widget-view+json": {
       "model_id": "725af6d56f224331ad15b90b9f14464e",
       "version_major": 2,
       "version_minor": 0
      },
      "text/plain": [
       "Finding best initial lr:   0%|          | 0/235 [00:00<?, ?it/s]"
      ]
     },
     "metadata": {},
     "output_type": "display_data"
    },
    {
     "data": {
      "application/vnd.jupyter.widget-view+json": {
       "model_id": "a7cc358c4f734022ae4afa6d0cd7eb5b",
       "version_major": 2,
       "version_minor": 0
      },
      "text/plain": [
       "Training: 0it [00:00, ?it/s]"
      ]
     },
     "metadata": {},
     "output_type": "display_data"
    }
   ],
   "source": [
    "forecasting()"
   ]
  }
 ],
 "metadata": {
  "kernelspec": {
   "display_name": "Python 3 (ipykernel)",
   "language": "python",
   "name": "python3"
  },
  "kubeflow_notebook": {
   "autosnapshot": true,
   "deploy_config": {},
   "docker_image": "gcr.io/arrikto/jupyter-kale-py38@sha256:2e1ce3427b780c0c78e7cfec527ee10c391092fdc4a8344cd76f8b83c61c5234",
   "experiment_name": "temperature",
   "katib_metadata": {
    "algorithm": {
     "algorithmName": "grid"
    },
    "maxFailedTrialCount": 3,
    "maxTrialCount": 12,
    "objective": {
     "objectiveMetricName": "",
     "type": "minimize"
    },
    "parallelTrialCount": 3,
    "parameters": []
   },
   "katib_run": false,
   "pipeline_description": "",
   "pipeline_name": "temperature",
   "snapshot_volumes": true,
   "volume_access_mode": "rwm",
   "volumes": [
    {
     "annotations": [],
     "mount_point": "/home/jovyan",
     "name": "forecasting-workspace-f8qsd",
     "size": 80,
     "size_type": "Gi",
     "snapshot": false,
     "type": "clone"
    }
   ]
  },
  "language_info": {
   "codemirror_mode": {
    "name": "ipython",
    "version": 3
   },
   "file_extension": ".py",
   "mimetype": "text/x-python",
   "name": "python",
   "nbconvert_exporter": "python",
   "pygments_lexer": "ipython3",
   "version": "3.9.0"
  },
  "vscode": {
   "interpreter": {
    "hash": "54d40a8d706b082090ba4f4c3f8e18179a1fa8c2ff26f9ae08651dbcb7b8ab81"
   }
  }
 },
 "nbformat": 4,
 "nbformat_minor": 4
}
